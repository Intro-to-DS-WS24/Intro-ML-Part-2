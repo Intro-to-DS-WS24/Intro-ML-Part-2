{
 "cells": [
  {
   "cell_type": "markdown",
   "metadata": {
    "id": "PiQGo4Gfydzh",
    "slideshow": {
     "slide_type": "slide"
    }
   },
   "source": [
    "<div class='bar_title'></div>\n",
    "\n",
    "*Introduction to Data Science*\n",
    "\n",
    "# Modeling (aka. Machine Learning)\n",
    "\n",
    "Gunther Gust<br>\n",
    "Chair of Enterprise AI\n",
    "\n",
    "Winter Semester 24/25"
   ]
  },
  {
   "cell_type": "markdown",
   "metadata": {
    "id": "o6YntqqTydzi"
   },
   "source": [
    "<img src=\"https://raw.githubusercontent.com/GuntherGust/tds2_data/main/images/d3.png?raw=1\" style=\"width:20%; float:left;\" />"
   ]
  },
  {
   "cell_type": "markdown",
   "metadata": {
    "id": "9FmJUl6kydzi",
    "slideshow": {
     "slide_type": "slide"
    }
   },
   "source": [
    "<img src=\"https://raw.githubusercontent.com/vhaus63/ids_data/main/ao_modeling.png\" style=\"width:80%\" />\n"
   ]
  },
  {
   "cell_type": "markdown",
   "metadata": {
    "id": "8_xOz6Kkydzi",
    "slideshow": {
     "slide_type": "slide"
    }
   },
   "source": [
    "# Content\n",
    "\n",
    "## Building a machine learning pipeline\n",
    "\n",
    "* Data Selection\n",
    "* Model Training\n",
    "* Model Evaluation\n",
    "* Hyperparameter Tuning\n",
    "* Data Cleaning\n",
    "* Combining everything in a pipeline\n",
    "\n",
    "Credits: Most of the material of this lecture is adopted from www.kaggle.com"
   ]
  },
  {
   "cell_type": "markdown",
   "metadata": {
    "id": "5LXm8I7Eydzj",
    "slideshow": {
     "slide_type": "slide"
    }
   },
   "source": [
    "## Scenario: Real estate price predictions"
   ]
  },
  {
   "cell_type": "markdown",
   "metadata": {
    "id": "Avw4pEKQydzj"
   },
   "source": [
    "\n",
    "This lecture provides an overview of how machine learning models can be used for real problems. We will build models as well as a machine learning pipeline based on the following scenario:"
   ]
  },
  {
   "cell_type": "markdown",
   "metadata": {
    "id": "QUeAuiM1ydzj",
    "slideshow": {
     "slide_type": "fragment"
    }
   },
   "source": [
    "Your cousin has made millions of dollars speculating on real estate. He's offered to become business partners with you because of your interest in data science. He'll supply the money, and you'll supply models that predict how much various houses are worth.\n",
    "\n",
    "You ask your cousin how he's predicted real estate values in the past and he says it is just intuition. But more questioning reveals that he's identified price patterns from houses he has seen in the past, and he uses those patterns to make predictions for new houses he is considering.\n",
    "\n",
    "Instead of using intuition to make good decision, we want to train a __machine learning model to predict the value of new houses__."
   ]
  },
  {
   "cell_type": "markdown",
   "metadata": {
    "id": "pJx1tovbydzj",
    "slideshow": {
     "slide_type": "slide"
    }
   },
   "source": [
    "## Loading the Data\n",
    "The first step in any machine learning project is to load and familiarize yourself with the data. To this end, we can use the pandas library from last week and load the dataset with the following commands:"
   ]
  },
  {
   "cell_type": "code",
   "execution_count": 1,
   "metadata": {
    "id": "HB5qY1UQydzk"
   },
   "outputs": [],
   "source": [
    "import pandas as pd\n",
    "import sklearn\n"
   ]
  },
  {
   "cell_type": "code",
   "execution_count": 2,
   "metadata": {
    "colab": {
     "base_uri": "https://localhost:8080/",
     "height": 377
    },
    "id": "Z3Of11zcydzl",
    "outputId": "ef44321a-05f1-49f1-8c1f-e705b182afc6",
    "scrolled": true
   },
   "outputs": [
    {
     "data": {
      "text/html": [
       "<div>\n",
       "<style scoped>\n",
       "    .dataframe tbody tr th:only-of-type {\n",
       "        vertical-align: middle;\n",
       "    }\n",
       "\n",
       "    .dataframe tbody tr th {\n",
       "        vertical-align: top;\n",
       "    }\n",
       "\n",
       "    .dataframe thead th {\n",
       "        text-align: right;\n",
       "    }\n",
       "</style>\n",
       "<table border=\"1\" class=\"dataframe\">\n",
       "  <thead>\n",
       "    <tr style=\"text-align: right;\">\n",
       "      <th></th>\n",
       "      <th>Unnamed: 0</th>\n",
       "      <th>Suburb</th>\n",
       "      <th>Address</th>\n",
       "      <th>Rooms</th>\n",
       "      <th>Type</th>\n",
       "      <th>Price</th>\n",
       "      <th>Method</th>\n",
       "      <th>SellerG</th>\n",
       "      <th>Date</th>\n",
       "      <th>Distance</th>\n",
       "      <th>...</th>\n",
       "      <th>Bathroom</th>\n",
       "      <th>Car</th>\n",
       "      <th>Landsize</th>\n",
       "      <th>BuildingArea</th>\n",
       "      <th>YearBuilt</th>\n",
       "      <th>CouncilArea</th>\n",
       "      <th>Lattitude</th>\n",
       "      <th>Longtitude</th>\n",
       "      <th>Regionname</th>\n",
       "      <th>Propertycount</th>\n",
       "    </tr>\n",
       "  </thead>\n",
       "  <tbody>\n",
       "    <tr>\n",
       "      <th>0</th>\n",
       "      <td>0</td>\n",
       "      <td>Abbotsford</td>\n",
       "      <td>85 Turner St</td>\n",
       "      <td>2</td>\n",
       "      <td>h</td>\n",
       "      <td>1480000.0</td>\n",
       "      <td>S</td>\n",
       "      <td>Biggin</td>\n",
       "      <td>3/12/2016</td>\n",
       "      <td>2.5</td>\n",
       "      <td>...</td>\n",
       "      <td>1.0</td>\n",
       "      <td>1.0</td>\n",
       "      <td>202.0</td>\n",
       "      <td>NaN</td>\n",
       "      <td>NaN</td>\n",
       "      <td>Yarra</td>\n",
       "      <td>-37.7996</td>\n",
       "      <td>144.9984</td>\n",
       "      <td>Northern Metropolitan</td>\n",
       "      <td>4019.0</td>\n",
       "    </tr>\n",
       "    <tr>\n",
       "      <th>1</th>\n",
       "      <td>1</td>\n",
       "      <td>Abbotsford</td>\n",
       "      <td>25 Bloomburg St</td>\n",
       "      <td>2</td>\n",
       "      <td>h</td>\n",
       "      <td>1035000.0</td>\n",
       "      <td>S</td>\n",
       "      <td>Biggin</td>\n",
       "      <td>4/02/2016</td>\n",
       "      <td>2.5</td>\n",
       "      <td>...</td>\n",
       "      <td>1.0</td>\n",
       "      <td>0.0</td>\n",
       "      <td>156.0</td>\n",
       "      <td>79.0</td>\n",
       "      <td>1900.0</td>\n",
       "      <td>Yarra</td>\n",
       "      <td>-37.8079</td>\n",
       "      <td>144.9934</td>\n",
       "      <td>Northern Metropolitan</td>\n",
       "      <td>4019.0</td>\n",
       "    </tr>\n",
       "    <tr>\n",
       "      <th>2</th>\n",
       "      <td>2</td>\n",
       "      <td>Abbotsford</td>\n",
       "      <td>5 Charles St</td>\n",
       "      <td>3</td>\n",
       "      <td>h</td>\n",
       "      <td>1465000.0</td>\n",
       "      <td>SP</td>\n",
       "      <td>Biggin</td>\n",
       "      <td>4/03/2017</td>\n",
       "      <td>2.5</td>\n",
       "      <td>...</td>\n",
       "      <td>2.0</td>\n",
       "      <td>0.0</td>\n",
       "      <td>134.0</td>\n",
       "      <td>150.0</td>\n",
       "      <td>1900.0</td>\n",
       "      <td>Yarra</td>\n",
       "      <td>-37.8093</td>\n",
       "      <td>144.9944</td>\n",
       "      <td>Northern Metropolitan</td>\n",
       "      <td>4019.0</td>\n",
       "    </tr>\n",
       "    <tr>\n",
       "      <th>3</th>\n",
       "      <td>3</td>\n",
       "      <td>Abbotsford</td>\n",
       "      <td>40 Federation La</td>\n",
       "      <td>3</td>\n",
       "      <td>h</td>\n",
       "      <td>850000.0</td>\n",
       "      <td>PI</td>\n",
       "      <td>Biggin</td>\n",
       "      <td>4/03/2017</td>\n",
       "      <td>2.5</td>\n",
       "      <td>...</td>\n",
       "      <td>2.0</td>\n",
       "      <td>1.0</td>\n",
       "      <td>94.0</td>\n",
       "      <td>NaN</td>\n",
       "      <td>NaN</td>\n",
       "      <td>Yarra</td>\n",
       "      <td>-37.7969</td>\n",
       "      <td>144.9969</td>\n",
       "      <td>Northern Metropolitan</td>\n",
       "      <td>4019.0</td>\n",
       "    </tr>\n",
       "    <tr>\n",
       "      <th>4</th>\n",
       "      <td>4</td>\n",
       "      <td>Abbotsford</td>\n",
       "      <td>55a Park St</td>\n",
       "      <td>4</td>\n",
       "      <td>h</td>\n",
       "      <td>1600000.0</td>\n",
       "      <td>VB</td>\n",
       "      <td>Nelson</td>\n",
       "      <td>4/06/2016</td>\n",
       "      <td>2.5</td>\n",
       "      <td>...</td>\n",
       "      <td>1.0</td>\n",
       "      <td>2.0</td>\n",
       "      <td>120.0</td>\n",
       "      <td>142.0</td>\n",
       "      <td>2014.0</td>\n",
       "      <td>Yarra</td>\n",
       "      <td>-37.8072</td>\n",
       "      <td>144.9941</td>\n",
       "      <td>Northern Metropolitan</td>\n",
       "      <td>4019.0</td>\n",
       "    </tr>\n",
       "  </tbody>\n",
       "</table>\n",
       "<p>5 rows × 22 columns</p>\n",
       "</div>"
      ],
      "text/plain": [
       "   Unnamed: 0      Suburb           Address  Rooms Type      Price Method  \\\n",
       "0           0  Abbotsford      85 Turner St      2    h  1480000.0      S   \n",
       "1           1  Abbotsford   25 Bloomburg St      2    h  1035000.0      S   \n",
       "2           2  Abbotsford      5 Charles St      3    h  1465000.0     SP   \n",
       "3           3  Abbotsford  40 Federation La      3    h   850000.0     PI   \n",
       "4           4  Abbotsford       55a Park St      4    h  1600000.0     VB   \n",
       "\n",
       "  SellerG       Date  Distance  ...  Bathroom  Car  Landsize  BuildingArea  \\\n",
       "0  Biggin  3/12/2016       2.5  ...       1.0  1.0     202.0           NaN   \n",
       "1  Biggin  4/02/2016       2.5  ...       1.0  0.0     156.0          79.0   \n",
       "2  Biggin  4/03/2017       2.5  ...       2.0  0.0     134.0         150.0   \n",
       "3  Biggin  4/03/2017       2.5  ...       2.0  1.0      94.0           NaN   \n",
       "4  Nelson  4/06/2016       2.5  ...       1.0  2.0     120.0         142.0   \n",
       "\n",
       "   YearBuilt  CouncilArea  Lattitude Longtitude             Regionname  \\\n",
       "0        NaN        Yarra   -37.7996   144.9984  Northern Metropolitan   \n",
       "1     1900.0        Yarra   -37.8079   144.9934  Northern Metropolitan   \n",
       "2     1900.0        Yarra   -37.8093   144.9944  Northern Metropolitan   \n",
       "3        NaN        Yarra   -37.7969   144.9969  Northern Metropolitan   \n",
       "4     2014.0        Yarra   -37.8072   144.9941  Northern Metropolitan   \n",
       "\n",
       "   Propertycount  \n",
       "0         4019.0  \n",
       "1         4019.0  \n",
       "2         4019.0  \n",
       "3         4019.0  \n",
       "4         4019.0  \n",
       "\n",
       "[5 rows x 22 columns]"
      ]
     },
     "execution_count": 2,
     "metadata": {},
     "output_type": "execute_result"
    }
   ],
   "source": [
    "melbourne_file_path = 'https://raw.githubusercontent.com/vhaus63/ids_data/refs/heads/main/melb_data.csv'\n",
    "melbourne_data = pd.read_csv(melbourne_file_path)\n",
    "\n",
    "melbourne_data.head()"
   ]
  },
  {
   "cell_type": "code",
   "execution_count": 3,
   "metadata": {
    "colab": {
     "base_uri": "https://localhost:8080/"
    },
    "id": "9nKd74XOydzl",
    "outputId": "f901843e-3d7f-494a-9894-fe5e2db259b6",
    "slideshow": {
     "slide_type": "slide"
    }
   },
   "outputs": [
    {
     "name": "stdout",
     "output_type": "stream",
     "text": [
      "<class 'pandas.core.frame.DataFrame'>\n",
      "RangeIndex: 13580 entries, 0 to 13579\n",
      "Data columns (total 22 columns):\n",
      " #   Column         Non-Null Count  Dtype  \n",
      "---  ------         --------------  -----  \n",
      " 0   Unnamed: 0     13580 non-null  int64  \n",
      " 1   Suburb         13580 non-null  object \n",
      " 2   Address        13580 non-null  object \n",
      " 3   Rooms          13580 non-null  int64  \n",
      " 4   Type           13580 non-null  object \n",
      " 5   Price          13580 non-null  float64\n",
      " 6   Method         13580 non-null  object \n",
      " 7   SellerG        13580 non-null  object \n",
      " 8   Date           13580 non-null  object \n",
      " 9   Distance       13580 non-null  float64\n",
      " 10  Postcode       13580 non-null  float64\n",
      " 11  Bedroom2       13580 non-null  float64\n",
      " 12  Bathroom       13580 non-null  float64\n",
      " 13  Car            13518 non-null  float64\n",
      " 14  Landsize       13580 non-null  float64\n",
      " 15  BuildingArea   7130 non-null   float64\n",
      " 16  YearBuilt      8205 non-null   float64\n",
      " 17  CouncilArea    12211 non-null  object \n",
      " 18  Lattitude      13580 non-null  float64\n",
      " 19  Longtitude     13580 non-null  float64\n",
      " 20  Regionname     13580 non-null  object \n",
      " 21  Propertycount  13580 non-null  float64\n",
      "dtypes: float64(12), int64(2), object(8)\n",
      "memory usage: 2.3+ MB\n"
     ]
    }
   ],
   "source": [
    "melbourne_data.info()"
   ]
  },
  {
   "cell_type": "markdown",
   "metadata": {
    "id": "6b0ilUVKydzl",
    "slideshow": {
     "slide_type": "slide"
    }
   },
   "source": [
    "## Removing Missing Values"
   ]
  },
  {
   "cell_type": "markdown",
   "metadata": {
    "id": "v8S4I6kMydzl"
   },
   "source": [
    "For simplicity we remove rows with missing values for this example. Note that a missing value can sometimes be a valuable information."
   ]
  },
  {
   "cell_type": "code",
   "execution_count": 4,
   "metadata": {
    "colab": {
     "base_uri": "https://localhost:8080/"
    },
    "id": "ZAwZoy5eydzl",
    "outputId": "3aea9e32-c692-4465-e6be-67888cc0cdd3",
    "slideshow": {
     "slide_type": "fragment"
    }
   },
   "outputs": [
    {
     "name": "stdout",
     "output_type": "stream",
     "text": [
      "(13580, 22)\n",
      "(6196, 22)\n"
     ]
    }
   ],
   "source": [
    "print(melbourne_data.shape)\n",
    "melbourne_data.dropna(axis=0, inplace=True)\n",
    "print(melbourne_data.shape)"
   ]
  },
  {
   "cell_type": "markdown",
   "metadata": {
    "id": "uYHmRs67ydzm",
    "slideshow": {
     "slide_type": "slide"
    }
   },
   "source": [
    "## Select data for modeling\n",
    "On a first glimpse, we see that our dataset has too many variables to wrap our heads around. How can we pare down this overwhelming amount of data to something we can understand?\n",
    "\n",
    "We'll start by picking a few variables using our intuition. To choose variables, we'll need to see a list of all columns in the dataset. That is done with the columns property of the DataFrame:"
   ]
  },
  {
   "cell_type": "code",
   "execution_count": 5,
   "metadata": {
    "colab": {
     "base_uri": "https://localhost:8080/"
    },
    "id": "ydvEU8Icydzm",
    "outputId": "5824188c-5918-4b13-f203-781898a6ceb9",
    "slideshow": {
     "slide_type": "fragment"
    }
   },
   "outputs": [
    {
     "data": {
      "text/plain": [
       "Index(['Unnamed: 0', 'Suburb', 'Address', 'Rooms', 'Type', 'Price', 'Method',\n",
       "       'SellerG', 'Date', 'Distance', 'Postcode', 'Bedroom2', 'Bathroom',\n",
       "       'Car', 'Landsize', 'BuildingArea', 'YearBuilt', 'CouncilArea',\n",
       "       'Lattitude', 'Longtitude', 'Regionname', 'Propertycount'],\n",
       "      dtype='object')"
      ]
     },
     "execution_count": 5,
     "metadata": {},
     "output_type": "execute_result"
    }
   ],
   "source": [
    "melbourne_data.columns"
   ]
  },
  {
   "cell_type": "markdown",
   "metadata": {
    "id": "S2ipvu-Jydzm",
    "slideshow": {
     "slide_type": "slide"
    }
   },
   "source": [
    "### Selecting the prediction target\n",
    "\n",
    "To train a predictive model using supervised machine learning techniques, we have to identify the target variable. In the problem at hand, we want to predict the house prices. This information is encoded in the column Price.\n",
    "\n",
    "By convention, the target variable is called **y**."
   ]
  },
  {
   "cell_type": "code",
   "execution_count": 6,
   "metadata": {
    "id": "aRssVccKydzm"
   },
   "outputs": [],
   "source": [
    "y = melbourne_data['Price']"
   ]
  },
  {
   "cell_type": "markdown",
   "metadata": {
    "id": "N30eEjSTydzm",
    "slideshow": {
     "slide_type": "slide"
    }
   },
   "source": [
    "### Choosing \"Features\"\n",
    "The columns that serve as input for our model (and are later used to make predictions) are called \"features.\" Sometimes, you will use all columns except the target as features. Other times you'll be better off with fewer features.\n",
    "\n",
    "For now, we'll build a model with only a few features.\n",
    "\n",
    "We select multiple features by providing a list of column names inside brackets. Each item in that list should be a string (with quotes).\n"
   ]
  },
  {
   "cell_type": "code",
   "execution_count": 7,
   "metadata": {
    "id": "Jc7d2bjOydzm"
   },
   "outputs": [],
   "source": [
    "melbourne_features = ['Rooms', 'Bathroom', 'Landsize', 'BuildingArea',\n",
    "                        'YearBuilt', 'Lattitude', 'Longtitude']"
   ]
  },
  {
   "cell_type": "markdown",
   "metadata": {
    "id": "iElb0PvMydzm",
    "slideshow": {
     "slide_type": "fragment"
    }
   },
   "source": [
    "By convention, this data is called **X**."
   ]
  },
  {
   "cell_type": "code",
   "execution_count": 8,
   "metadata": {
    "id": "19pFwwHPydzm"
   },
   "outputs": [],
   "source": [
    "X = melbourne_data[melbourne_features]"
   ]
  },
  {
   "cell_type": "markdown",
   "metadata": {
    "id": "9XQJmEreydzn",
    "slideshow": {
     "slide_type": "slide"
    }
   },
   "source": [
    "## Quick EDA"
   ]
  },
  {
   "cell_type": "markdown",
   "metadata": {
    "id": "3uzU4VV2ydzn"
   },
   "source": [
    "Let's quickly review the data we'll be using to predict house prices using the describe method and the head method, which shows the top few rows. Visually checking your data with these commands is an important part of a data scientist's job. You'll frequently find surprises in the dataset that deserve further inspection."
   ]
  },
  {
   "cell_type": "code",
   "execution_count": 9,
   "metadata": {
    "colab": {
     "base_uri": "https://localhost:8080/",
     "height": 224
    },
    "id": "jWQtMdTfydzn",
    "outputId": "a8a8d2bc-017b-4ac2-c310-a58b6749b5b7",
    "slideshow": {
     "slide_type": "fragment"
    }
   },
   "outputs": [
    {
     "name": "stdout",
     "output_type": "stream",
     "text": [
      "(6196, 7)\n"
     ]
    },
    {
     "data": {
      "text/html": [
       "<div>\n",
       "<style scoped>\n",
       "    .dataframe tbody tr th:only-of-type {\n",
       "        vertical-align: middle;\n",
       "    }\n",
       "\n",
       "    .dataframe tbody tr th {\n",
       "        vertical-align: top;\n",
       "    }\n",
       "\n",
       "    .dataframe thead th {\n",
       "        text-align: right;\n",
       "    }\n",
       "</style>\n",
       "<table border=\"1\" class=\"dataframe\">\n",
       "  <thead>\n",
       "    <tr style=\"text-align: right;\">\n",
       "      <th></th>\n",
       "      <th>Rooms</th>\n",
       "      <th>Bathroom</th>\n",
       "      <th>Landsize</th>\n",
       "      <th>BuildingArea</th>\n",
       "      <th>YearBuilt</th>\n",
       "      <th>Lattitude</th>\n",
       "      <th>Longtitude</th>\n",
       "    </tr>\n",
       "  </thead>\n",
       "  <tbody>\n",
       "    <tr>\n",
       "      <th>1</th>\n",
       "      <td>2</td>\n",
       "      <td>1.0</td>\n",
       "      <td>156.0</td>\n",
       "      <td>79.0</td>\n",
       "      <td>1900.0</td>\n",
       "      <td>-37.8079</td>\n",
       "      <td>144.9934</td>\n",
       "    </tr>\n",
       "    <tr>\n",
       "      <th>2</th>\n",
       "      <td>3</td>\n",
       "      <td>2.0</td>\n",
       "      <td>134.0</td>\n",
       "      <td>150.0</td>\n",
       "      <td>1900.0</td>\n",
       "      <td>-37.8093</td>\n",
       "      <td>144.9944</td>\n",
       "    </tr>\n",
       "    <tr>\n",
       "      <th>4</th>\n",
       "      <td>4</td>\n",
       "      <td>1.0</td>\n",
       "      <td>120.0</td>\n",
       "      <td>142.0</td>\n",
       "      <td>2014.0</td>\n",
       "      <td>-37.8072</td>\n",
       "      <td>144.9941</td>\n",
       "    </tr>\n",
       "    <tr>\n",
       "      <th>6</th>\n",
       "      <td>3</td>\n",
       "      <td>2.0</td>\n",
       "      <td>245.0</td>\n",
       "      <td>210.0</td>\n",
       "      <td>1910.0</td>\n",
       "      <td>-37.8024</td>\n",
       "      <td>144.9993</td>\n",
       "    </tr>\n",
       "    <tr>\n",
       "      <th>7</th>\n",
       "      <td>2</td>\n",
       "      <td>1.0</td>\n",
       "      <td>256.0</td>\n",
       "      <td>107.0</td>\n",
       "      <td>1890.0</td>\n",
       "      <td>-37.8060</td>\n",
       "      <td>144.9954</td>\n",
       "    </tr>\n",
       "  </tbody>\n",
       "</table>\n",
       "</div>"
      ],
      "text/plain": [
       "   Rooms  Bathroom  Landsize  BuildingArea  YearBuilt  Lattitude  Longtitude\n",
       "1      2       1.0     156.0          79.0     1900.0   -37.8079    144.9934\n",
       "2      3       2.0     134.0         150.0     1900.0   -37.8093    144.9944\n",
       "4      4       1.0     120.0         142.0     2014.0   -37.8072    144.9941\n",
       "6      3       2.0     245.0         210.0     1910.0   -37.8024    144.9993\n",
       "7      2       1.0     256.0         107.0     1890.0   -37.8060    144.9954"
      ]
     },
     "execution_count": 9,
     "metadata": {},
     "output_type": "execute_result"
    }
   ],
   "source": [
    "print(X.shape)\n",
    "X.head()"
   ]
  },
  {
   "cell_type": "code",
   "execution_count": 10,
   "metadata": {
    "colab": {
     "base_uri": "https://localhost:8080/",
     "height": 269
    },
    "id": "aM72_wWaydzn",
    "outputId": "88ecf775-efde-42e6-d50d-9f4d6ad8b655",
    "slideshow": {
     "slide_type": "fragment"
    }
   },
   "outputs": [
    {
     "data": {
      "text/html": [
       "<div>\n",
       "<style scoped>\n",
       "    .dataframe tbody tr th:only-of-type {\n",
       "        vertical-align: middle;\n",
       "    }\n",
       "\n",
       "    .dataframe tbody tr th {\n",
       "        vertical-align: top;\n",
       "    }\n",
       "\n",
       "    .dataframe thead th {\n",
       "        text-align: right;\n",
       "    }\n",
       "</style>\n",
       "<table border=\"1\" class=\"dataframe\">\n",
       "  <thead>\n",
       "    <tr style=\"text-align: right;\">\n",
       "      <th></th>\n",
       "      <th>count</th>\n",
       "      <th>mean</th>\n",
       "      <th>std</th>\n",
       "      <th>min</th>\n",
       "      <th>25%</th>\n",
       "      <th>50%</th>\n",
       "      <th>75%</th>\n",
       "      <th>max</th>\n",
       "    </tr>\n",
       "  </thead>\n",
       "  <tbody>\n",
       "    <tr>\n",
       "      <th>Rooms</th>\n",
       "      <td>6196.0</td>\n",
       "      <td>2.931407</td>\n",
       "      <td>0.971079</td>\n",
       "      <td>1.00000</td>\n",
       "      <td>2.000000</td>\n",
       "      <td>3.00000</td>\n",
       "      <td>4.0000</td>\n",
       "      <td>8.00000</td>\n",
       "    </tr>\n",
       "    <tr>\n",
       "      <th>Bathroom</th>\n",
       "      <td>6196.0</td>\n",
       "      <td>1.576340</td>\n",
       "      <td>0.711362</td>\n",
       "      <td>1.00000</td>\n",
       "      <td>1.000000</td>\n",
       "      <td>1.00000</td>\n",
       "      <td>2.0000</td>\n",
       "      <td>8.00000</td>\n",
       "    </tr>\n",
       "    <tr>\n",
       "      <th>Landsize</th>\n",
       "      <td>6196.0</td>\n",
       "      <td>471.006940</td>\n",
       "      <td>897.449881</td>\n",
       "      <td>0.00000</td>\n",
       "      <td>152.000000</td>\n",
       "      <td>373.00000</td>\n",
       "      <td>628.0000</td>\n",
       "      <td>37000.00000</td>\n",
       "    </tr>\n",
       "    <tr>\n",
       "      <th>BuildingArea</th>\n",
       "      <td>6196.0</td>\n",
       "      <td>141.568645</td>\n",
       "      <td>90.834824</td>\n",
       "      <td>0.00000</td>\n",
       "      <td>91.000000</td>\n",
       "      <td>124.00000</td>\n",
       "      <td>170.0000</td>\n",
       "      <td>3112.00000</td>\n",
       "    </tr>\n",
       "    <tr>\n",
       "      <th>YearBuilt</th>\n",
       "      <td>6196.0</td>\n",
       "      <td>1964.081988</td>\n",
       "      <td>38.105673</td>\n",
       "      <td>1196.00000</td>\n",
       "      <td>1940.000000</td>\n",
       "      <td>1970.00000</td>\n",
       "      <td>2000.0000</td>\n",
       "      <td>2018.00000</td>\n",
       "    </tr>\n",
       "    <tr>\n",
       "      <th>Lattitude</th>\n",
       "      <td>6196.0</td>\n",
       "      <td>-37.807904</td>\n",
       "      <td>0.075850</td>\n",
       "      <td>-38.16492</td>\n",
       "      <td>-37.855438</td>\n",
       "      <td>-37.80225</td>\n",
       "      <td>-37.7582</td>\n",
       "      <td>-37.45709</td>\n",
       "    </tr>\n",
       "    <tr>\n",
       "      <th>Longtitude</th>\n",
       "      <td>6196.0</td>\n",
       "      <td>144.990201</td>\n",
       "      <td>0.099165</td>\n",
       "      <td>144.54237</td>\n",
       "      <td>144.926198</td>\n",
       "      <td>144.99580</td>\n",
       "      <td>145.0527</td>\n",
       "      <td>145.52635</td>\n",
       "    </tr>\n",
       "  </tbody>\n",
       "</table>\n",
       "</div>"
      ],
      "text/plain": [
       "               count         mean         std         min          25%  \\\n",
       "Rooms         6196.0     2.931407    0.971079     1.00000     2.000000   \n",
       "Bathroom      6196.0     1.576340    0.711362     1.00000     1.000000   \n",
       "Landsize      6196.0   471.006940  897.449881     0.00000   152.000000   \n",
       "BuildingArea  6196.0   141.568645   90.834824     0.00000    91.000000   \n",
       "YearBuilt     6196.0  1964.081988   38.105673  1196.00000  1940.000000   \n",
       "Lattitude     6196.0   -37.807904    0.075850   -38.16492   -37.855438   \n",
       "Longtitude    6196.0   144.990201    0.099165   144.54237   144.926198   \n",
       "\n",
       "                     50%        75%          max  \n",
       "Rooms            3.00000     4.0000      8.00000  \n",
       "Bathroom         1.00000     2.0000      8.00000  \n",
       "Landsize       373.00000   628.0000  37000.00000  \n",
       "BuildingArea   124.00000   170.0000   3112.00000  \n",
       "YearBuilt     1970.00000  2000.0000   2018.00000  \n",
       "Lattitude      -37.80225   -37.7582    -37.45709  \n",
       "Longtitude     144.99580   145.0527    145.52635  "
      ]
     },
     "execution_count": 10,
     "metadata": {},
     "output_type": "execute_result"
    }
   ],
   "source": [
    "X.describe().T"
   ]
  },
  {
   "cell_type": "markdown",
   "metadata": {
    "slideshow": {
     "slide_type": "slide"
    }
   },
   "source": [
    "# Modeling\n"
   ]
  },
  {
   "cell_type": "markdown",
   "metadata": {
    "slideshow": {
     "slide_type": "fragment"
    }
   },
   "source": [
    "In data science, a model is a simplified representation or abstraction of reality that uses mathematical or statistical techniques to capture __patterns, relationships, or structures in data.__ \n",
    "\n",
    "- __Data-driven:__ Models are built and validated using data.\n",
    "- __Simplification:__ Models are not perfect replicas of reality but are designed to approximate it for a __specific purpose.__ \n",
    "- __Model classes:__ Purposes fall into the classes of:\n",
    "    - Description\n",
    "    - Prediction\n",
    "    - Prescription"
   ]
  },
  {
   "cell_type": "markdown",
   "metadata": {
    "slideshow": {
     "slide_type": "slide"
    }
   },
   "source": [
    "<img src=\"https://raw.githubusercontent.com/vhaus63/ids_data/main/analytics_types.png\" style=\"width:80%\" />"
   ]
  },
  {
   "cell_type": "markdown",
   "metadata": {
    "slideshow": {
     "slide_type": "slide"
    }
   },
   "source": [
    "\n",
    "<img src=\"https://raw.githubusercontent.com/vhaus63/ids_data/main/analytics_value_chain.png\" style=\"width:80%\" />\n"
   ]
  },
  {
   "cell_type": "markdown",
   "metadata": {
    "slideshow": {
     "slide_type": "slide"
    }
   },
   "source": [
    "Models can also be distinguished by the __way their are created__ (\"learned\", \"trained\", \"fitted\") from the data into __supervised, unsupervised and reinforcement learning__ models: \n",
    "\n",
    "\n",
    "<img src=\"https://raw.githubusercontent.com/vhaus63/ids_data/main/machine_learning_types.jpg\" style=\"width:80%\" />\n"
   ]
  },
  {
   "cell_type": "markdown",
   "metadata": {
    "slideshow": {
     "slide_type": "slide"
    }
   },
   "source": [
    "### 1. **Supervised Learning**\n",
    "Supervised learning models are trained on __labeled data,__ where both inputs (features) and outputs (targets) are known. The goal is to map inputs to outputs accurately.\n",
    "\n",
    "- __Regression models:__ Predict a __continuous numerical output.__ Examples: Forecasting house prices, stock market values, or temperature.\n",
    "\n",
    "- __Classification models:__ Predict a __categorical label or class.__ Examples: Identifying whether an email is spam or not, or classifying images as cats or dogs.\n"
   ]
  },
  {
   "cell_type": "markdown",
   "metadata": {
    "slideshow": {
     "slide_type": "slide"
    }
   },
   "source": [
    "### 2. **Unsupervised Learning**\n",
    "Unsupervised learning models are trained on __unlabeled data,__ with the goal of discovering __patterns or groupings__ within the data. The models learn inherent data structures without predefined labels. \n",
    "\n",
    "- Example: Use clustering techniques like k-Means to segment customers for targeted marketing strategies"
   ]
  },
  {
   "cell_type": "markdown",
   "metadata": {
    "slideshow": {
     "slide_type": "slide"
    }
   },
   "source": [
    "\n",
    "\n",
    "### 3. **Reinforcement Learning**\n",
    "Reinforcement learning models learn by __interacting__ with an environment and __receiving feedback__ in the form of rewards or penalties. The goal is to maximize cumulative rewards over time through trial and error.\n",
    "\n",
    "- Example: Optimize product prices dynamically by reacting to observed demand in order to maximize revenue."
   ]
  },
  {
   "cell_type": "markdown",
   "metadata": {
    "id": "bcWBuXBAydzn",
    "slideshow": {
     "slide_type": "slide"
    }
   },
   "source": [
    "## Building Models in Scikit-learn\n"
   ]
  },
  {
   "cell_type": "markdown",
   "metadata": {
    "id": "8zwnekezydzn"
   },
   "source": [
    "For now, we will use the scikit-learn library to create our models. As you will see in the upcoming section, this library is written as sklearn in the code. Scikit-learn offers a lot of powerful features and is easily the most popular library for modeling tabular data."
   ]
  },
  {
   "cell_type": "markdown",
   "metadata": {
    "id": "98u3827Xydzn",
    "slideshow": {
     "slide_type": "fragment"
    }
   },
   "source": [
    "The steps to building and using a model in Scikit-learn are:\n",
    "* __Define__:  What type of model will it be? A decision tree? Some other type of model? Some other parameters of the model type are specified too.\n",
    "* __Fit__: Capture patterns from our input data.\n",
    "* __Predict__: Make predictions using input variables and the trained model.\n",
    "* __Evaluate__: Determine how accurate the model's predictions are."
   ]
  },
  {
   "cell_type": "markdown",
   "metadata": {
    "id": "t5lZ_jtVydzn",
    "slideshow": {
     "slide_type": "slide"
    }
   },
   "source": [
    "### Our first decision tree"
   ]
  },
  {
   "cell_type": "markdown",
   "metadata": {
    "id": "mw3dgSxfydzn"
   },
   "source": [
    "<img src=\"https://raw.githubusercontent.com/GuntherGust/tds2_data/main/images/03/decision-tree.avif?raw=1\" style=\"width:60%; float:left;\" />"
   ]
  },
  {
   "cell_type": "markdown",
   "metadata": {
    "id": "NDNtOueBydzn",
    "slideshow": {
     "slide_type": "slide"
    }
   },
   "source": [
    "### Background on decision trees\n",
    "\n",
    "- Please watch [this series of youtube videos](https://www.youtube.com/playlist?list=PLblh5JKOoLUKAtDViTvRGFpphEc24M-QH) to learn how decision trees work. <span style=\"color:red\">__This content is relevant for the exam!__</span>\n",
    "- For a formal coverage see [Hastie et al: Elements of Statistical Learning, Chapter 9.2](https://www.sas.upenn.edu/~fdiebold/NoHesitations/BookAdvanced.pdf)"
   ]
  },
  {
   "cell_type": "markdown",
   "metadata": {
    "id": "ebIPEig9ydzo",
    "slideshow": {
     "slide_type": "slide"
    }
   },
   "source": [
    "Here is a simple example of defining a decision tree model with scikit-learn and fitting it with the features and target variable selected above:"
   ]
  },
  {
   "cell_type": "code",
   "execution_count": 11,
   "metadata": {
    "colab": {
     "base_uri": "https://localhost:8080/",
     "height": 80
    },
    "id": "YlmrHwqeydzo",
    "outputId": "d2ccf3af-23ba-45fb-bfc4-4d1288525add"
   },
   "outputs": [
    {
     "data": {
      "text/html": [
       "<style>#sk-container-id-1 {\n",
       "  /* Definition of color scheme common for light and dark mode */\n",
       "  --sklearn-color-text: black;\n",
       "  --sklearn-color-line: gray;\n",
       "  /* Definition of color scheme for unfitted estimators */\n",
       "  --sklearn-color-unfitted-level-0: #fff5e6;\n",
       "  --sklearn-color-unfitted-level-1: #f6e4d2;\n",
       "  --sklearn-color-unfitted-level-2: #ffe0b3;\n",
       "  --sklearn-color-unfitted-level-3: chocolate;\n",
       "  /* Definition of color scheme for fitted estimators */\n",
       "  --sklearn-color-fitted-level-0: #f0f8ff;\n",
       "  --sklearn-color-fitted-level-1: #d4ebff;\n",
       "  --sklearn-color-fitted-level-2: #b3dbfd;\n",
       "  --sklearn-color-fitted-level-3: cornflowerblue;\n",
       "\n",
       "  /* Specific color for light theme */\n",
       "  --sklearn-color-text-on-default-background: var(--sg-text-color, var(--theme-code-foreground, var(--jp-content-font-color1, black)));\n",
       "  --sklearn-color-background: var(--sg-background-color, var(--theme-background, var(--jp-layout-color0, white)));\n",
       "  --sklearn-color-border-box: var(--sg-text-color, var(--theme-code-foreground, var(--jp-content-font-color1, black)));\n",
       "  --sklearn-color-icon: #696969;\n",
       "\n",
       "  @media (prefers-color-scheme: dark) {\n",
       "    /* Redefinition of color scheme for dark theme */\n",
       "    --sklearn-color-text-on-default-background: var(--sg-text-color, var(--theme-code-foreground, var(--jp-content-font-color1, white)));\n",
       "    --sklearn-color-background: var(--sg-background-color, var(--theme-background, var(--jp-layout-color0, #111)));\n",
       "    --sklearn-color-border-box: var(--sg-text-color, var(--theme-code-foreground, var(--jp-content-font-color1, white)));\n",
       "    --sklearn-color-icon: #878787;\n",
       "  }\n",
       "}\n",
       "\n",
       "#sk-container-id-1 {\n",
       "  color: var(--sklearn-color-text);\n",
       "}\n",
       "\n",
       "#sk-container-id-1 pre {\n",
       "  padding: 0;\n",
       "}\n",
       "\n",
       "#sk-container-id-1 input.sk-hidden--visually {\n",
       "  border: 0;\n",
       "  clip: rect(1px 1px 1px 1px);\n",
       "  clip: rect(1px, 1px, 1px, 1px);\n",
       "  height: 1px;\n",
       "  margin: -1px;\n",
       "  overflow: hidden;\n",
       "  padding: 0;\n",
       "  position: absolute;\n",
       "  width: 1px;\n",
       "}\n",
       "\n",
       "#sk-container-id-1 div.sk-dashed-wrapped {\n",
       "  border: 1px dashed var(--sklearn-color-line);\n",
       "  margin: 0 0.4em 0.5em 0.4em;\n",
       "  box-sizing: border-box;\n",
       "  padding-bottom: 0.4em;\n",
       "  background-color: var(--sklearn-color-background);\n",
       "}\n",
       "\n",
       "#sk-container-id-1 div.sk-container {\n",
       "  /* jupyter's `normalize.less` sets `[hidden] { display: none; }`\n",
       "     but bootstrap.min.css set `[hidden] { display: none !important; }`\n",
       "     so we also need the `!important` here to be able to override the\n",
       "     default hidden behavior on the sphinx rendered scikit-learn.org.\n",
       "     See: https://github.com/scikit-learn/scikit-learn/issues/21755 */\n",
       "  display: inline-block !important;\n",
       "  position: relative;\n",
       "}\n",
       "\n",
       "#sk-container-id-1 div.sk-text-repr-fallback {\n",
       "  display: none;\n",
       "}\n",
       "\n",
       "div.sk-parallel-item,\n",
       "div.sk-serial,\n",
       "div.sk-item {\n",
       "  /* draw centered vertical line to link estimators */\n",
       "  background-image: linear-gradient(var(--sklearn-color-text-on-default-background), var(--sklearn-color-text-on-default-background));\n",
       "  background-size: 2px 100%;\n",
       "  background-repeat: no-repeat;\n",
       "  background-position: center center;\n",
       "}\n",
       "\n",
       "/* Parallel-specific style estimator block */\n",
       "\n",
       "#sk-container-id-1 div.sk-parallel-item::after {\n",
       "  content: \"\";\n",
       "  width: 100%;\n",
       "  border-bottom: 2px solid var(--sklearn-color-text-on-default-background);\n",
       "  flex-grow: 1;\n",
       "}\n",
       "\n",
       "#sk-container-id-1 div.sk-parallel {\n",
       "  display: flex;\n",
       "  align-items: stretch;\n",
       "  justify-content: center;\n",
       "  background-color: var(--sklearn-color-background);\n",
       "  position: relative;\n",
       "}\n",
       "\n",
       "#sk-container-id-1 div.sk-parallel-item {\n",
       "  display: flex;\n",
       "  flex-direction: column;\n",
       "}\n",
       "\n",
       "#sk-container-id-1 div.sk-parallel-item:first-child::after {\n",
       "  align-self: flex-end;\n",
       "  width: 50%;\n",
       "}\n",
       "\n",
       "#sk-container-id-1 div.sk-parallel-item:last-child::after {\n",
       "  align-self: flex-start;\n",
       "  width: 50%;\n",
       "}\n",
       "\n",
       "#sk-container-id-1 div.sk-parallel-item:only-child::after {\n",
       "  width: 0;\n",
       "}\n",
       "\n",
       "/* Serial-specific style estimator block */\n",
       "\n",
       "#sk-container-id-1 div.sk-serial {\n",
       "  display: flex;\n",
       "  flex-direction: column;\n",
       "  align-items: center;\n",
       "  background-color: var(--sklearn-color-background);\n",
       "  padding-right: 1em;\n",
       "  padding-left: 1em;\n",
       "}\n",
       "\n",
       "\n",
       "/* Toggleable style: style used for estimator/Pipeline/ColumnTransformer box that is\n",
       "clickable and can be expanded/collapsed.\n",
       "- Pipeline and ColumnTransformer use this feature and define the default style\n",
       "- Estimators will overwrite some part of the style using the `sk-estimator` class\n",
       "*/\n",
       "\n",
       "/* Pipeline and ColumnTransformer style (default) */\n",
       "\n",
       "#sk-container-id-1 div.sk-toggleable {\n",
       "  /* Default theme specific background. It is overwritten whether we have a\n",
       "  specific estimator or a Pipeline/ColumnTransformer */\n",
       "  background-color: var(--sklearn-color-background);\n",
       "}\n",
       "\n",
       "/* Toggleable label */\n",
       "#sk-container-id-1 label.sk-toggleable__label {\n",
       "  cursor: pointer;\n",
       "  display: block;\n",
       "  width: 100%;\n",
       "  margin-bottom: 0;\n",
       "  padding: 0.5em;\n",
       "  box-sizing: border-box;\n",
       "  text-align: center;\n",
       "}\n",
       "\n",
       "#sk-container-id-1 label.sk-toggleable__label-arrow:before {\n",
       "  /* Arrow on the left of the label */\n",
       "  content: \"▸\";\n",
       "  float: left;\n",
       "  margin-right: 0.25em;\n",
       "  color: var(--sklearn-color-icon);\n",
       "}\n",
       "\n",
       "#sk-container-id-1 label.sk-toggleable__label-arrow:hover:before {\n",
       "  color: var(--sklearn-color-text);\n",
       "}\n",
       "\n",
       "/* Toggleable content - dropdown */\n",
       "\n",
       "#sk-container-id-1 div.sk-toggleable__content {\n",
       "  max-height: 0;\n",
       "  max-width: 0;\n",
       "  overflow: hidden;\n",
       "  text-align: left;\n",
       "  /* unfitted */\n",
       "  background-color: var(--sklearn-color-unfitted-level-0);\n",
       "}\n",
       "\n",
       "#sk-container-id-1 div.sk-toggleable__content.fitted {\n",
       "  /* fitted */\n",
       "  background-color: var(--sklearn-color-fitted-level-0);\n",
       "}\n",
       "\n",
       "#sk-container-id-1 div.sk-toggleable__content pre {\n",
       "  margin: 0.2em;\n",
       "  border-radius: 0.25em;\n",
       "  color: var(--sklearn-color-text);\n",
       "  /* unfitted */\n",
       "  background-color: var(--sklearn-color-unfitted-level-0);\n",
       "}\n",
       "\n",
       "#sk-container-id-1 div.sk-toggleable__content.fitted pre {\n",
       "  /* unfitted */\n",
       "  background-color: var(--sklearn-color-fitted-level-0);\n",
       "}\n",
       "\n",
       "#sk-container-id-1 input.sk-toggleable__control:checked~div.sk-toggleable__content {\n",
       "  /* Expand drop-down */\n",
       "  max-height: 200px;\n",
       "  max-width: 100%;\n",
       "  overflow: auto;\n",
       "}\n",
       "\n",
       "#sk-container-id-1 input.sk-toggleable__control:checked~label.sk-toggleable__label-arrow:before {\n",
       "  content: \"▾\";\n",
       "}\n",
       "\n",
       "/* Pipeline/ColumnTransformer-specific style */\n",
       "\n",
       "#sk-container-id-1 div.sk-label input.sk-toggleable__control:checked~label.sk-toggleable__label {\n",
       "  color: var(--sklearn-color-text);\n",
       "  background-color: var(--sklearn-color-unfitted-level-2);\n",
       "}\n",
       "\n",
       "#sk-container-id-1 div.sk-label.fitted input.sk-toggleable__control:checked~label.sk-toggleable__label {\n",
       "  background-color: var(--sklearn-color-fitted-level-2);\n",
       "}\n",
       "\n",
       "/* Estimator-specific style */\n",
       "\n",
       "/* Colorize estimator box */\n",
       "#sk-container-id-1 div.sk-estimator input.sk-toggleable__control:checked~label.sk-toggleable__label {\n",
       "  /* unfitted */\n",
       "  background-color: var(--sklearn-color-unfitted-level-2);\n",
       "}\n",
       "\n",
       "#sk-container-id-1 div.sk-estimator.fitted input.sk-toggleable__control:checked~label.sk-toggleable__label {\n",
       "  /* fitted */\n",
       "  background-color: var(--sklearn-color-fitted-level-2);\n",
       "}\n",
       "\n",
       "#sk-container-id-1 div.sk-label label.sk-toggleable__label,\n",
       "#sk-container-id-1 div.sk-label label {\n",
       "  /* The background is the default theme color */\n",
       "  color: var(--sklearn-color-text-on-default-background);\n",
       "}\n",
       "\n",
       "/* On hover, darken the color of the background */\n",
       "#sk-container-id-1 div.sk-label:hover label.sk-toggleable__label {\n",
       "  color: var(--sklearn-color-text);\n",
       "  background-color: var(--sklearn-color-unfitted-level-2);\n",
       "}\n",
       "\n",
       "/* Label box, darken color on hover, fitted */\n",
       "#sk-container-id-1 div.sk-label.fitted:hover label.sk-toggleable__label.fitted {\n",
       "  color: var(--sklearn-color-text);\n",
       "  background-color: var(--sklearn-color-fitted-level-2);\n",
       "}\n",
       "\n",
       "/* Estimator label */\n",
       "\n",
       "#sk-container-id-1 div.sk-label label {\n",
       "  font-family: monospace;\n",
       "  font-weight: bold;\n",
       "  display: inline-block;\n",
       "  line-height: 1.2em;\n",
       "}\n",
       "\n",
       "#sk-container-id-1 div.sk-label-container {\n",
       "  text-align: center;\n",
       "}\n",
       "\n",
       "/* Estimator-specific */\n",
       "#sk-container-id-1 div.sk-estimator {\n",
       "  font-family: monospace;\n",
       "  border: 1px dotted var(--sklearn-color-border-box);\n",
       "  border-radius: 0.25em;\n",
       "  box-sizing: border-box;\n",
       "  margin-bottom: 0.5em;\n",
       "  /* unfitted */\n",
       "  background-color: var(--sklearn-color-unfitted-level-0);\n",
       "}\n",
       "\n",
       "#sk-container-id-1 div.sk-estimator.fitted {\n",
       "  /* fitted */\n",
       "  background-color: var(--sklearn-color-fitted-level-0);\n",
       "}\n",
       "\n",
       "/* on hover */\n",
       "#sk-container-id-1 div.sk-estimator:hover {\n",
       "  /* unfitted */\n",
       "  background-color: var(--sklearn-color-unfitted-level-2);\n",
       "}\n",
       "\n",
       "#sk-container-id-1 div.sk-estimator.fitted:hover {\n",
       "  /* fitted */\n",
       "  background-color: var(--sklearn-color-fitted-level-2);\n",
       "}\n",
       "\n",
       "/* Specification for estimator info (e.g. \"i\" and \"?\") */\n",
       "\n",
       "/* Common style for \"i\" and \"?\" */\n",
       "\n",
       ".sk-estimator-doc-link,\n",
       "a:link.sk-estimator-doc-link,\n",
       "a:visited.sk-estimator-doc-link {\n",
       "  float: right;\n",
       "  font-size: smaller;\n",
       "  line-height: 1em;\n",
       "  font-family: monospace;\n",
       "  background-color: var(--sklearn-color-background);\n",
       "  border-radius: 1em;\n",
       "  height: 1em;\n",
       "  width: 1em;\n",
       "  text-decoration: none !important;\n",
       "  margin-left: 1ex;\n",
       "  /* unfitted */\n",
       "  border: var(--sklearn-color-unfitted-level-1) 1pt solid;\n",
       "  color: var(--sklearn-color-unfitted-level-1);\n",
       "}\n",
       "\n",
       ".sk-estimator-doc-link.fitted,\n",
       "a:link.sk-estimator-doc-link.fitted,\n",
       "a:visited.sk-estimator-doc-link.fitted {\n",
       "  /* fitted */\n",
       "  border: var(--sklearn-color-fitted-level-1) 1pt solid;\n",
       "  color: var(--sklearn-color-fitted-level-1);\n",
       "}\n",
       "\n",
       "/* On hover */\n",
       "div.sk-estimator:hover .sk-estimator-doc-link:hover,\n",
       ".sk-estimator-doc-link:hover,\n",
       "div.sk-label-container:hover .sk-estimator-doc-link:hover,\n",
       ".sk-estimator-doc-link:hover {\n",
       "  /* unfitted */\n",
       "  background-color: var(--sklearn-color-unfitted-level-3);\n",
       "  color: var(--sklearn-color-background);\n",
       "  text-decoration: none;\n",
       "}\n",
       "\n",
       "div.sk-estimator.fitted:hover .sk-estimator-doc-link.fitted:hover,\n",
       ".sk-estimator-doc-link.fitted:hover,\n",
       "div.sk-label-container:hover .sk-estimator-doc-link.fitted:hover,\n",
       ".sk-estimator-doc-link.fitted:hover {\n",
       "  /* fitted */\n",
       "  background-color: var(--sklearn-color-fitted-level-3);\n",
       "  color: var(--sklearn-color-background);\n",
       "  text-decoration: none;\n",
       "}\n",
       "\n",
       "/* Span, style for the box shown on hovering the info icon */\n",
       ".sk-estimator-doc-link span {\n",
       "  display: none;\n",
       "  z-index: 9999;\n",
       "  position: relative;\n",
       "  font-weight: normal;\n",
       "  right: .2ex;\n",
       "  padding: .5ex;\n",
       "  margin: .5ex;\n",
       "  width: min-content;\n",
       "  min-width: 20ex;\n",
       "  max-width: 50ex;\n",
       "  color: var(--sklearn-color-text);\n",
       "  box-shadow: 2pt 2pt 4pt #999;\n",
       "  /* unfitted */\n",
       "  background: var(--sklearn-color-unfitted-level-0);\n",
       "  border: .5pt solid var(--sklearn-color-unfitted-level-3);\n",
       "}\n",
       "\n",
       ".sk-estimator-doc-link.fitted span {\n",
       "  /* fitted */\n",
       "  background: var(--sklearn-color-fitted-level-0);\n",
       "  border: var(--sklearn-color-fitted-level-3);\n",
       "}\n",
       "\n",
       ".sk-estimator-doc-link:hover span {\n",
       "  display: block;\n",
       "}\n",
       "\n",
       "/* \"?\"-specific style due to the `<a>` HTML tag */\n",
       "\n",
       "#sk-container-id-1 a.estimator_doc_link {\n",
       "  float: right;\n",
       "  font-size: 1rem;\n",
       "  line-height: 1em;\n",
       "  font-family: monospace;\n",
       "  background-color: var(--sklearn-color-background);\n",
       "  border-radius: 1rem;\n",
       "  height: 1rem;\n",
       "  width: 1rem;\n",
       "  text-decoration: none;\n",
       "  /* unfitted */\n",
       "  color: var(--sklearn-color-unfitted-level-1);\n",
       "  border: var(--sklearn-color-unfitted-level-1) 1pt solid;\n",
       "}\n",
       "\n",
       "#sk-container-id-1 a.estimator_doc_link.fitted {\n",
       "  /* fitted */\n",
       "  border: var(--sklearn-color-fitted-level-1) 1pt solid;\n",
       "  color: var(--sklearn-color-fitted-level-1);\n",
       "}\n",
       "\n",
       "/* On hover */\n",
       "#sk-container-id-1 a.estimator_doc_link:hover {\n",
       "  /* unfitted */\n",
       "  background-color: var(--sklearn-color-unfitted-level-3);\n",
       "  color: var(--sklearn-color-background);\n",
       "  text-decoration: none;\n",
       "}\n",
       "\n",
       "#sk-container-id-1 a.estimator_doc_link.fitted:hover {\n",
       "  /* fitted */\n",
       "  background-color: var(--sklearn-color-fitted-level-3);\n",
       "}\n",
       "</style><div id=\"sk-container-id-1\" class=\"sk-top-container\"><div class=\"sk-text-repr-fallback\"><pre>DecisionTreeRegressor(random_state=1)</pre><b>In a Jupyter environment, please rerun this cell to show the HTML representation or trust the notebook. <br />On GitHub, the HTML representation is unable to render, please try loading this page with nbviewer.org.</b></div><div class=\"sk-container\" hidden><div class=\"sk-item\"><div class=\"sk-estimator fitted sk-toggleable\"><input class=\"sk-toggleable__control sk-hidden--visually\" id=\"sk-estimator-id-1\" type=\"checkbox\" checked><label for=\"sk-estimator-id-1\" class=\"sk-toggleable__label fitted sk-toggleable__label-arrow fitted\">&nbsp;&nbsp;DecisionTreeRegressor<a class=\"sk-estimator-doc-link fitted\" rel=\"noreferrer\" target=\"_blank\" href=\"https://scikit-learn.org/1.5/modules/generated/sklearn.tree.DecisionTreeRegressor.html\">?<span>Documentation for DecisionTreeRegressor</span></a><span class=\"sk-estimator-doc-link fitted\">i<span>Fitted</span></span></label><div class=\"sk-toggleable__content fitted\"><pre>DecisionTreeRegressor(random_state=1)</pre></div> </div></div></div></div>"
      ],
      "text/plain": [
       "DecisionTreeRegressor(random_state=1)"
      ]
     },
     "execution_count": 11,
     "metadata": {},
     "output_type": "execute_result"
    }
   ],
   "source": [
    "from sklearn.tree import DecisionTreeRegressor\n",
    "\n",
    "# Define\n",
    "melbourne_model = DecisionTreeRegressor(random_state=1)\n",
    "\n",
    "# Fit\n",
    "melbourne_model.fit(X, y)"
   ]
  },
  {
   "cell_type": "markdown",
   "metadata": {
    "id": "AW0X_lTUydzo",
    "slideshow": {
     "slide_type": "slide"
    }
   },
   "source": [
    "Many machine learning models allow some randomness in model training. Specifying a number for random_state ensures you get the same results in each run. This is considered a good practice. You use any number, and model quality won't depend meaningfully on exactly what value you choose."
   ]
  },
  {
   "cell_type": "markdown",
   "metadata": {
    "id": "T1x8xMw2ydzo",
    "slideshow": {
     "slide_type": "fragment"
    }
   },
   "source": [
    "We now have a fitted model that we can use to make predictions.\n",
    "\n",
    "In practice, you'll want to make predictions for new houses coming on the market rather than the houses we already have prices for. But we'll make predictions for the first few rows of the training data to see how the predict function works."
   ]
  },
  {
   "cell_type": "code",
   "execution_count": 12,
   "metadata": {
    "colab": {
     "base_uri": "https://localhost:8080/"
    },
    "id": "qjQLasBvydzo",
    "outputId": "907e7f2a-c483-4184-c322-10c8d852fc32",
    "slideshow": {
     "slide_type": "slide"
    }
   },
   "outputs": [
    {
     "name": "stdout",
     "output_type": "stream",
     "text": [
      "Making predictions for the following 5 houses:\n",
      "   Rooms  Bathroom  Landsize  BuildingArea  YearBuilt  Lattitude  Longtitude\n",
      "1      2       1.0     156.0          79.0     1900.0   -37.8079    144.9934\n",
      "2      3       2.0     134.0         150.0     1900.0   -37.8093    144.9944\n",
      "4      4       1.0     120.0         142.0     2014.0   -37.8072    144.9941\n",
      "6      3       2.0     245.0         210.0     1910.0   -37.8024    144.9993\n",
      "7      2       1.0     256.0         107.0     1890.0   -37.8060    144.9954\n",
      "The predictions are\n",
      "[1035000. 1465000. 1600000. 1876000. 1636000.]\n"
     ]
    }
   ],
   "source": [
    "print(\"Making predictions for the following 5 houses:\")\n",
    "print(X.head())\n",
    "print(\"The predictions are\")\n",
    "print(melbourne_model.predict(X.head()))"
   ]
  },
  {
   "cell_type": "markdown",
   "metadata": {
    "id": "Ub7VtW9-ydzo",
    "slideshow": {
     "slide_type": "slide"
    }
   },
   "source": [
    "## Model Validation\n",
    "\n"
   ]
  },
  {
   "cell_type": "markdown",
   "metadata": {
    "id": "sXA2JeVYydzs"
   },
   "source": [
    "We have successfully trained our very first model. However, we have no clue how good our model is. Yet, measuring model quality is the key to iteratively improving our models.\n",
    "\n",
    "In most (though not all) applications, the relevant measure of model quality is predictive accuracy. In other words, will the model's predictions be close to what actually happens."
   ]
  },
  {
   "cell_type": "markdown",
   "metadata": {
    "id": "ZjrIa1AEydzs",
    "slideshow": {
     "slide_type": "slide"
    }
   },
   "source": [
    "### Validation Metric: Mean absolute error (MAE)\n"
   ]
  },
  {
   "cell_type": "markdown",
   "metadata": {
    "id": "Oa_G6C1Lydzs"
   },
   "source": [
    "To evaluate the performance of our model we need to find a way to summarize the model quality in an understandable way. If we compare predicted and actual home values in our example dataset for 10,000 houses, we will find a mix of good and bad predictions. However, looking through a list of 10,000 predicted and actual values would be pointless. We need to summarize this into a single metric."
   ]
  },
  {
   "cell_type": "markdown",
   "metadata": {
    "id": "0LLH13soydzs",
    "slideshow": {
     "slide_type": "fragment"
    }
   },
   "source": [
    "``Mean absolute error (MAE) = Mean (|actual price − predicted price|)``"
   ]
  },
  {
   "cell_type": "markdown",
   "metadata": {
    "id": "-JFtTETzydzs"
   },
   "source": [
    "There are many metrics for summarizing model quality, but we'll start with one called Mean Absolute Error (**MAE**). Let's break down this metric starting with the last word, error.\n",
    "\n",
    "The prediction error for each house is:\n",
    "\n",
    "``error=actual−predicted``"
   ]
  },
  {
   "cell_type": "markdown",
   "metadata": {
    "id": "Mn1Vr9haydzs",
    "slideshow": {
     "slide_type": "slide"
    }
   },
   "source": [
    "So, if a house cost 150,000 Euros and you predicted it would cost 100,000 Dollars the error is 50,000 Dollars.\n",
    "\n",
    "With the MAE metric, we take the absolute value of each error. This converts each error to a positive number. We then take the average of those absolute errors. This is our measure of model quality."
   ]
  },
  {
   "cell_type": "markdown",
   "metadata": {
    "id": "mVvbX3VXydzs"
   },
   "source": [
    "We could implement a function to calculate this metric (or any other metric) on our dataframe. However, Scikit-learn provides implementations of the most common metrics that can be easily imported."
   ]
  },
  {
   "cell_type": "code",
   "execution_count": 13,
   "metadata": {
    "id": "gTB3twNwydzt",
    "slideshow": {
     "slide_type": "slide"
    }
   },
   "outputs": [],
   "source": [
    "from sklearn.metrics import mean_absolute_error"
   ]
  },
  {
   "cell_type": "markdown",
   "metadata": {
    "id": "SU3qkfAKydzt"
   },
   "source": [
    "So lets use our decision tree model to make predictions for all observations in our dataset and calculate the MAE:"
   ]
  },
  {
   "cell_type": "code",
   "execution_count": 14,
   "metadata": {
    "colab": {
     "base_uri": "https://localhost:8080/"
    },
    "id": "XSjgagP5ydzt",
    "outputId": "64ce5032-fad0-42e8-e564-682ef271d23c",
    "slideshow": {
     "slide_type": "fragment"
    }
   },
   "outputs": [
    {
     "name": "stdout",
     "output_type": "stream",
     "text": [
      "The MAE of our model is: 434.71594577146544\n"
     ]
    }
   ],
   "source": [
    "predicted_home_prices = melbourne_model.predict(X)\n",
    "mae = mean_absolute_error(y, predicted_home_prices)\n",
    "\n",
    "print(\"The MAE of our model is: {}\".format(mae))"
   ]
  },
  {
   "cell_type": "markdown",
   "metadata": {
    "slideshow": {
     "slide_type": "slide"
    }
   },
   "source": [
    "### Other common validation metrics"
   ]
  },
  {
   "cell_type": "markdown",
   "metadata": {
    "slideshow": {
     "slide_type": "fragment"
    }
   },
   "source": [
    "\n",
    "\n",
    "#### **Mean Squared Error (MSE)**\n",
    "The **Mean Squared Error** measures the average squared difference between predicted values (`y_hat`) and actual values (`y`).\n",
    "\n",
    "$$\n",
    "\\text{MSE} = \\frac{1}{n} \\sum_{i=1}^n (y_i - \\hat{y}_i)^2\n",
    "$$\n",
    "\n",
    "$$\n",
    "n \\text{ : Number of observations} \\\\\n",
    "y_i \\text{ : Actual value} \\\\\n",
    "\\hat{y}_i \\text{ : Predicted value}\n",
    "$$\n"
   ]
  },
  {
   "cell_type": "markdown",
   "metadata": {
    "slideshow": {
     "slide_type": "slide"
    }
   },
   "source": [
    "####  **Root Mean Squared Error (RMSE)**\n",
    "The **Root Mean Squared Error** is the square root of the MSE. It represents the error in the same units as the target variable, making it __more interpretable.__\n",
    "\n",
    "$$\n",
    "\\text{RMSE} = \\sqrt{\\frac{1}{n} \\sum_{i=1}^n (y_i - \\hat{y}_i)^2}\n",
    "$$\n",
    "\n"
   ]
  },
  {
   "cell_type": "markdown",
   "metadata": {
    "slideshow": {
     "slide_type": "slide"
    }
   },
   "source": [
    "#### **Mean Absolute Percentage Error (MAPE)**\n",
    "The **Mean Absolute Percentage Error** measures the average percentage difference between predicted values and actual values. It is __scale-independent,__ expressed as a percentage.\n",
    "\n",
    "$$\n",
    "\\text{MAPE} = \\frac{1}{n} \\sum_{i=1}^n \\left| \\frac{y_i - \\hat{y}_i}{y_i} \\right| \\times 100\n",
    "$$"
   ]
  },
  {
   "cell_type": "markdown",
   "metadata": {
    "slideshow": {
     "slide_type": "slide"
    }
   },
   "source": [
    "## Exercise\n",
    "\n",
    "1. Create an additional evaluation function that evaluates the __root mean squared error (RMSE)__ instead of the mean absolute error (MAE). Hint: Look again in the scikit-learn documentation for help.\n",
    "\n",
    "3. Compare the resulting RMSE with the MAE. How do you interpret the differences?"
   ]
  },
  {
   "cell_type": "code",
   "execution_count": 15,
   "metadata": {},
   "outputs": [],
   "source": [
    "## Your code here"
   ]
  },
  {
   "cell_type": "markdown",
   "metadata": {},
   "source": [
    "Your intepretation here..."
   ]
  },
  {
   "cell_type": "markdown",
   "metadata": {
    "slideshow": {
     "slide_type": "slide"
    }
   },
   "source": [
    "## Classification metrics"
   ]
  },
  {
   "cell_type": "markdown",
   "metadata": {},
   "source": [
    "### Confusion Matrix\n",
    "\n",
    "To evaluate the performance of a classification model, the __confusion matrix__ and __derived metrics__ are used. The confusion matrix provides a clear breakdown of the model's __predictions compared to the actual outcomes.__ Here's an explanation of its components:\n",
    "\n",
    "\n",
    "\n",
    "|                     | **Predicted Positive** | **Predicted Negative** |\n",
    "|---------------------|-------------------------|-------------------------|\n",
    "| **Actual Positive** | True Positive (TP)     | False Negative (FN)     |\n",
    "| **Actual Negative** | False Positive (FP)    | True Negative (TN)      |\n"
   ]
  },
  {
   "cell_type": "markdown",
   "metadata": {
    "slideshow": {
     "slide_type": "skip"
    }
   },
   "source": [
    "\n",
    "### Definitions:\n",
    "- **True Positive (TP)**: The model correctly predicts the positive class.\n",
    "- **False Positive (FP)**: The model incorrectly predicts the positive class for an actual negative.\n",
    "- **False Negative (FN)**: The model incorrectly predicts the negative class for an actual positive.\n",
    "- **True Negative (TN)**: The model correctly predicts the negative class."
   ]
  },
  {
   "cell_type": "markdown",
   "metadata": {
    "slideshow": {
     "slide_type": "slide"
    }
   },
   "source": [
    "### Metrics Derived from the Confusion Matrix:\n"
   ]
  },
  {
   "cell_type": "markdown",
   "metadata": {
    "slideshow": {
     "slide_type": "fragment"
    }
   },
   "source": [
    "### Accuracy\n",
    "The **Accuracy** measures the proportion of correct predictions (both positive and negative) to the total number of predictions.\n",
    "\n",
    "$$\n",
    "\\text{Accuracy} = \\frac{\\text{TP} + \\text{TN}}{\\text{TP} + \\text{TN} + \\text{FP} + \\text{FN}}\n",
    "$$\n",
    "\n",
    "**Use Case**:  \n",
    " Accuracy is useful when the dataset is __balanced,__ and the correct prediction of all classes is equally important. Example: A bank uses a model to predict loan approvals ensuring both approvals and rejections are correctly predicted.\n"
   ]
  },
  {
   "cell_type": "markdown",
   "metadata": {
    "slideshow": {
     "slide_type": "slide"
    }
   },
   "source": [
    "### Precision\n",
    "\n",
    "The **Precision** measures the proportion of true positive predictions out of all predicted positive cases. \n",
    "\n",
    "**Formula**:\n",
    "$$\n",
    "\\text{Precision} = \\frac{\\text{TP}}{\\text{TP} + \\text{FP}}\n",
    "$$\n",
    "\n",
    "**Use Case**: It focuses on reducing __false positives.__ Example: A spam filter evaluates flagged emails. High precision ensures fewer legitimate emails are incorrectly moved to the spam folder (**False Positives**).\n"
   ]
  },
  {
   "cell_type": "markdown",
   "metadata": {
    "slideshow": {
     "slide_type": "slide"
    }
   },
   "source": [
    "### Recall (Sensitivity)\n",
    "\n",
    "The **Recall** measures the proportion of actual positive cases correctly identified by the model. It focuses on minimizing false negatives.\n",
    "\n",
    "**Formula**:\n",
    "$$\n",
    "\\text{Recall} = \\frac{\\text{TP}}{\\text{TP} + \\text{FN}}\n",
    "$$\n",
    "\n",
    "**Use Case**:  \n",
    "A cancer detection system ensures high recall, minimizing missed diagnoses (**False Negatives**) to catch as many positive cases as possible.\n"
   ]
  },
  {
   "cell_type": "markdown",
   "metadata": {
    "slideshow": {
     "slide_type": "slide"
    }
   },
   "source": [
    "### F1 Score\n",
    "\n",
    "The **F1 Score** is the harmonic mean of Precision and Recall. It balances both metrics and is particularly useful for imbalanced datasets.\n",
    "\n",
    "**Formula**:\n",
    "$$\n",
    "\\text{F1 Score} = 2 \\cdot \\frac{\\text{Precision} \\cdot \\text{Recall}}{\\text{Precision} + \\text{Recall}}\n",
    "$$\n",
    "\n",
    "**Use Case**:  \n",
    "In manufacturing, the F1 Score ensures that defective products are accurately identified, balancing false positives and false negatives.\n"
   ]
  },
  {
   "cell_type": "markdown",
   "metadata": {},
   "source": [
    "There are __many more metrics__ derived from the confusion matrix, each with specific purposes. [Wikipedia](https://en.wikipedia.org/wiki/Evaluation_of_binary_classifiers) provides a nice overview:\n",
    "\n",
    "<img src=\"https://raw.githubusercontent.com/vhaus63/ids_data/main/confusion_matrix_wikipedia.png\" style=\"width:80%\" />\n",
    "\n"
   ]
  },
  {
   "cell_type": "markdown",
   "metadata": {
    "id": "A9k0oaVDydzt",
    "slideshow": {
     "slide_type": "slide"
    }
   },
   "source": [
    "## In-Sample vs. Out-of-Sample Scores"
   ]
  },
  {
   "cell_type": "markdown",
   "metadata": {
    "id": "KnpfHSDnydzt"
   },
   "source": [
    "The MAE of our model looks __very promising__. However, we used a single \"sample\" of houses for both building the model and evaluating it. Hence, the measure we just computed can be called an __\"in-sample\" score__.\n",
    "\n",
    "Trusting the in-sample score to evaluate a model is __very dangerous__. Imagine that there is a variable in the dataset that is unrelated to the home price (e.g., the name of the current owner). However, in the sample of data we used to build the model, all names are unique and hence, all house prices in the sample can be explained by this feature. Our model will see this pattern and it will try to apply it to new datasets."
   ]
  },
  {
   "cell_type": "markdown",
   "metadata": {
    "id": "PcEHAGssydzt",
    "slideshow": {
     "slide_type": "slide"
    }
   },
   "source": [
    "Since models' practical value come from making predictions on __new data__, we measure performance on data that wasn't used to build the model. The most straightforward way to do this is to exclude some data from the model-building process, and then use those to test the model's accuracy on data it hasn't seen before. This data is called __validation data__."
   ]
  },
  {
   "cell_type": "markdown",
   "metadata": {
    "id": "waZWO4g2ydzt"
   },
   "source": [
    "\n",
    "<img src=\"https://raw.githubusercontent.com/GuntherGust/tds2_data/main/images/03/4_train-test-split.jpg?raw=1\" style=\"width:80%; float:left;\" />"
   ]
  },
  {
   "cell_type": "markdown",
   "metadata": {
    "id": "qdLgDAbIydzt",
    "slideshow": {
     "slide_type": "slide"
    }
   },
   "source": [
    "### Backround on data splits for training and validating machine learning models\n",
    "\n",
    "\n",
    "- For an informal and illustrative introduction, see [this youtube video](https://www.youtube.com/watch?v=fSytzGwwBVw&ab_channel=StatQuestwithJoshStarmer)\n",
    "- For a formal coverage see [Hastie et al: Elements of Statistical Learning, Chapter 7](https://www.sas.upenn.edu/~fdiebold/NoHesitations/BookAdvanced.pdf)\n"
   ]
  },
  {
   "cell_type": "markdown",
   "metadata": {
    "id": "CjOKmZ3Sydzt",
    "slideshow": {
     "slide_type": "slide"
    }
   },
   "source": [
    "The scikit-learn library has a function train_test_split to break up the data into two pieces. We'll use some of that data as training data to fit the model, and we'll use the other data as validation data to calculate the MAE."
   ]
  },
  {
   "cell_type": "code",
   "execution_count": 16,
   "metadata": {
    "id": "4LQ-MLwlydzt"
   },
   "outputs": [],
   "source": [
    "from sklearn.model_selection import train_test_split"
   ]
  },
  {
   "cell_type": "code",
   "execution_count": 17,
   "metadata": {
    "colab": {
     "base_uri": "https://localhost:8080/"
    },
    "id": "IV0nFa3nydzt",
    "outputId": "2459286c-b21b-4a96-d9ea-e8325e9654f3",
    "slideshow": {
     "slide_type": "fragment"
    }
   },
   "outputs": [
    {
     "name": "stdout",
     "output_type": "stream",
     "text": [
      "The MAE of our model is: 262494.3027759845\n"
     ]
    }
   ],
   "source": [
    "# Split the data\n",
    "train_X, val_X, train_y, val_y = train_test_split(X, y, random_state = 0)\n",
    "\n",
    "# Build the model\n",
    "melbourne_model = DecisionTreeRegressor(random_state=1)\n",
    "melbourne_model.fit(train_X, train_y)\n",
    "\n",
    "# Evaluate the performance\n",
    "val_predictions = melbourne_model.predict(val_X)\n",
    "val_mae = mean_absolute_error(val_y, val_predictions)\n",
    "\n",
    "print(\"The MAE of our model is: {}\".format(val_mae))"
   ]
  },
  {
   "cell_type": "markdown",
   "metadata": {
    "id": "VkKXafBoydzu",
    "slideshow": {
     "slide_type": "slide"
    }
   },
   "source": [
    "The MAE for the in-sample data was about __500 Dollars__. Out-of-sample it is __more than 250,000 Dollars__.\n",
    "\n",
    "This is the difference between a model that is almost exactly right, and one that is unusable for most practical purposes. As a point of reference, the average home value in the validation data is about __1.1 million dollars__. So the error in new data is about __a quarter__ of the average home value.\n",
    "\n",
    "There are many ways to __tune and improve this model__, such as experimenting to find better features or different model types."
   ]
  },
  {
   "cell_type": "markdown",
   "metadata": {
    "id": "cQgh73KUydzu",
    "slideshow": {
     "slide_type": "slide"
    }
   },
   "source": [
    "## Exercise \n",
    "\n",
    "1. Repeat the previous model training using a linear regression instead of the decision tree. Hint: Check out the [scikit-learn documentation](https://scikit-learn.org/1.5/modules/generated/sklearn.linear_model.LinearRegression.html), where the  regression model is decribed and code examples are given.\n",
    "2. How do you interpret the results?"
   ]
  },
  {
   "cell_type": "code",
   "execution_count": 18,
   "metadata": {
    "colab": {
     "base_uri": "https://localhost:8080/"
    },
    "id": "1YCTOXGsydzu",
    "outputId": "ab579400-27cb-454c-e687-b5ac22661ac1"
   },
   "outputs": [],
   "source": [
    "#YOUR CODE HERE"
   ]
  },
  {
   "cell_type": "markdown",
   "metadata": {
    "id": "4Rabn2oS0Yc8"
   },
   "source": [
    "_Answer here_"
   ]
  },
  {
   "cell_type": "markdown",
   "metadata": {
    "slideshow": {
     "slide_type": "slide"
    }
   },
   "source": [
    "## Linear Regression Models\n",
    "\n",
    "To recap the basic functioning of linear regression models, please watch these videos [(1) Linear Regression](https://www.youtube.com/watch?v=nk2CQITm_eo&list=PLblh5JKOoLUIzaEkCLIUxQFjPIlapw8nU&index=4&ab_channel=StatQuestwithJoshStarmer) and [(2) Multiple Regression](https://www.youtube.com/watch?v=zITIFTsivN8&list=PLblh5JKOoLUIzaEkCLIUxQFjPIlapw8nU&index=4&ab_channel=StatQuestwithJoshStarmer).  <span style=\"color:red\">__This content is relevant for the exam!__</span>"
   ]
  },
  {
   "cell_type": "markdown",
   "metadata": {
    "id": "ObRGsPTAydzu",
    "slideshow": {
     "slide_type": "slide"
    }
   },
   "source": [
    "## Model Tuning (aka. \"Hyperparameter Tuning\")\n",
    "\n",
    "### Example: Varying the Depth of the Decision Tree\n",
    "\n"
   ]
  },
  {
   "cell_type": "markdown",
   "metadata": {
    "id": "2rKRSZB9ydzu"
   },
   "source": [
    "Now that we have a reliable way to measure the model performance, we can experiment with different parameters of the decision tree (or entirely different models) and see which combination gives us the best predictions. You can find the available models and parameters in the Scikit-learn [documentation](https://scikit-learn.org/stable/modules/classes.html).\n",
    "\n",
    "In this simple example we will stick with our decision tree model and only vary one of the parameters.\n",
    "\n",
    "You can see in the decision tree [documentation](http://scikit-learn.org/stable/modules/generated/sklearn.tree.DecisionTreeRegressor.html) that the model has many parameters (more than you'll want or need for a long time). The most important parameters determine the tree's depth."
   ]
  },
  {
   "cell_type": "markdown",
   "metadata": {
    "id": "4cBTLipPydzu",
    "slideshow": {
     "slide_type": "slide"
    }
   },
   "source": [
    "In practice, it's not uncommon for a tree to have 10 splits between the top level (all houses) and a leaf. As the tree gets deeper, the dataset gets sliced up into leaves with fewer houses. If a tree only had 1 split, it divides the data into 2 groups. If each group is split again, we would get 4 groups of houses. Splitting each of those again would create 8 groups. If we keep doubling the number of groups by adding more splits at each level, we'll have $2^{10}$  groups of houses by the time we get to the 10th level. That's 1024 leaves.\n",
    "\n",
    "When we divide the houses amongst many leaves, we also have fewer houses in each leaf. Leaves with very few houses will make predictions that are quite close to those homes' actual values, but they may make very unreliable predictions for new data (because each prediction is based on only a few houses). This is a phenomenon called **overfitting**, where a model matches the training data almost perfectly, but does poorly in validation and other new data."
   ]
  },
  {
   "cell_type": "markdown",
   "metadata": {
    "id": "DPNZb7UEydzu",
    "slideshow": {
     "slide_type": "slide"
    }
   },
   "source": [
    "On the flip side, if we make our tree very shallow, it doesn't divide up the houses into very distinct groups. At an extreme, if a tree divides houses into only 2 or 4, each group still has a wide variety of houses. Resulting predictions may be far off for most houses, even in the training data (and it will be bad in validation too for the same reason). When a model fails to capture important distinctions and patterns in the data, so it performs poorly even in training data, that is called **underfitting**.\n",
    "\n",
    "Since we care about accuracy on new data, which we estimate from our validation data, we want to find the sweet spot between underfitting and overfitting."
   ]
  },
  {
   "cell_type": "markdown",
   "metadata": {
    "id": "B_aWkHXmydzu",
    "slideshow": {
     "slide_type": "slide"
    }
   },
   "source": [
    "There are a few alternatives for controlling the tree depth, and many allow for some routes through the tree to have greater depth than other routes. But the max_leaf_nodes argument provides a very sensible way to control overfitting vs underfitting. The more leaves we allow the model to make, the more we move from the underfitting area in the above graph to the overfitting area.\n",
    "\n",
    "We write a short utility function to help compare MAE scores from different values for max_leaf_nodes:"
   ]
  },
  {
   "cell_type": "code",
   "execution_count": 19,
   "metadata": {
    "id": "csmlOCpKydzv"
   },
   "outputs": [],
   "source": [
    "def get_mae(max_leaf_nodes, train_X, val_X, train_y, val_y):\n",
    "    model = DecisionTreeRegressor(max_leaf_nodes=max_leaf_nodes, random_state=1)\n",
    "    model.fit(train_X, train_y)\n",
    "    preds_val = model.predict(val_X)\n",
    "    mae = mean_absolute_error(val_y, preds_val)\n",
    "    return(mae)"
   ]
  },
  {
   "cell_type": "markdown",
   "metadata": {
    "id": "YgtSMsKfydzv",
    "slideshow": {
     "slide_type": "slide"
    }
   },
   "source": [
    "Next, we loop over different values for the parameter to compare the in-sample and the out-of-sample performance of our model:"
   ]
  },
  {
   "cell_type": "code",
   "execution_count": 20,
   "metadata": {
    "colab": {
     "base_uri": "https://localhost:8080/"
    },
    "id": "3MDvuCjXydzv",
    "outputId": "a5ff26c8-e72c-488a-b859-9ef32a462611"
   },
   "outputs": [
    {
     "name": "stdout",
     "output_type": "stream",
     "text": [
      "Max leaf nodes: 2  \t In-sample:  411930 \t Out-of-sample:  433608\n",
      "Max leaf nodes: 5  \t In-sample:  325389 \t Out-of-sample:  347380\n",
      "Max leaf nodes: 50  \t In-sample:  221593 \t Out-of-sample:  258171\n",
      "Max leaf nodes: 500  \t In-sample:  116715 \t Out-of-sample:  246793\n",
      "Max leaf nodes: 5000  \t In-sample:  1881 \t Out-of-sample:  261451\n",
      "Max leaf nodes: 10000  \t In-sample:  434 \t Out-of-sample:  261451\n"
     ]
    }
   ],
   "source": [
    "for max_leaf_nodes in [2, 5, 50, 500, 5000, 10000]:\n",
    "    is_mae = get_mae(max_leaf_nodes, X, X, y, y)\n",
    "    oos_mae = get_mae(max_leaf_nodes, train_X, val_X, train_y, val_y)\n",
    "    print(\"Max leaf nodes: %d  \\t In-sample:  %d \\t Out-of-sample:  %d\" %(max_leaf_nodes, is_mae, oos_mae))"
   ]
  },
  {
   "cell_type": "markdown",
   "metadata": {
    "id": "xIqPGtp4ydzv",
    "slideshow": {
     "slide_type": "slide"
    }
   },
   "source": [
    "Here's the takeaway: Models can suffer from either:\n",
    "\n",
    "- __Overfitting:__ capturing spurious patterns that won't recur in the future, leading to less accurate predictions, or\n",
    "- __Underfitting:__ failing to capture relevant patterns, again leading to less accurate predictions.\n",
    "\n",
    "We use validation data, which isn't used in model training, to measure a candidate model's accuracy. This lets us try many candidate models and keep the best one."
   ]
  },
  {
   "cell_type": "markdown",
   "metadata": {
    "slideshow": {
     "slide_type": "slide"
    }
   },
   "source": [
    "### k-Fold Cross Validation \n",
    "\n",
    "When evaluating different settings (“hyperparameters”) for estimators, such as the number of leaf nodes, there is still a __risk of overfitting on the test set__ because the parameters can be tweaked until the __estimator performs optimally.__ This way, knowledge about the test set can __“leak”__ into the model and evaluation metrics no longer report on generalization performance. \n"
   ]
  },
  {
   "cell_type": "markdown",
   "metadata": {
    "slideshow": {
     "slide_type": "skip"
    }
   },
   "source": [
    "To solve this problem, yet another part of the dataset can be held out as a so-called __“validation set”:__ training proceeds on the __training set,__ after which evaluation is done on the __validation set,__ and when the experiment seems to be successful, final evaluation can be done on the __test set.__\n",
    "\n",
    "However, by partitioning the available data into three sets, we drastically __reduce the number of samples__ which can be used for learning the model, and the results can depend on a particular random choice for the pair of (train, validation) sets."
   ]
  },
  {
   "cell_type": "markdown",
   "metadata": {
    "slideshow": {
     "slide_type": "skip"
    }
   },
   "source": [
    "A solution to this problem is a procedure called cross-validation (CV for short). A test set should still be held out for final evaluation, but the validation set is no longer needed when doing CV. In the basic approach, called k-fold CV, the training set is split into k smaller sets (other approaches are described below, but generally follow the same principles). The following procedure is followed for each of the k “folds”:\n",
    "\n",
    "- A model is trained using of the folds as training data;\n",
    "- the resulting model is validated on the remaining part of the data (i.e., it is used as a test set to compute a performance measure such as accuracy).\n",
    "\n",
    "The performance measure reported by k-fold cross-validation is then the average of the values computed in the loop. This approach can be computationally expensive, but does not waste too much data (as is the case when fixing an arbitrary validation set), which is a major advantage in problems such as inverse inference where the number of samples is very small."
   ]
  },
  {
   "cell_type": "markdown",
   "metadata": {
    "slideshow": {
     "slide_type": "slide"
    }
   },
   "source": [
    "<img src=\"https://raw.githubusercontent.com/vhaus63/ids_data/main/kfoldcv.png\" style=\"width:70%\" />"
   ]
  },
  {
   "cell_type": "markdown",
   "metadata": {
    "slideshow": {
     "slide_type": "slide"
    }
   },
   "source": [
    "Scikit-learn provides standardized methods that __automate the entire k-fold cross-validation loop,__ see the examples of the [official documentation](https://scikit-learn.org/1.5/modules/cross_validation.html)."
   ]
  },
  {
   "cell_type": "markdown",
   "metadata": {
    "slideshow": {
     "slide_type": "slide"
    }
   },
   "source": [
    "# Mentimeter"
   ]
  },
  {
   "cell_type": "markdown",
   "metadata": {
    "id": "S1nxE08gydzv",
    "slideshow": {
     "slide_type": "slide"
    }
   },
   "source": [
    "## Training a Random Forest\n",
    "\n"
   ]
  },
  {
   "cell_type": "markdown",
   "metadata": {
    "id": "7cM_gODLydzv"
   },
   "source": [
    "<img src=\"https://raw.githubusercontent.com/GuntherGust/tds2_data/main/images/03/Random_forest_explain.png?raw=1\" style=\"width:80%; float:left;\" />\n",
    "\n",
    "\n"
   ]
  },
  {
   "cell_type": "markdown",
   "metadata": {
    "id": "DHfrMkflydzv",
    "slideshow": {
     "slide_type": "slide"
    }
   },
   "source": [
    "Decision trees leave us with a difficult trade-off. A deep tree with lots of leaves will overfit because each prediction is coming from historical data from only the few houses at its leaf. But a shallow tree with few leaves will perform poorly because it fails to capture as many distinctions in the raw data.\n",
    "\n",
    "Even today's most sophisticated modeling techniques face this tension between underfitting and overfitting. But, many models have clever ideas that can lead to better performance. We'll look at the random forest as an example."
   ]
  },
  {
   "cell_type": "markdown",
   "metadata": {
    "id": "ZFlnPPwKydzv",
    "slideshow": {
     "slide_type": "fragment"
    }
   },
   "source": [
    "The random forest uses __many trees__, and it makes a prediction by __averaging the predictions of each component tree__. It generally has much better predictive accuracy than a single decision tree and it works well with default parameters. If you keep modeling, you can learn more models with even better performance, but many of those are sensitive to getting the right parameters."
   ]
  },
  {
   "cell_type": "markdown",
   "metadata": {
    "id": "caS-x4AZydzv",
    "slideshow": {
     "slide_type": "slide"
    }
   },
   "source": [
    "### Background on random forests\n",
    "\n",
    "\n",
    "- For an informal and illustrative introduction, see [this youtube video](https://www.youtube.com/watch?v=J4Wdy0Wc_xQ&ab_channel=StatQuestwithJoshStarmer)\n",
    "- For a formal coverage see [Hastie et al: Elements of Statistical Learning, Chapter 15](https://www.sas.upenn.edu/~fdiebold/NoHesitations/BookAdvanced.pdf)\n"
   ]
  },
  {
   "cell_type": "markdown",
   "metadata": {
    "id": "TTNnYuetydzv",
    "slideshow": {
     "slide_type": "slide"
    }
   },
   "source": [
    "Thanks to our Scikit-learn modeling pipeline we can reuse most of our code to train a random forest model with 100 trees."
   ]
  },
  {
   "cell_type": "code",
   "execution_count": 21,
   "metadata": {
    "id": "0D-b4cdKydzv"
   },
   "outputs": [],
   "source": [
    "from sklearn.ensemble import RandomForestRegressor"
   ]
  },
  {
   "cell_type": "code",
   "execution_count": 22,
   "metadata": {
    "colab": {
     "base_uri": "https://localhost:8080/"
    },
    "id": "-BnN3Bacydzw",
    "outputId": "a1ea2f89-abce-4df1-974a-119faa2ea453",
    "scrolled": true
   },
   "outputs": [
    {
     "name": "stdout",
     "output_type": "stream",
     "text": [
      "The MAE of our model is: 191669.7536453626\n"
     ]
    }
   ],
   "source": [
    "# Define\n",
    "forest_model = RandomForestRegressor(random_state=1, n_estimators=100)\n",
    "\n",
    "# Fit\n",
    "forest_model.fit(train_X, train_y)\n",
    "\n",
    "# Evaluate\n",
    "melb_preds = forest_model.predict(val_X)\n",
    "print(\"The MAE of our model is: {}\".format(mean_absolute_error(val_y, melb_preds)))"
   ]
  },
  {
   "cell_type": "markdown",
   "metadata": {
    "id": "lF6eYmeGydzw",
    "slideshow": {
     "slide_type": "fragment"
    }
   },
   "source": [
    "There is likely room for further improvement, but this is a __big improvement over the best decision tree error of 243,000__. There are parameters which allow you to change the performance of the Random Forest much as we changed the maximum depth of the single decision tree. But one of the best features of Random Forest models is that they generally work reasonably even without this tuning."
   ]
  },
  {
   "cell_type": "markdown",
   "metadata": {
    "slideshow": {
     "slide_type": "slide"
    }
   },
   "source": [
    "# Feature Engineering"
   ]
  },
  {
   "cell_type": "markdown",
   "metadata": {},
   "source": [
    "We just finished training our first machine learning models. To further improve the predictive power of the models we will have to __work on our dataset__."
   ]
  },
  {
   "cell_type": "markdown",
   "metadata": {
    "id": "xPzD3lmtydzw",
    "slideshow": {
     "slide_type": "slide"
    }
   },
   "source": [
    "## Missing Value Imputation\n"
   ]
  },
  {
   "cell_type": "markdown",
   "metadata": {
    "id": "M_rGQVGfydzw",
    "slideshow": {
     "slide_type": "-"
    }
   },
   "source": [
    "We will start with handling missing values in the data. Most machine learning libraries (including scikit-learn) give an error if we try to build a model using data with missing values. So we'll need to choose a strategy to handle missing values.\n",
    "\n",
    "We have already used a very simple strategy and dropped all rows containing missing values in the first example. To evaluate different approaches we will first load the full dataset and create a train-test split. (Note: As we cannot apply all imputation functions (e.g., mean) to categorical data we will only use numerical predictions in this simple example.)"
   ]
  },
  {
   "cell_type": "code",
   "execution_count": 23,
   "metadata": {
    "id": "H21cvi5_ydzw",
    "slideshow": {
     "slide_type": "slide"
    }
   },
   "outputs": [],
   "source": [
    "# Load dataset\n",
    "data = pd.read_csv(melbourne_file_path)\n",
    "\n",
    "# Target variable\n",
    "y = data['Price']\n",
    "\n",
    "# Drop non-numeric variables\n",
    "melb_predictors = data.drop(['Price'], axis=1)\n",
    "X = melb_predictors.select_dtypes(exclude=['object'])\n",
    "\n",
    "# Train-test split\n",
    "X_train, X_valid, y_train, y_valid = train_test_split(X, y, train_size=0.8, test_size=0.2,random_state=0)"
   ]
  },
  {
   "cell_type": "markdown",
   "metadata": {
    "id": "idRiZASAydzw",
    "slideshow": {
     "slide_type": "slide"
    }
   },
   "source": [
    "### Simple Imputation using the Mean\n",
    "\n",
    "One popular way to handle missing values is called imputation. Here, we fill in the missing values with some number. For instance, we can fill in the __mean__ value along each column. The imputed value won't be exactly right in most cases, but it usually leads to more accurate models than you would get from dropping the column entirely."
   ]
  },
  {
   "cell_type": "code",
   "execution_count": 24,
   "metadata": {
    "id": "6Su_tP-jydzw"
   },
   "outputs": [],
   "source": [
    "from sklearn.impute import SimpleImputer"
   ]
  },
  {
   "cell_type": "code",
   "execution_count": 25,
   "metadata": {
    "id": "KgErmO5bydzw",
    "slideshow": {
     "slide_type": "fragment"
    }
   },
   "outputs": [],
   "source": [
    "# Imputation\n",
    "simple_imputer = SimpleImputer()\n",
    "imputed_X_train = pd.DataFrame(simple_imputer.fit_transform(X_train))\n",
    "imputed_X_valid = pd.DataFrame(simple_imputer.transform(X_valid))\n",
    "\n",
    "# \"Repair\" column names\n",
    "imputed_X_train.columns = X_train.columns\n",
    "imputed_X_valid.columns = X_valid.columns"
   ]
  },
  {
   "cell_type": "markdown",
   "metadata": {
    "id": "jvTaFPmuydzw",
    "slideshow": {
     "slide_type": "slide"
    }
   },
   "source": [
    "To evaluate the performance of the approach, we modify our helper function (get_mae) to train and evaluate our model on different datasets:"
   ]
  },
  {
   "cell_type": "code",
   "execution_count": 26,
   "metadata": {
    "id": "ibyVk-Lrydzx"
   },
   "outputs": [],
   "source": [
    "def score_dataset(X_train, X_valid, y_train, y_valid):\n",
    "    model = RandomForestRegressor(n_estimators=100, random_state=1)\n",
    "    model.fit(X_train, y_train)\n",
    "    preds = model.predict(X_valid)\n",
    "    return mean_absolute_error(y_valid, preds)"
   ]
  },
  {
   "cell_type": "code",
   "execution_count": 27,
   "metadata": {
    "colab": {
     "base_uri": "https://localhost:8080/"
    },
    "id": "kn0fsaerydzx",
    "outputId": "9087b891-109f-4f48-dc77-348e4ca04b1d",
    "slideshow": {
     "slide_type": "fragment"
    }
   },
   "outputs": [
    {
     "name": "stdout",
     "output_type": "stream",
     "text": [
      "MAE using Imputation: 168820.61740795287\n"
     ]
    }
   ],
   "source": [
    "mae_imputation = score_dataset(imputed_X_train, imputed_X_valid, y_train, y_valid)\n",
    "print(\"MAE using Imputation: {}\".format(mae_imputation))"
   ]
  },
  {
   "cell_type": "markdown",
   "metadata": {
    "id": "nLGPOzt4ydzx",
    "slideshow": {
     "slide_type": "slide"
    }
   },
   "source": [
    "### Advanced Imputation\n",
    "\n"
   ]
  },
  {
   "cell_type": "markdown",
   "metadata": {
    "id": "ZMWKJ4cQydzx"
   },
   "source": [
    "We see that the imputation approach performs much better compared to the simple solution dropping all rows with NA values.\n",
    "\n",
    "Imputation is the standard approach, and it usually works well. However, imputed values may be systematically above or below their actual values (which weren't collected in the dataset). Or rows with missing values may be unique in some other way. In that case, your model would make better predictions by considering which values were originally missing."
   ]
  },
  {
   "cell_type": "markdown",
   "metadata": {
    "id": "_1JwWI0Dydzx",
    "slideshow": {
     "slide_type": "fragment"
    }
   },
   "source": [
    "In the advanced imputation approach, we impute the missing values, as before. And, additionally, for each column with missing entries in the original dataset, we __add a new column__ that shows the __location of the imputed entries__."
   ]
  },
  {
   "cell_type": "code",
   "execution_count": 28,
   "metadata": {
    "colab": {
     "base_uri": "https://localhost:8080/",
     "height": 226
    },
    "id": "2Qsl_hBhydzx",
    "outputId": "408e109a-9f76-4754-df19-b3b587c566e9",
    "slideshow": {
     "slide_type": "slide"
    }
   },
   "outputs": [
    {
     "data": {
      "text/html": [
       "<div>\n",
       "<style scoped>\n",
       "    .dataframe tbody tr th:only-of-type {\n",
       "        vertical-align: middle;\n",
       "    }\n",
       "\n",
       "    .dataframe tbody tr th {\n",
       "        vertical-align: top;\n",
       "    }\n",
       "\n",
       "    .dataframe thead th {\n",
       "        text-align: right;\n",
       "    }\n",
       "</style>\n",
       "<table border=\"1\" class=\"dataframe\">\n",
       "  <thead>\n",
       "    <tr style=\"text-align: right;\">\n",
       "      <th></th>\n",
       "      <th>Unnamed: 0</th>\n",
       "      <th>Rooms</th>\n",
       "      <th>Distance</th>\n",
       "      <th>Postcode</th>\n",
       "      <th>Bedroom2</th>\n",
       "      <th>Bathroom</th>\n",
       "      <th>Car</th>\n",
       "      <th>Landsize</th>\n",
       "      <th>BuildingArea</th>\n",
       "      <th>YearBuilt</th>\n",
       "      <th>Lattitude</th>\n",
       "      <th>Longtitude</th>\n",
       "      <th>Propertycount</th>\n",
       "      <th>Car_was_missing</th>\n",
       "      <th>BuildingArea_was_missing</th>\n",
       "      <th>YearBuilt_was_missing</th>\n",
       "    </tr>\n",
       "  </thead>\n",
       "  <tbody>\n",
       "    <tr>\n",
       "      <th>12167</th>\n",
       "      <td>12167</td>\n",
       "      <td>1</td>\n",
       "      <td>5.0</td>\n",
       "      <td>3182.0</td>\n",
       "      <td>1.0</td>\n",
       "      <td>1.0</td>\n",
       "      <td>1.0</td>\n",
       "      <td>0.0</td>\n",
       "      <td>NaN</td>\n",
       "      <td>1940.0</td>\n",
       "      <td>-37.85984</td>\n",
       "      <td>144.9867</td>\n",
       "      <td>13240.0</td>\n",
       "      <td>False</td>\n",
       "      <td>True</td>\n",
       "      <td>False</td>\n",
       "    </tr>\n",
       "    <tr>\n",
       "      <th>6524</th>\n",
       "      <td>6524</td>\n",
       "      <td>2</td>\n",
       "      <td>8.0</td>\n",
       "      <td>3016.0</td>\n",
       "      <td>2.0</td>\n",
       "      <td>2.0</td>\n",
       "      <td>1.0</td>\n",
       "      <td>193.0</td>\n",
       "      <td>NaN</td>\n",
       "      <td>NaN</td>\n",
       "      <td>-37.85800</td>\n",
       "      <td>144.9005</td>\n",
       "      <td>6380.0</td>\n",
       "      <td>False</td>\n",
       "      <td>True</td>\n",
       "      <td>True</td>\n",
       "    </tr>\n",
       "    <tr>\n",
       "      <th>8413</th>\n",
       "      <td>8413</td>\n",
       "      <td>3</td>\n",
       "      <td>12.6</td>\n",
       "      <td>3020.0</td>\n",
       "      <td>3.0</td>\n",
       "      <td>1.0</td>\n",
       "      <td>1.0</td>\n",
       "      <td>555.0</td>\n",
       "      <td>NaN</td>\n",
       "      <td>NaN</td>\n",
       "      <td>-37.79880</td>\n",
       "      <td>144.8220</td>\n",
       "      <td>3755.0</td>\n",
       "      <td>False</td>\n",
       "      <td>True</td>\n",
       "      <td>True</td>\n",
       "    </tr>\n",
       "    <tr>\n",
       "      <th>2919</th>\n",
       "      <td>2919</td>\n",
       "      <td>3</td>\n",
       "      <td>13.0</td>\n",
       "      <td>3046.0</td>\n",
       "      <td>3.0</td>\n",
       "      <td>1.0</td>\n",
       "      <td>1.0</td>\n",
       "      <td>265.0</td>\n",
       "      <td>NaN</td>\n",
       "      <td>1995.0</td>\n",
       "      <td>-37.70830</td>\n",
       "      <td>144.9158</td>\n",
       "      <td>8870.0</td>\n",
       "      <td>False</td>\n",
       "      <td>True</td>\n",
       "      <td>False</td>\n",
       "    </tr>\n",
       "    <tr>\n",
       "      <th>6043</th>\n",
       "      <td>6043</td>\n",
       "      <td>3</td>\n",
       "      <td>13.3</td>\n",
       "      <td>3020.0</td>\n",
       "      <td>3.0</td>\n",
       "      <td>1.0</td>\n",
       "      <td>2.0</td>\n",
       "      <td>673.0</td>\n",
       "      <td>673.0</td>\n",
       "      <td>1970.0</td>\n",
       "      <td>-37.76230</td>\n",
       "      <td>144.8272</td>\n",
       "      <td>4217.0</td>\n",
       "      <td>False</td>\n",
       "      <td>False</td>\n",
       "      <td>False</td>\n",
       "    </tr>\n",
       "  </tbody>\n",
       "</table>\n",
       "</div>"
      ],
      "text/plain": [
       "       Unnamed: 0  Rooms  Distance  Postcode  Bedroom2  Bathroom  Car  \\\n",
       "12167       12167      1       5.0    3182.0       1.0       1.0  1.0   \n",
       "6524         6524      2       8.0    3016.0       2.0       2.0  1.0   \n",
       "8413         8413      3      12.6    3020.0       3.0       1.0  1.0   \n",
       "2919         2919      3      13.0    3046.0       3.0       1.0  1.0   \n",
       "6043         6043      3      13.3    3020.0       3.0       1.0  2.0   \n",
       "\n",
       "       Landsize  BuildingArea  YearBuilt  Lattitude  Longtitude  \\\n",
       "12167       0.0           NaN     1940.0  -37.85984    144.9867   \n",
       "6524      193.0           NaN        NaN  -37.85800    144.9005   \n",
       "8413      555.0           NaN        NaN  -37.79880    144.8220   \n",
       "2919      265.0           NaN     1995.0  -37.70830    144.9158   \n",
       "6043      673.0         673.0     1970.0  -37.76230    144.8272   \n",
       "\n",
       "       Propertycount  Car_was_missing  BuildingArea_was_missing  \\\n",
       "12167        13240.0            False                      True   \n",
       "6524          6380.0            False                      True   \n",
       "8413          3755.0            False                      True   \n",
       "2919          8870.0            False                      True   \n",
       "6043          4217.0            False                     False   \n",
       "\n",
       "       YearBuilt_was_missing  \n",
       "12167                  False  \n",
       "6524                    True  \n",
       "8413                    True  \n",
       "2919                   False  \n",
       "6043                   False  "
      ]
     },
     "execution_count": 28,
     "metadata": {},
     "output_type": "execute_result"
    }
   ],
   "source": [
    "# Make a copy of the original datasets to avoid changing the original data frame\n",
    "X_train_plus = X_train.copy()\n",
    "X_valid_plus = X_valid.copy()\n",
    "\n",
    "# Find all columns with missing values:\n",
    "cols_with_missing = X_train.columns.values[X_train.isna().sum() > 0]\n",
    "\n",
    "# Make new columns indicating what will be imputed\n",
    "for col in cols_with_missing:\n",
    "    X_train_plus[col + '_was_missing'] = X_train_plus[col].isnull()\n",
    "    X_valid_plus[col + '_was_missing'] = X_valid_plus[col].isnull()\n",
    "\n",
    "X_train_plus.head()"
   ]
  },
  {
   "cell_type": "code",
   "execution_count": 29,
   "metadata": {
    "id": "6Fje9FCrydzx",
    "slideshow": {
     "slide_type": "fragment"
    }
   },
   "outputs": [],
   "source": [
    "# Imputation\n",
    "simple_imputer = SimpleImputer()\n",
    "imputed_X_train_plus = pd.DataFrame(simple_imputer.fit_transform(X_train_plus))\n",
    "imputed_X_valid_plus = pd.DataFrame(simple_imputer.transform(X_valid_plus))\n",
    "\n",
    "# \"Repair\" column names\n",
    "imputed_X_train_plus.columns = X_train_plus.columns\n",
    "imputed_X_valid_plus.columns = X_valid_plus.columns"
   ]
  },
  {
   "cell_type": "code",
   "execution_count": 30,
   "metadata": {
    "colab": {
     "base_uri": "https://localhost:8080/"
    },
    "id": "yd5Zc-3Qydzx",
    "outputId": "eaca794c-d4be-4ef0-a6c9-50ab3c6e8f9e",
    "scrolled": true,
    "slideshow": {
     "slide_type": "fragment"
    }
   },
   "outputs": [
    {
     "name": "stdout",
     "output_type": "stream",
     "text": [
      "MAE using Imputation: 168907.75835419734\n"
     ]
    }
   ],
   "source": [
    "mae_imputation_advanced = score_dataset(imputed_X_train_plus, imputed_X_valid_plus, y_train, y_valid)\n",
    "print(\"MAE using Imputation: {}\".format(mae_imputation_advanced))"
   ]
  },
  {
   "cell_type": "markdown",
   "metadata": {
    "id": "70nKJghmydzx",
    "slideshow": {
     "slide_type": "fragment"
    }
   },
   "source": [
    "As we see, advanced imputation does not improve the performance of our model in the problem at hand. In general, advanced imputation will meaningfully improve results in some cases. In other cases, it doesn't help at all."
   ]
  },
  {
   "cell_type": "markdown",
   "metadata": {
    "slideshow": {
     "slide_type": "slide"
    }
   },
   "source": [
    "# Normalization, Standardization, Statistical Transformations\n",
    "\n",
    "Our dataset may contain attributes with a mixture of scales for various quantities. However, many machine learning methods require the data attributes to have the same scale. \n",
    "For example, ``yearBuilt`` is measured in years in our dataset at hand whereas the number of rooms obviously has a much smaller scale.\n",
    "To avoid having numeric values from different scales we can use two popular data scaling methods: normalization and standardization.\n",
    "We will implement this step on top of the already imputed dataset from before."
   ]
  },
  {
   "cell_type": "markdown",
   "metadata": {
    "slideshow": {
     "slide_type": "slide"
    }
   },
   "source": [
    "## Normalization\n",
    "\n",
    "Normalization refers to rescaling numeric attributes into the __range between 0 and 1.__ It is useful to scale the input attributes for a model that relies on the magnitude of values, such as distance measures used in k-nearest neighbors and in the preparation of coefficients in regression.\n",
    "\n",
    "Using Scikit-learn's ``MinMaxScaler`` we can rescale an attribute according to the following formula:\n",
    "\n",
    "\n",
    "\\begin{equation}\n",
    "    X = \\frac{(X - min(X))}{(max(X) - min(X))}\n",
    "\\end{equation}\n"
   ]
  },
  {
   "cell_type": "code",
   "execution_count": 31,
   "metadata": {
    "slideshow": {
     "slide_type": "slide"
    }
   },
   "outputs": [
    {
     "data": {
      "text/html": [
       "<div>\n",
       "<style scoped>\n",
       "    .dataframe tbody tr th:only-of-type {\n",
       "        vertical-align: middle;\n",
       "    }\n",
       "\n",
       "    .dataframe tbody tr th {\n",
       "        vertical-align: top;\n",
       "    }\n",
       "\n",
       "    .dataframe thead th {\n",
       "        text-align: right;\n",
       "    }\n",
       "</style>\n",
       "<table border=\"1\" class=\"dataframe\">\n",
       "  <thead>\n",
       "    <tr style=\"text-align: right;\">\n",
       "      <th></th>\n",
       "      <th>Unnamed: 0</th>\n",
       "      <th>Rooms</th>\n",
       "      <th>Distance</th>\n",
       "      <th>Postcode</th>\n",
       "      <th>Bedroom2</th>\n",
       "      <th>Bathroom</th>\n",
       "      <th>Car</th>\n",
       "      <th>Landsize</th>\n",
       "      <th>BuildingArea</th>\n",
       "      <th>YearBuilt</th>\n",
       "      <th>Lattitude</th>\n",
       "      <th>Longtitude</th>\n",
       "      <th>Propertycount</th>\n",
       "    </tr>\n",
       "  </thead>\n",
       "  <tbody>\n",
       "    <tr>\n",
       "      <th>0</th>\n",
       "      <td>0.896082</td>\n",
       "      <td>0.000000</td>\n",
       "      <td>0.103950</td>\n",
       "      <td>0.186285</td>\n",
       "      <td>0.05</td>\n",
       "      <td>0.125</td>\n",
       "      <td>0.1</td>\n",
       "      <td>0.000000</td>\n",
       "      <td>0.003454</td>\n",
       "      <td>0.585106</td>\n",
       "      <td>0.416927</td>\n",
       "      <td>0.528004</td>\n",
       "      <td>0.607028</td>\n",
       "    </tr>\n",
       "    <tr>\n",
       "      <th>1</th>\n",
       "      <td>0.480483</td>\n",
       "      <td>0.111111</td>\n",
       "      <td>0.166320</td>\n",
       "      <td>0.016377</td>\n",
       "      <td>0.10</td>\n",
       "      <td>0.250</td>\n",
       "      <td>0.1</td>\n",
       "      <td>0.000446</td>\n",
       "      <td>0.003454</td>\n",
       "      <td>0.717233</td>\n",
       "      <td>0.419304</td>\n",
       "      <td>0.445981</td>\n",
       "      <td>0.286482</td>\n",
       "    </tr>\n",
       "    <tr>\n",
       "      <th>2</th>\n",
       "      <td>0.619605</td>\n",
       "      <td>0.222222</td>\n",
       "      <td>0.261954</td>\n",
       "      <td>0.020471</td>\n",
       "      <td>0.15</td>\n",
       "      <td>0.125</td>\n",
       "      <td>0.1</td>\n",
       "      <td>0.001282</td>\n",
       "      <td>0.003454</td>\n",
       "      <td>0.717233</td>\n",
       "      <td>0.495788</td>\n",
       "      <td>0.371284</td>\n",
       "      <td>0.163824</td>\n",
       "    </tr>\n",
       "    <tr>\n",
       "      <th>3</th>\n",
       "      <td>0.214980</td>\n",
       "      <td>0.222222</td>\n",
       "      <td>0.270270</td>\n",
       "      <td>0.047083</td>\n",
       "      <td>0.15</td>\n",
       "      <td>0.125</td>\n",
       "      <td>0.1</td>\n",
       "      <td>0.000612</td>\n",
       "      <td>0.003454</td>\n",
       "      <td>0.877660</td>\n",
       "      <td>0.612710</td>\n",
       "      <td>0.460539</td>\n",
       "      <td>0.402832</td>\n",
       "    </tr>\n",
       "    <tr>\n",
       "      <th>4</th>\n",
       "      <td>0.445058</td>\n",
       "      <td>0.222222</td>\n",
       "      <td>0.276507</td>\n",
       "      <td>0.020471</td>\n",
       "      <td>0.15</td>\n",
       "      <td>0.125</td>\n",
       "      <td>0.2</td>\n",
       "      <td>0.001554</td>\n",
       "      <td>0.015118</td>\n",
       "      <td>0.744681</td>\n",
       "      <td>0.542945</td>\n",
       "      <td>0.376232</td>\n",
       "      <td>0.185412</td>\n",
       "    </tr>\n",
       "    <tr>\n",
       "      <th>...</th>\n",
       "      <td>...</td>\n",
       "      <td>...</td>\n",
       "      <td>...</td>\n",
       "      <td>...</td>\n",
       "      <td>...</td>\n",
       "      <td>...</td>\n",
       "      <td>...</td>\n",
       "      <td>...</td>\n",
       "      <td>...</td>\n",
       "      <td>...</td>\n",
       "      <td>...</td>\n",
       "      <td>...</td>\n",
       "      <td>...</td>\n",
       "    </tr>\n",
       "    <tr>\n",
       "      <th>10859</th>\n",
       "      <td>0.966490</td>\n",
       "      <td>0.222222</td>\n",
       "      <td>0.108108</td>\n",
       "      <td>0.057318</td>\n",
       "      <td>0.15</td>\n",
       "      <td>0.125</td>\n",
       "      <td>0.2</td>\n",
       "      <td>0.000490</td>\n",
       "      <td>0.003454</td>\n",
       "      <td>0.717233</td>\n",
       "      <td>0.524017</td>\n",
       "      <td>0.500552</td>\n",
       "      <td>0.545255</td>\n",
       "    </tr>\n",
       "    <tr>\n",
       "      <th>10860</th>\n",
       "      <td>0.240389</td>\n",
       "      <td>0.222222</td>\n",
       "      <td>0.218295</td>\n",
       "      <td>0.082907</td>\n",
       "      <td>0.15</td>\n",
       "      <td>0.125</td>\n",
       "      <td>0.1</td>\n",
       "      <td>0.001727</td>\n",
       "      <td>0.002269</td>\n",
       "      <td>0.638298</td>\n",
       "      <td>0.569688</td>\n",
       "      <td>0.586429</td>\n",
       "      <td>0.126069</td>\n",
       "    </tr>\n",
       "    <tr>\n",
       "      <th>10861</th>\n",
       "      <td>0.725070</td>\n",
       "      <td>0.333333</td>\n",
       "      <td>0.139293</td>\n",
       "      <td>0.059365</td>\n",
       "      <td>0.20</td>\n",
       "      <td>0.250</td>\n",
       "      <td>0.2</td>\n",
       "      <td>0.001018</td>\n",
       "      <td>0.005728</td>\n",
       "      <td>0.914894</td>\n",
       "      <td>0.577285</td>\n",
       "      <td>0.514549</td>\n",
       "      <td>0.511892</td>\n",
       "    </tr>\n",
       "    <tr>\n",
       "      <th>10862</th>\n",
       "      <td>0.795331</td>\n",
       "      <td>0.222222</td>\n",
       "      <td>0.249480</td>\n",
       "      <td>0.074719</td>\n",
       "      <td>0.15</td>\n",
       "      <td>0.125</td>\n",
       "      <td>0.1</td>\n",
       "      <td>0.001399</td>\n",
       "      <td>0.003454</td>\n",
       "      <td>0.717233</td>\n",
       "      <td>0.596858</td>\n",
       "      <td>0.565543</td>\n",
       "      <td>1.000000</td>\n",
       "    </tr>\n",
       "    <tr>\n",
       "      <th>10863</th>\n",
       "      <td>0.201208</td>\n",
       "      <td>0.333333</td>\n",
       "      <td>0.133056</td>\n",
       "      <td>0.011259</td>\n",
       "      <td>0.20</td>\n",
       "      <td>0.250</td>\n",
       "      <td>0.1</td>\n",
       "      <td>0.000737</td>\n",
       "      <td>0.002920</td>\n",
       "      <td>0.452128</td>\n",
       "      <td>0.501602</td>\n",
       "      <td>0.433611</td>\n",
       "      <td>0.342087</td>\n",
       "    </tr>\n",
       "  </tbody>\n",
       "</table>\n",
       "<p>10864 rows × 13 columns</p>\n",
       "</div>"
      ],
      "text/plain": [
       "       Unnamed: 0     Rooms  Distance  Postcode  Bedroom2  Bathroom  Car  \\\n",
       "0        0.896082  0.000000  0.103950  0.186285      0.05     0.125  0.1   \n",
       "1        0.480483  0.111111  0.166320  0.016377      0.10     0.250  0.1   \n",
       "2        0.619605  0.222222  0.261954  0.020471      0.15     0.125  0.1   \n",
       "3        0.214980  0.222222  0.270270  0.047083      0.15     0.125  0.1   \n",
       "4        0.445058  0.222222  0.276507  0.020471      0.15     0.125  0.2   \n",
       "...           ...       ...       ...       ...       ...       ...  ...   \n",
       "10859    0.966490  0.222222  0.108108  0.057318      0.15     0.125  0.2   \n",
       "10860    0.240389  0.222222  0.218295  0.082907      0.15     0.125  0.1   \n",
       "10861    0.725070  0.333333  0.139293  0.059365      0.20     0.250  0.2   \n",
       "10862    0.795331  0.222222  0.249480  0.074719      0.15     0.125  0.1   \n",
       "10863    0.201208  0.333333  0.133056  0.011259      0.20     0.250  0.1   \n",
       "\n",
       "       Landsize  BuildingArea  YearBuilt  Lattitude  Longtitude  Propertycount  \n",
       "0      0.000000      0.003454   0.585106   0.416927    0.528004       0.607028  \n",
       "1      0.000446      0.003454   0.717233   0.419304    0.445981       0.286482  \n",
       "2      0.001282      0.003454   0.717233   0.495788    0.371284       0.163824  \n",
       "3      0.000612      0.003454   0.877660   0.612710    0.460539       0.402832  \n",
       "4      0.001554      0.015118   0.744681   0.542945    0.376232       0.185412  \n",
       "...         ...           ...        ...        ...         ...            ...  \n",
       "10859  0.000490      0.003454   0.717233   0.524017    0.500552       0.545255  \n",
       "10860  0.001727      0.002269   0.638298   0.569688    0.586429       0.126069  \n",
       "10861  0.001018      0.005728   0.914894   0.577285    0.514549       0.511892  \n",
       "10862  0.001399      0.003454   0.717233   0.596858    0.565543       1.000000  \n",
       "10863  0.000737      0.002920   0.452128   0.501602    0.433611       0.342087  \n",
       "\n",
       "[10864 rows x 13 columns]"
      ]
     },
     "execution_count": 31,
     "metadata": {},
     "output_type": "execute_result"
    }
   ],
   "source": [
    "from sklearn.preprocessing import MinMaxScaler\n",
    "\n",
    "scaler = MinMaxScaler()\n",
    "\n",
    "\n",
    "train_X_normalized = pd.DataFrame(scaler.fit_transform(imputed_X_train), \n",
    "                                      columns=imputed_X_train.columns, index=imputed_X_train.index)\n",
    "val_X_normalized = pd.DataFrame(scaler.transform(imputed_X_valid), \n",
    "                                    columns=imputed_X_valid.columns, index=imputed_X_valid.index)\n",
    "\n",
    "train_X_normalized"
   ]
  },
  {
   "cell_type": "markdown",
   "metadata": {
    "slideshow": {
     "slide_type": "slide"
    }
   },
   "source": [
    "## Standardization\n",
    "\n",
    "In contrast to normalization, we could also use standardization for our numerical variables. In this context, standardization refers to shifting the distribution of each attribute to have a mean of zero and a standard deviation of one. It is useful to standardize attributes for a model that relies on the distribution of attributes such as Gaussian processes.\n",
    "Using Scikit-learn's ```StandardScaler``` we can rescale an attribute according to the following formula:\n",
    "\n",
    "\n",
    "\\begin{equation}\n",
    "    X = \\frac{(X - mean(X))}{\\sqrt{var(X)}}\n",
    "\\end{equation}"
   ]
  },
  {
   "cell_type": "code",
   "execution_count": 32,
   "metadata": {
    "slideshow": {
     "slide_type": "slide"
    }
   },
   "outputs": [
    {
     "data": {
      "text/html": [
       "<div>\n",
       "<style scoped>\n",
       "    .dataframe tbody tr th:only-of-type {\n",
       "        vertical-align: middle;\n",
       "    }\n",
       "\n",
       "    .dataframe tbody tr th {\n",
       "        vertical-align: top;\n",
       "    }\n",
       "\n",
       "    .dataframe thead th {\n",
       "        text-align: right;\n",
       "    }\n",
       "</style>\n",
       "<table border=\"1\" class=\"dataframe\">\n",
       "  <thead>\n",
       "    <tr style=\"text-align: right;\">\n",
       "      <th></th>\n",
       "      <th>Unnamed: 0</th>\n",
       "      <th>Rooms</th>\n",
       "      <th>Distance</th>\n",
       "      <th>Postcode</th>\n",
       "      <th>Bedroom2</th>\n",
       "      <th>Bathroom</th>\n",
       "      <th>Car</th>\n",
       "      <th>Landsize</th>\n",
       "      <th>BuildingArea</th>\n",
       "      <th>YearBuilt</th>\n",
       "      <th>Lattitude</th>\n",
       "      <th>Longtitude</th>\n",
       "      <th>Propertycount</th>\n",
       "    </tr>\n",
       "  </thead>\n",
       "  <tbody>\n",
       "    <tr>\n",
       "      <th>0</th>\n",
       "      <td>1.380705</td>\n",
       "      <td>-2.018876</td>\n",
       "      <td>-0.871143</td>\n",
       "      <td>0.837435</td>\n",
       "      <td>-1.968843</td>\n",
       "      <td>-0.772599</td>\n",
       "      <td>-0.630703</td>\n",
       "      <td>-0.129118</td>\n",
       "      <td>-6.516669e-17</td>\n",
       "      <td>-0.878553</td>\n",
       "      <td>-0.628334</td>\n",
       "      <td>-0.080613</td>\n",
       "      <td>1.322362</td>\n",
       "    </tr>\n",
       "    <tr>\n",
       "      <th>1</th>\n",
       "      <td>-0.058778</td>\n",
       "      <td>-0.979000</td>\n",
       "      <td>-0.361058</td>\n",
       "      <td>-0.983436</td>\n",
       "      <td>-0.941785</td>\n",
       "      <td>0.671074</td>\n",
       "      <td>-0.630703</td>\n",
       "      <td>-0.085081</td>\n",
       "      <td>-6.516669e-17</td>\n",
       "      <td>0.000000</td>\n",
       "      <td>-0.605179</td>\n",
       "      <td>-0.912494</td>\n",
       "      <td>-0.251166</td>\n",
       "    </tr>\n",
       "    <tr>\n",
       "      <th>2</th>\n",
       "      <td>0.423091</td>\n",
       "      <td>0.060876</td>\n",
       "      <td>0.421072</td>\n",
       "      <td>-0.939559</td>\n",
       "      <td>0.085273</td>\n",
       "      <td>-0.772599</td>\n",
       "      <td>-0.630703</td>\n",
       "      <td>-0.002481</td>\n",
       "      <td>-6.516669e-17</td>\n",
       "      <td>0.000000</td>\n",
       "      <td>0.139819</td>\n",
       "      <td>-1.670065</td>\n",
       "      <td>-0.853281</td>\n",
       "    </tr>\n",
       "    <tr>\n",
       "      <th>3</th>\n",
       "      <td>-0.978384</td>\n",
       "      <td>0.060876</td>\n",
       "      <td>0.489083</td>\n",
       "      <td>-0.654363</td>\n",
       "      <td>0.085273</td>\n",
       "      <td>-0.772599</td>\n",
       "      <td>-0.630703</td>\n",
       "      <td>-0.068652</td>\n",
       "      <td>-6.516669e-17</td>\n",
       "      <td>1.066723</td>\n",
       "      <td>1.278709</td>\n",
       "      <td>-0.764840</td>\n",
       "      <td>0.319983</td>\n",
       "    </tr>\n",
       "    <tr>\n",
       "      <th>4</th>\n",
       "      <td>-0.181477</td>\n",
       "      <td>0.060876</td>\n",
       "      <td>0.540092</td>\n",
       "      <td>-0.939559</td>\n",
       "      <td>0.085273</td>\n",
       "      <td>-0.772599</td>\n",
       "      <td>0.412272</td>\n",
       "      <td>0.024444</td>\n",
       "      <td>1.190529e+00</td>\n",
       "      <td>0.182507</td>\n",
       "      <td>0.599151</td>\n",
       "      <td>-1.619882</td>\n",
       "      <td>-0.747309</td>\n",
       "    </tr>\n",
       "  </tbody>\n",
       "</table>\n",
       "</div>"
      ],
      "text/plain": [
       "   Unnamed: 0     Rooms  Distance  Postcode  Bedroom2  Bathroom       Car  \\\n",
       "0    1.380705 -2.018876 -0.871143  0.837435 -1.968843 -0.772599 -0.630703   \n",
       "1   -0.058778 -0.979000 -0.361058 -0.983436 -0.941785  0.671074 -0.630703   \n",
       "2    0.423091  0.060876  0.421072 -0.939559  0.085273 -0.772599 -0.630703   \n",
       "3   -0.978384  0.060876  0.489083 -0.654363  0.085273 -0.772599 -0.630703   \n",
       "4   -0.181477  0.060876  0.540092 -0.939559  0.085273 -0.772599  0.412272   \n",
       "\n",
       "   Landsize  BuildingArea  YearBuilt  Lattitude  Longtitude  Propertycount  \n",
       "0 -0.129118 -6.516669e-17  -0.878553  -0.628334   -0.080613       1.322362  \n",
       "1 -0.085081 -6.516669e-17   0.000000  -0.605179   -0.912494      -0.251166  \n",
       "2 -0.002481 -6.516669e-17   0.000000   0.139819   -1.670065      -0.853281  \n",
       "3 -0.068652 -6.516669e-17   1.066723   1.278709   -0.764840       0.319983  \n",
       "4  0.024444  1.190529e+00   0.182507   0.599151   -1.619882      -0.747309  "
      ]
     },
     "execution_count": 32,
     "metadata": {},
     "output_type": "execute_result"
    }
   ],
   "source": [
    "from sklearn.preprocessing import StandardScaler\n",
    "\n",
    "scaler = StandardScaler()\n",
    "\n",
    "train_X_standardized = pd.DataFrame(scaler.fit_transform(imputed_X_train), \n",
    "                                        columns=imputed_X_train.columns, index=imputed_X_train.index)\n",
    "val_X_standardized = pd.DataFrame(scaler.transform(imputed_X_valid), \n",
    "                                      columns=imputed_X_valid.columns, index=imputed_X_valid.index)\n",
    "\n",
    "train_X_standardized.head()"
   ]
  },
  {
   "cell_type": "markdown",
   "metadata": {
    "slideshow": {
     "slide_type": "slide"
    }
   },
   "source": [
    "## Log transforms\n",
    "\n",
    "Variables can, such as ``Landsize``, span several orders of magnitude. While the vast majority of persons has small sizes of land, a few people have very vast properties. To work with such skewed variables we can use the log transformation. \n",
    "\n",
    "__Log transforms__ are useful when applied to skewed distributions as they tend to expand the values which fall in the range of lower magnitudes and tend to compress or reduce the values which fall in the range of higher magnitudes. This tends to make the skewed distribution as normal-like as possible."
   ]
  },
  {
   "cell_type": "code",
   "execution_count": 33,
   "metadata": {},
   "outputs": [
    {
     "data": {
      "text/plain": [
       "count     13580.000000\n",
       "mean        558.416127\n",
       "std        3990.669241\n",
       "min           0.000000\n",
       "25%         177.000000\n",
       "50%         440.000000\n",
       "75%         651.000000\n",
       "max      433014.000000\n",
       "Name: Landsize, dtype: float64"
      ]
     },
     "execution_count": 33,
     "metadata": {},
     "output_type": "execute_result"
    }
   ],
   "source": [
    "data['Landsize'].describe()"
   ]
  },
  {
   "cell_type": "code",
   "execution_count": 34,
   "metadata": {
    "slideshow": {
     "slide_type": "slide"
    }
   },
   "outputs": [],
   "source": [
    "import numpy as np\n",
    "\n",
    "train_X_logGains = imputed_X_train.copy()\n",
    "val_X_logGains = imputed_X_valid.copy()\n",
    "\n",
    "\n",
    "\n",
    "train_X_logGains['logLandsize'] = np.log1p(train_X_logGains['Landsize'])\n",
    "val_X_logGains['logLandsize'] = np.log1p(val_X_logGains['Landsize'])"
   ]
  },
  {
   "cell_type": "markdown",
   "metadata": {
    "slideshow": {
     "slide_type": "slide"
    }
   },
   "source": [
    "We can see this effect plotting both histograms:"
   ]
  },
  {
   "cell_type": "code",
   "execution_count": 35,
   "metadata": {},
   "outputs": [
    {
     "data": {
      "image/png": "[encoded data removed]",
      "text/plain": [
       "<Figure size 640x480 with 2 Axes>"
      ]
     },
     "metadata": {},
     "output_type": "display_data"
    }
   ],
   "source": [
    "%matplotlib inline\n",
    "train_X_logGains[['Landsize', 'logLandsize']].hist();"
   ]
  },
  {
   "cell_type": "markdown",
   "metadata": {
    "slideshow": {
     "slide_type": "slide"
    }
   },
   "source": [
    "## Summary\n",
    "\n",
    "Data rescaling is an important part of data preparation before applying machine learning algorithms. However, it is hard to know whether normalization or standardization of the data will improve the performance of a predictive model in advance. \n",
    "\n",
    "A good tip for a practical application is to create rescaled copies of your dataset and evaluate them against each other. This process can quickly show which rescaling method will improve your selected models in the problem at hand. Note that you could (and should) combine these techniques to train powerful models and apply them in real-world problems."
   ]
  },
  {
   "cell_type": "markdown",
   "metadata": {
    "slideshow": {
     "slide_type": "slide"
    }
   },
   "source": [
    "## Exercise 3\n",
    "We can train our model using the different datasets and feature engineering techniques to evaluate their impact on the model performance. \n",
    "Print the score for the different methods we just introduced and compare them."
   ]
  },
  {
   "cell_type": "code",
   "execution_count": 36,
   "metadata": {},
   "outputs": [],
   "source": [
    "# code here"
   ]
  },
  {
   "cell_type": "markdown",
   "metadata": {
    "id": "8RhLgR3Rydzx",
    "slideshow": {
     "slide_type": "slide"
    }
   },
   "source": [
    "## Encoding Categorical Variables\n",
    "\n",
    "Until now we only used numerical features for our models. However, valuable information is often encoded in categorical variables (e.g., gender, city, job).\n",
    "\n",
    "If we simply __plug these categorial variables__ into machine learning models we will get an __error__. Hence, we need to find an appropriate preprocessing to capture the information hidden in categorical variables.\n",
    "\n",
    "The easiest approach to deal with categorical variables is to __drop__ them from the dataset (that is what we have done before). However, this approach will only produce satisfying results if the dropped columns __did not contain useful information__."
   ]
  },
  {
   "cell_type": "markdown",
   "metadata": {
    "id": "t4ACIFzTydzx",
    "slideshow": {
     "slide_type": "slide"
    }
   },
   "source": [
    "### Label Encoding\n",
    "\n",
    "<img src=\"https://raw.githubusercontent.com/GuntherGust/tds2_data/main/images/03/label.png\" style=\"width:60%; float:left;\" />\n"
   ]
  },
  {
   "cell_type": "markdown",
   "metadata": {},
   "source": [
    "\n",
    "One common approach to handle categorical variables is called label encoding. Here, we assign __each unique value to a different integer (e.g., bad = 0, neutral = 1, good = 2)__.\n",
    "\n",
    "This assumption makes sense in this example, because there is an indisputable __ranking__ to the categories. Not all categorical variables have a clear ordering in the values, but we refer to those that do as ordinal variables. For tree-based models (like decision trees and random forests), you can expect label encoding to work well with ordinal variables.\n",
    "\n",
    "For simplicity, we will drop columns with missing values for the following evaluation."
   ]
  },
  {
   "cell_type": "code",
   "execution_count": 37,
   "metadata": {
    "id": "MwkH4XtTydzx",
    "slideshow": {
     "slide_type": "slide"
    }
   },
   "outputs": [],
   "source": [
    "# Load dataset\n",
    "data = pd.read_csv(melbourne_file_path)\n",
    "\n",
    "# Drop NA\n",
    "data.dropna(axis=0, inplace=True)\n",
    "\n",
    "# Separate target from predictors\n",
    "y = data['Price']\n",
    "X = data.drop(['Price'], axis=1)\n",
    "\n",
    "# Train-test split\n",
    "X_train_full, X_valid_full, y_train, y_valid = train_test_split(X, y, train_size=0.8, test_size=0.2,random_state=0)"
   ]
  },
  {
   "cell_type": "markdown",
   "metadata": {
    "id": "1tvafv1Bydzy",
    "slideshow": {
     "slide_type": "slide"
    }
   },
   "source": [
    "As we do not want to use all categorical variables we focus on those with a __limited number of categories__:"
   ]
  },
  {
   "cell_type": "code",
   "execution_count": 38,
   "metadata": {
    "colab": {
     "base_uri": "https://localhost:8080/"
    },
    "id": "si8WANWSydzy",
    "outputId": "2faf0aab-0e47-42fa-80c9-c8d3c9c41628"
   },
   "outputs": [
    {
     "name": "stdout",
     "output_type": "stream",
     "text": [
      "['Type', 'Method', 'Regionname']\n"
     ]
    }
   ],
   "source": [
    "low_cardinality_cols = [cname for cname in X_train_full.columns if X_train_full[cname].nunique() < 10 and\n",
    "                        X_train_full[cname].dtype == \"object\"]\n",
    "\n",
    "print(low_cardinality_cols)"
   ]
  },
  {
   "cell_type": "markdown",
   "metadata": {
    "id": "AHh0Gsubydzy",
    "slideshow": {
     "slide_type": "slide"
    }
   },
   "source": [
    "...and combine them with the numerical variables:"
   ]
  },
  {
   "cell_type": "code",
   "execution_count": 39,
   "metadata": {
    "colab": {
     "base_uri": "https://localhost:8080/",
     "height": 347
    },
    "id": "-SJUmZ1nydzy",
    "outputId": "a8d13e0e-cd6b-4dcd-da05-05219c6ac195"
   },
   "outputs": [
    {
     "data": {
      "text/html": [
       "<div>\n",
       "<style scoped>\n",
       "    .dataframe tbody tr th:only-of-type {\n",
       "        vertical-align: middle;\n",
       "    }\n",
       "\n",
       "    .dataframe tbody tr th {\n",
       "        vertical-align: top;\n",
       "    }\n",
       "\n",
       "    .dataframe thead th {\n",
       "        text-align: right;\n",
       "    }\n",
       "</style>\n",
       "<table border=\"1\" class=\"dataframe\">\n",
       "  <thead>\n",
       "    <tr style=\"text-align: right;\">\n",
       "      <th></th>\n",
       "      <th>Type</th>\n",
       "      <th>Method</th>\n",
       "      <th>Regionname</th>\n",
       "      <th>Unnamed: 0</th>\n",
       "      <th>Rooms</th>\n",
       "      <th>Distance</th>\n",
       "      <th>Postcode</th>\n",
       "      <th>Bedroom2</th>\n",
       "      <th>Bathroom</th>\n",
       "      <th>Car</th>\n",
       "      <th>Landsize</th>\n",
       "      <th>BuildingArea</th>\n",
       "      <th>YearBuilt</th>\n",
       "      <th>Lattitude</th>\n",
       "      <th>Longtitude</th>\n",
       "      <th>Propertycount</th>\n",
       "    </tr>\n",
       "  </thead>\n",
       "  <tbody>\n",
       "    <tr>\n",
       "      <th>6584</th>\n",
       "      <td>u</td>\n",
       "      <td>VB</td>\n",
       "      <td>Southern Metropolitan</td>\n",
       "      <td>6584</td>\n",
       "      <td>2</td>\n",
       "      <td>5.1</td>\n",
       "      <td>3181.0</td>\n",
       "      <td>2.0</td>\n",
       "      <td>1.0</td>\n",
       "      <td>1.0</td>\n",
       "      <td>0.0</td>\n",
       "      <td>71.0</td>\n",
       "      <td>1970.0</td>\n",
       "      <td>-37.85550</td>\n",
       "      <td>145.00180</td>\n",
       "      <td>4380.0</td>\n",
       "    </tr>\n",
       "    <tr>\n",
       "      <th>11369</th>\n",
       "      <td>h</td>\n",
       "      <td>S</td>\n",
       "      <td>South-Eastern Metropolitan</td>\n",
       "      <td>11369</td>\n",
       "      <td>3</td>\n",
       "      <td>38.0</td>\n",
       "      <td>3199.0</td>\n",
       "      <td>3.0</td>\n",
       "      <td>1.0</td>\n",
       "      <td>4.0</td>\n",
       "      <td>578.0</td>\n",
       "      <td>123.0</td>\n",
       "      <td>1984.0</td>\n",
       "      <td>-38.13743</td>\n",
       "      <td>145.16702</td>\n",
       "      <td>17055.0</td>\n",
       "    </tr>\n",
       "    <tr>\n",
       "      <th>11942</th>\n",
       "      <td>h</td>\n",
       "      <td>S</td>\n",
       "      <td>South-Eastern Metropolitan</td>\n",
       "      <td>11942</td>\n",
       "      <td>5</td>\n",
       "      <td>27.0</td>\n",
       "      <td>3196.0</td>\n",
       "      <td>5.0</td>\n",
       "      <td>5.0</td>\n",
       "      <td>4.0</td>\n",
       "      <td>570.0</td>\n",
       "      <td>243.0</td>\n",
       "      <td>1990.0</td>\n",
       "      <td>-38.03335</td>\n",
       "      <td>145.13212</td>\n",
       "      <td>2076.0</td>\n",
       "    </tr>\n",
       "    <tr>\n",
       "      <th>5830</th>\n",
       "      <td>u</td>\n",
       "      <td>VB</td>\n",
       "      <td>Southern Metropolitan</td>\n",
       "      <td>5830</td>\n",
       "      <td>1</td>\n",
       "      <td>6.1</td>\n",
       "      <td>3182.0</td>\n",
       "      <td>1.0</td>\n",
       "      <td>1.0</td>\n",
       "      <td>1.0</td>\n",
       "      <td>0.0</td>\n",
       "      <td>52.0</td>\n",
       "      <td>2012.0</td>\n",
       "      <td>-37.86760</td>\n",
       "      <td>144.99010</td>\n",
       "      <td>13240.0</td>\n",
       "    </tr>\n",
       "    <tr>\n",
       "      <th>1717</th>\n",
       "      <td>u</td>\n",
       "      <td>VB</td>\n",
       "      <td>Southern Metropolitan</td>\n",
       "      <td>1717</td>\n",
       "      <td>2</td>\n",
       "      <td>11.4</td>\n",
       "      <td>3163.0</td>\n",
       "      <td>2.0</td>\n",
       "      <td>1.0</td>\n",
       "      <td>1.0</td>\n",
       "      <td>0.0</td>\n",
       "      <td>70.0</td>\n",
       "      <td>1970.0</td>\n",
       "      <td>-37.90320</td>\n",
       "      <td>145.05550</td>\n",
       "      <td>7822.0</td>\n",
       "    </tr>\n",
       "  </tbody>\n",
       "</table>\n",
       "</div>"
      ],
      "text/plain": [
       "      Type Method                  Regionname  Unnamed: 0  Rooms  Distance  \\\n",
       "6584     u     VB       Southern Metropolitan        6584      2       5.1   \n",
       "11369    h      S  South-Eastern Metropolitan       11369      3      38.0   \n",
       "11942    h      S  South-Eastern Metropolitan       11942      5      27.0   \n",
       "5830     u     VB       Southern Metropolitan        5830      1       6.1   \n",
       "1717     u     VB       Southern Metropolitan        1717      2      11.4   \n",
       "\n",
       "       Postcode  Bedroom2  Bathroom  Car  Landsize  BuildingArea  YearBuilt  \\\n",
       "6584     3181.0       2.0       1.0  1.0       0.0          71.0     1970.0   \n",
       "11369    3199.0       3.0       1.0  4.0     578.0         123.0     1984.0   \n",
       "11942    3196.0       5.0       5.0  4.0     570.0         243.0     1990.0   \n",
       "5830     3182.0       1.0       1.0  1.0       0.0          52.0     2012.0   \n",
       "1717     3163.0       2.0       1.0  1.0       0.0          70.0     1970.0   \n",
       "\n",
       "       Lattitude  Longtitude  Propertycount  \n",
       "6584   -37.85550   145.00180         4380.0  \n",
       "11369  -38.13743   145.16702        17055.0  \n",
       "11942  -38.03335   145.13212         2076.0  \n",
       "5830   -37.86760   144.99010        13240.0  \n",
       "1717   -37.90320   145.05550         7822.0  "
      ]
     },
     "execution_count": 39,
     "metadata": {},
     "output_type": "execute_result"
    }
   ],
   "source": [
    "# Select numerical columns\n",
    "numerical_cols = [cname for cname in X_train_full.columns if X_train_full[cname].dtype in ['int64', 'float64']]\n",
    "\n",
    "# Keep only selected columns\n",
    "cols_to_keep = low_cardinality_cols + numerical_cols\n",
    "X_train = X_train_full[cols_to_keep].copy()\n",
    "X_valid = X_valid_full[cols_to_keep].copy()\n",
    "\n",
    "X_train.head()"
   ]
  },
  {
   "cell_type": "markdown",
   "metadata": {
    "id": "wsGhM4-Aydzy",
    "slideshow": {
     "slide_type": "slide"
    }
   },
   "source": [
    "We can now perform label encoding on our new dataset using the functions provided by Scikit-learn. Subsequently, we can evaluate our approach by using our score_dataset utility function."
   ]
  },
  {
   "cell_type": "code",
   "execution_count": 40,
   "metadata": {
    "id": "6JC-wLdTydzy"
   },
   "outputs": [],
   "source": [
    "from sklearn.preprocessing import LabelEncoder"
   ]
  },
  {
   "cell_type": "code",
   "execution_count": 41,
   "metadata": {
    "colab": {
     "base_uri": "https://localhost:8080/",
     "height": 226
    },
    "id": "oKxsT0Csydzy",
    "outputId": "057dbf69-062f-40ef-84a3-bd40569dae06",
    "slideshow": {
     "slide_type": "fragment"
    }
   },
   "outputs": [
    {
     "data": {
      "text/html": [
       "<div>\n",
       "<style scoped>\n",
       "    .dataframe tbody tr th:only-of-type {\n",
       "        vertical-align: middle;\n",
       "    }\n",
       "\n",
       "    .dataframe tbody tr th {\n",
       "        vertical-align: top;\n",
       "    }\n",
       "\n",
       "    .dataframe thead th {\n",
       "        text-align: right;\n",
       "    }\n",
       "</style>\n",
       "<table border=\"1\" class=\"dataframe\">\n",
       "  <thead>\n",
       "    <tr style=\"text-align: right;\">\n",
       "      <th></th>\n",
       "      <th>Type</th>\n",
       "      <th>Method</th>\n",
       "      <th>Regionname</th>\n",
       "      <th>Unnamed: 0</th>\n",
       "      <th>Rooms</th>\n",
       "      <th>Distance</th>\n",
       "      <th>Postcode</th>\n",
       "      <th>Bedroom2</th>\n",
       "      <th>Bathroom</th>\n",
       "      <th>Car</th>\n",
       "      <th>Landsize</th>\n",
       "      <th>BuildingArea</th>\n",
       "      <th>YearBuilt</th>\n",
       "      <th>Lattitude</th>\n",
       "      <th>Longtitude</th>\n",
       "      <th>Propertycount</th>\n",
       "    </tr>\n",
       "  </thead>\n",
       "  <tbody>\n",
       "    <tr>\n",
       "      <th>6584</th>\n",
       "      <td>2</td>\n",
       "      <td>4</td>\n",
       "      <td>5</td>\n",
       "      <td>6584</td>\n",
       "      <td>2</td>\n",
       "      <td>5.1</td>\n",
       "      <td>3181.0</td>\n",
       "      <td>2.0</td>\n",
       "      <td>1.0</td>\n",
       "      <td>1.0</td>\n",
       "      <td>0.0</td>\n",
       "      <td>71.0</td>\n",
       "      <td>1970.0</td>\n",
       "      <td>-37.85550</td>\n",
       "      <td>145.00180</td>\n",
       "      <td>4380.0</td>\n",
       "    </tr>\n",
       "    <tr>\n",
       "      <th>11369</th>\n",
       "      <td>0</td>\n",
       "      <td>1</td>\n",
       "      <td>4</td>\n",
       "      <td>11369</td>\n",
       "      <td>3</td>\n",
       "      <td>38.0</td>\n",
       "      <td>3199.0</td>\n",
       "      <td>3.0</td>\n",
       "      <td>1.0</td>\n",
       "      <td>4.0</td>\n",
       "      <td>578.0</td>\n",
       "      <td>123.0</td>\n",
       "      <td>1984.0</td>\n",
       "      <td>-38.13743</td>\n",
       "      <td>145.16702</td>\n",
       "      <td>17055.0</td>\n",
       "    </tr>\n",
       "    <tr>\n",
       "      <th>11942</th>\n",
       "      <td>0</td>\n",
       "      <td>1</td>\n",
       "      <td>4</td>\n",
       "      <td>11942</td>\n",
       "      <td>5</td>\n",
       "      <td>27.0</td>\n",
       "      <td>3196.0</td>\n",
       "      <td>5.0</td>\n",
       "      <td>5.0</td>\n",
       "      <td>4.0</td>\n",
       "      <td>570.0</td>\n",
       "      <td>243.0</td>\n",
       "      <td>1990.0</td>\n",
       "      <td>-38.03335</td>\n",
       "      <td>145.13212</td>\n",
       "      <td>2076.0</td>\n",
       "    </tr>\n",
       "    <tr>\n",
       "      <th>5830</th>\n",
       "      <td>2</td>\n",
       "      <td>4</td>\n",
       "      <td>5</td>\n",
       "      <td>5830</td>\n",
       "      <td>1</td>\n",
       "      <td>6.1</td>\n",
       "      <td>3182.0</td>\n",
       "      <td>1.0</td>\n",
       "      <td>1.0</td>\n",
       "      <td>1.0</td>\n",
       "      <td>0.0</td>\n",
       "      <td>52.0</td>\n",
       "      <td>2012.0</td>\n",
       "      <td>-37.86760</td>\n",
       "      <td>144.99010</td>\n",
       "      <td>13240.0</td>\n",
       "    </tr>\n",
       "    <tr>\n",
       "      <th>1717</th>\n",
       "      <td>2</td>\n",
       "      <td>4</td>\n",
       "      <td>5</td>\n",
       "      <td>1717</td>\n",
       "      <td>2</td>\n",
       "      <td>11.4</td>\n",
       "      <td>3163.0</td>\n",
       "      <td>2.0</td>\n",
       "      <td>1.0</td>\n",
       "      <td>1.0</td>\n",
       "      <td>0.0</td>\n",
       "      <td>70.0</td>\n",
       "      <td>1970.0</td>\n",
       "      <td>-37.90320</td>\n",
       "      <td>145.05550</td>\n",
       "      <td>7822.0</td>\n",
       "    </tr>\n",
       "  </tbody>\n",
       "</table>\n",
       "</div>"
      ],
      "text/plain": [
       "       Type  Method  Regionname  Unnamed: 0  Rooms  Distance  Postcode  \\\n",
       "6584      2       4           5        6584      2       5.1    3181.0   \n",
       "11369     0       1           4       11369      3      38.0    3199.0   \n",
       "11942     0       1           4       11942      5      27.0    3196.0   \n",
       "5830      2       4           5        5830      1       6.1    3182.0   \n",
       "1717      2       4           5        1717      2      11.4    3163.0   \n",
       "\n",
       "       Bedroom2  Bathroom  Car  Landsize  BuildingArea  YearBuilt  Lattitude  \\\n",
       "6584        2.0       1.0  1.0       0.0          71.0     1970.0  -37.85550   \n",
       "11369       3.0       1.0  4.0     578.0         123.0     1984.0  -38.13743   \n",
       "11942       5.0       5.0  4.0     570.0         243.0     1990.0  -38.03335   \n",
       "5830        1.0       1.0  1.0       0.0          52.0     2012.0  -37.86760   \n",
       "1717        2.0       1.0  1.0       0.0          70.0     1970.0  -37.90320   \n",
       "\n",
       "       Longtitude  Propertycount  \n",
       "6584    145.00180         4380.0  \n",
       "11369   145.16702        17055.0  \n",
       "11942   145.13212         2076.0  \n",
       "5830    144.99010        13240.0  \n",
       "1717    145.05550         7822.0  "
      ]
     },
     "execution_count": 41,
     "metadata": {},
     "output_type": "execute_result"
    }
   ],
   "source": [
    "# Make a copy to protect original data\n",
    "label_X_train = X_train.copy()\n",
    "label_X_valid = X_valid.copy()\n",
    "\n",
    "# Apply label encoder\n",
    "label_encoder = LabelEncoder()\n",
    "for col in low_cardinality_cols:\n",
    "    label_X_train[col] = label_encoder.fit_transform(X_train[col])\n",
    "    label_X_valid[col] = label_encoder.transform(X_valid[col])\n",
    "\n",
    "label_X_train.head()"
   ]
  },
  {
   "cell_type": "code",
   "execution_count": 42,
   "metadata": {
    "colab": {
     "base_uri": "https://localhost:8080/"
    },
    "id": "UV6KKrfgydzy",
    "outputId": "3e4f3fdc-65c2-4df4-9232-b8c5c433b8a8",
    "slideshow": {
     "slide_type": "slide"
    }
   },
   "outputs": [
    {
     "name": "stdout",
     "output_type": "stream",
     "text": [
      "MAE using Label Encoding: 181651.9586532258\n"
     ]
    }
   ],
   "source": [
    "# Evaluate performance\n",
    "mae_label_encoding = score_dataset(label_X_train, label_X_valid, y_train, y_valid)\n",
    "print(\"MAE using Label Encoding: {}\".format(mae_label_encoding))"
   ]
  },
  {
   "cell_type": "markdown",
   "metadata": {
    "id": "w5UJrITdydzy",
    "slideshow": {
     "slide_type": "fragment"
    }
   },
   "source": [
    "This result is considerably better than the model that relied only on numerical variables without imputation (MAE 191.669 USD)."
   ]
  },
  {
   "cell_type": "markdown",
   "metadata": {
    "id": "GzvVTZrXydzy",
    "slideshow": {
     "slide_type": "slide"
    }
   },
   "source": [
    "### One-hot Encoding\n",
    "\n",
    "<img src=\"https://raw.githubusercontent.com/GuntherGust/tds2_data/main/images/03/onehot.png\" style=\"width:70%; float:left;\" />\n",
    "\n"
   ]
  },
  {
   "cell_type": "markdown",
   "metadata": {},
   "source": [
    "One-hot encoding creates new binary columns indicating the presence (or absence) of each possible value in the original data.\n",
    "\n",
    "In contrast to label encoding, one-hot encoding does __not assume an ordering__ of the categories. Thus, you can expect this approach to work particularly well if there is no clear ordering in the categorical data. We refer to categorical variables without an intrinsic ranking as __nominal variables__.\n",
    "\n",
    "One-hot encoding generally does not perform well if the categorical variable takes on a large number of values (i.e., you generally __won't use__ it for variables taking on __many__ (e.g. more than 15) __different values__)."
   ]
  },
  {
   "cell_type": "markdown",
   "metadata": {
    "id": "q9dWvbPXydzy",
    "slideshow": {
     "slide_type": "slide"
    }
   },
   "source": [
    "Again, we can use Scikit-learn functions to implement one-hot encodings:"
   ]
  },
  {
   "cell_type": "code",
   "execution_count": 43,
   "metadata": {
    "id": "PejeyYsGydzz"
   },
   "outputs": [],
   "source": [
    "from sklearn.preprocessing import OneHotEncoder"
   ]
  },
  {
   "cell_type": "markdown",
   "metadata": {
    "id": "lMoG_niQydzz",
    "slideshow": {
     "slide_type": "fragment"
    }
   },
   "source": [
    "Let's first look at the original values of the categorial variables before their transformation:"
   ]
  },
  {
   "cell_type": "code",
   "execution_count": 44,
   "metadata": {
    "colab": {
     "base_uri": "https://localhost:8080/",
     "height": 175
    },
    "id": "6wfkS7ciydzz",
    "outputId": "98ac532b-0efa-49cd-dca3-e985fad163cb"
   },
   "outputs": [
    {
     "data": {
      "text/html": [
       "<div>\n",
       "<style scoped>\n",
       "    .dataframe tbody tr th:only-of-type {\n",
       "        vertical-align: middle;\n",
       "    }\n",
       "\n",
       "    .dataframe tbody tr th {\n",
       "        vertical-align: top;\n",
       "    }\n",
       "\n",
       "    .dataframe thead th {\n",
       "        text-align: right;\n",
       "    }\n",
       "</style>\n",
       "<table border=\"1\" class=\"dataframe\">\n",
       "  <thead>\n",
       "    <tr style=\"text-align: right;\">\n",
       "      <th></th>\n",
       "      <th>Type</th>\n",
       "      <th>Method</th>\n",
       "      <th>Regionname</th>\n",
       "    </tr>\n",
       "  </thead>\n",
       "  <tbody>\n",
       "    <tr>\n",
       "      <th>count</th>\n",
       "      <td>4956</td>\n",
       "      <td>4956</td>\n",
       "      <td>4956</td>\n",
       "    </tr>\n",
       "    <tr>\n",
       "      <th>unique</th>\n",
       "      <td>3</td>\n",
       "      <td>5</td>\n",
       "      <td>8</td>\n",
       "    </tr>\n",
       "    <tr>\n",
       "      <th>top</th>\n",
       "      <td>h</td>\n",
       "      <td>S</td>\n",
       "      <td>Southern Metropolitan</td>\n",
       "    </tr>\n",
       "    <tr>\n",
       "      <th>freq</th>\n",
       "      <td>3281</td>\n",
       "      <td>3161</td>\n",
       "      <td>1724</td>\n",
       "    </tr>\n",
       "  </tbody>\n",
       "</table>\n",
       "</div>"
      ],
      "text/plain": [
       "        Type Method             Regionname\n",
       "count   4956   4956                   4956\n",
       "unique     3      5                      8\n",
       "top        h      S  Southern Metropolitan\n",
       "freq    3281   3161                   1724"
      ]
     },
     "execution_count": 44,
     "metadata": {},
     "output_type": "execute_result"
    }
   ],
   "source": [
    "X_train[low_cardinality_cols].describe()"
   ]
  },
  {
   "cell_type": "code",
   "execution_count": 45,
   "metadata": {
    "id": "vdikkdw-ydzz",
    "slideshow": {
     "slide_type": "slide"
    }
   },
   "outputs": [],
   "source": [
    "# Apply one-hot encoder to each column with categorical data\n",
    "one_hot_encoder = OneHotEncoder(handle_unknown='ignore', sparse_output=False)\n",
    "one_hot_cols_train = pd.DataFrame(one_hot_encoder.fit_transform(X_train[low_cardinality_cols]))\n",
    "one_hot_cols_valid = pd.DataFrame(one_hot_encoder.transform(X_valid[low_cardinality_cols]))\n",
    "\n",
    "# Repair index\n",
    "one_hot_cols_train.index = X_train.index\n",
    "one_hot_cols_valid.index = X_valid.index"
   ]
  },
  {
   "cell_type": "markdown",
   "metadata": {
    "id": "4J0jcfqdydzz",
    "slideshow": {
     "slide_type": "slide"
    }
   },
   "source": [
    "Let's look at the result of the one-hot encoding:"
   ]
  },
  {
   "cell_type": "code",
   "execution_count": 46,
   "metadata": {
    "colab": {
     "base_uri": "https://localhost:8080/",
     "height": 206
    },
    "id": "noPhugaoydzz",
    "outputId": "60dfd90f-0870-4706-c6bc-bda72c2fd88c"
   },
   "outputs": [
    {
     "data": {
      "text/html": [
       "<div>\n",
       "<style scoped>\n",
       "    .dataframe tbody tr th:only-of-type {\n",
       "        vertical-align: middle;\n",
       "    }\n",
       "\n",
       "    .dataframe tbody tr th {\n",
       "        vertical-align: top;\n",
       "    }\n",
       "\n",
       "    .dataframe thead th {\n",
       "        text-align: right;\n",
       "    }\n",
       "</style>\n",
       "<table border=\"1\" class=\"dataframe\">\n",
       "  <thead>\n",
       "    <tr style=\"text-align: right;\">\n",
       "      <th></th>\n",
       "      <th>0</th>\n",
       "      <th>1</th>\n",
       "      <th>2</th>\n",
       "      <th>3</th>\n",
       "      <th>4</th>\n",
       "      <th>5</th>\n",
       "      <th>6</th>\n",
       "      <th>7</th>\n",
       "      <th>8</th>\n",
       "      <th>9</th>\n",
       "      <th>10</th>\n",
       "      <th>11</th>\n",
       "      <th>12</th>\n",
       "      <th>13</th>\n",
       "      <th>14</th>\n",
       "      <th>15</th>\n",
       "    </tr>\n",
       "  </thead>\n",
       "  <tbody>\n",
       "    <tr>\n",
       "      <th>6584</th>\n",
       "      <td>0.0</td>\n",
       "      <td>0.0</td>\n",
       "      <td>1.0</td>\n",
       "      <td>0.0</td>\n",
       "      <td>0.0</td>\n",
       "      <td>0.0</td>\n",
       "      <td>0.0</td>\n",
       "      <td>1.0</td>\n",
       "      <td>0.0</td>\n",
       "      <td>0.0</td>\n",
       "      <td>0.0</td>\n",
       "      <td>0.0</td>\n",
       "      <td>0.0</td>\n",
       "      <td>1.0</td>\n",
       "      <td>0.0</td>\n",
       "      <td>0.0</td>\n",
       "    </tr>\n",
       "    <tr>\n",
       "      <th>11369</th>\n",
       "      <td>1.0</td>\n",
       "      <td>0.0</td>\n",
       "      <td>0.0</td>\n",
       "      <td>0.0</td>\n",
       "      <td>1.0</td>\n",
       "      <td>0.0</td>\n",
       "      <td>0.0</td>\n",
       "      <td>0.0</td>\n",
       "      <td>0.0</td>\n",
       "      <td>0.0</td>\n",
       "      <td>0.0</td>\n",
       "      <td>0.0</td>\n",
       "      <td>1.0</td>\n",
       "      <td>0.0</td>\n",
       "      <td>0.0</td>\n",
       "      <td>0.0</td>\n",
       "    </tr>\n",
       "    <tr>\n",
       "      <th>11942</th>\n",
       "      <td>1.0</td>\n",
       "      <td>0.0</td>\n",
       "      <td>0.0</td>\n",
       "      <td>0.0</td>\n",
       "      <td>1.0</td>\n",
       "      <td>0.0</td>\n",
       "      <td>0.0</td>\n",
       "      <td>0.0</td>\n",
       "      <td>0.0</td>\n",
       "      <td>0.0</td>\n",
       "      <td>0.0</td>\n",
       "      <td>0.0</td>\n",
       "      <td>1.0</td>\n",
       "      <td>0.0</td>\n",
       "      <td>0.0</td>\n",
       "      <td>0.0</td>\n",
       "    </tr>\n",
       "    <tr>\n",
       "      <th>5830</th>\n",
       "      <td>0.0</td>\n",
       "      <td>0.0</td>\n",
       "      <td>1.0</td>\n",
       "      <td>0.0</td>\n",
       "      <td>0.0</td>\n",
       "      <td>0.0</td>\n",
       "      <td>0.0</td>\n",
       "      <td>1.0</td>\n",
       "      <td>0.0</td>\n",
       "      <td>0.0</td>\n",
       "      <td>0.0</td>\n",
       "      <td>0.0</td>\n",
       "      <td>0.0</td>\n",
       "      <td>1.0</td>\n",
       "      <td>0.0</td>\n",
       "      <td>0.0</td>\n",
       "    </tr>\n",
       "    <tr>\n",
       "      <th>1717</th>\n",
       "      <td>0.0</td>\n",
       "      <td>0.0</td>\n",
       "      <td>1.0</td>\n",
       "      <td>0.0</td>\n",
       "      <td>0.0</td>\n",
       "      <td>0.0</td>\n",
       "      <td>0.0</td>\n",
       "      <td>1.0</td>\n",
       "      <td>0.0</td>\n",
       "      <td>0.0</td>\n",
       "      <td>0.0</td>\n",
       "      <td>0.0</td>\n",
       "      <td>0.0</td>\n",
       "      <td>1.0</td>\n",
       "      <td>0.0</td>\n",
       "      <td>0.0</td>\n",
       "    </tr>\n",
       "  </tbody>\n",
       "</table>\n",
       "</div>"
      ],
      "text/plain": [
       "        0    1    2    3    4    5    6    7    8    9    10   11   12   13  \\\n",
       "6584   0.0  0.0  1.0  0.0  0.0  0.0  0.0  1.0  0.0  0.0  0.0  0.0  0.0  1.0   \n",
       "11369  1.0  0.0  0.0  0.0  1.0  0.0  0.0  0.0  0.0  0.0  0.0  0.0  1.0  0.0   \n",
       "11942  1.0  0.0  0.0  0.0  1.0  0.0  0.0  0.0  0.0  0.0  0.0  0.0  1.0  0.0   \n",
       "5830   0.0  0.0  1.0  0.0  0.0  0.0  0.0  1.0  0.0  0.0  0.0  0.0  0.0  1.0   \n",
       "1717   0.0  0.0  1.0  0.0  0.0  0.0  0.0  1.0  0.0  0.0  0.0  0.0  0.0  1.0   \n",
       "\n",
       "        14   15  \n",
       "6584   0.0  0.0  \n",
       "11369  0.0  0.0  \n",
       "11942  0.0  0.0  \n",
       "5830   0.0  0.0  \n",
       "1717   0.0  0.0  "
      ]
     },
     "execution_count": 46,
     "metadata": {},
     "output_type": "execute_result"
    }
   ],
   "source": [
    "one_hot_cols_train.head()"
   ]
  },
  {
   "cell_type": "markdown",
   "metadata": {
    "id": "S_4ubV9eydzz",
    "slideshow": {
     "slide_type": "slide"
    }
   },
   "source": [
    "Let's train the model:"
   ]
  },
  {
   "cell_type": "code",
   "execution_count": 47,
   "metadata": {
    "colab": {
     "base_uri": "https://localhost:8080/"
    },
    "id": "hD_LuPWFydzz",
    "outputId": "93f423ff-8ac5-46c3-8d01-35b942c42106",
    "scrolled": false
   },
   "outputs": [
    {
     "name": "stdout",
     "output_type": "stream",
     "text": [
      "       Unnamed: 0  Rooms  Distance  Postcode  Bedroom2  Bathroom  Car  \\\n",
      "6584         6584      2       5.1    3181.0       2.0       1.0  1.0   \n",
      "11369       11369      3      38.0    3199.0       3.0       1.0  4.0   \n",
      "11942       11942      5      27.0    3196.0       5.0       5.0  4.0   \n",
      "5830         5830      1       6.1    3182.0       1.0       1.0  1.0   \n",
      "1717         1717      2      11.4    3163.0       2.0       1.0  1.0   \n",
      "\n",
      "       Landsize  BuildingArea  YearBuilt  ...    6    7    8    9   10   11  \\\n",
      "6584        0.0          71.0     1970.0  ...  0.0  1.0  0.0  0.0  0.0  0.0   \n",
      "11369     578.0         123.0     1984.0  ...  0.0  0.0  0.0  0.0  0.0  0.0   \n",
      "11942     570.0         243.0     1990.0  ...  0.0  0.0  0.0  0.0  0.0  0.0   \n",
      "5830        0.0          52.0     2012.0  ...  0.0  1.0  0.0  0.0  0.0  0.0   \n",
      "1717        0.0          70.0     1970.0  ...  0.0  1.0  0.0  0.0  0.0  0.0   \n",
      "\n",
      "        12   13   14   15  \n",
      "6584   0.0  1.0  0.0  0.0  \n",
      "11369  1.0  0.0  0.0  0.0  \n",
      "11942  1.0  0.0  0.0  0.0  \n",
      "5830   0.0  1.0  0.0  0.0  \n",
      "1717   0.0  1.0  0.0  0.0  \n",
      "\n",
      "[5 rows x 29 columns]\n",
      "MAE using One-hot Encoding: 179429.66137903224\n"
     ]
    }
   ],
   "source": [
    "# Remove categorical columns and replace with one-hot encoding\n",
    "num_X_train = X_train.drop(low_cardinality_cols, axis=1)\n",
    "num_X_valid = X_valid.drop(low_cardinality_cols, axis=1)\n",
    "one_hot_X_train = pd.concat([num_X_train, one_hot_cols_train], axis=1)\n",
    "one_hot_X_valid = pd.concat([num_X_valid, one_hot_cols_valid], axis=1)\n",
    "\n",
    "print(one_hot_X_train.head())\n",
    "# Evaluate performance\n",
    "one_hot_encoding = score_dataset(one_hot_X_train.to_numpy(), one_hot_X_valid.to_numpy(), y_train, y_valid)\n",
    "print(\"MAE using One-hot Encoding: {}\".format(one_hot_encoding))"
   ]
  },
  {
   "cell_type": "markdown",
   "metadata": {
    "id": "RhzU8Lh7ydzz",
    "slideshow": {
     "slide_type": "fragment"
    }
   },
   "source": [
    "This is a small improvement in comparison to the label encoded data (MAE 181.607 USD)."
   ]
  },
  {
   "cell_type": "markdown",
   "metadata": {
    "id": "1LoW_eM1ydzz",
    "slideshow": {
     "slide_type": "slide"
    }
   },
   "source": [
    "## Exercise 4\n",
    "Use standardized numeric features like in the previous section and combine it with OneHot Encoding and Label Encoding for training the model.\n",
    "\n",
    "The final results should have two cases: \n",
    "\n",
    "- One-hot encoded categorical + standardized numeric\n",
    "- Label encoded categorical + standardized numeric\n",
    "\n",
    "For each of the considered categorical columns, does it make more sense to use label encoding or one-hot encoding from a data perspective?"
   ]
  },
  {
   "cell_type": "code",
   "execution_count": 48,
   "metadata": {},
   "outputs": [],
   "source": [
    "# code here"
   ]
  },
  {
   "cell_type": "markdown",
   "metadata": {
    "id": "j001C2_Wydz0",
    "slideshow": {
     "slide_type": "slide"
    }
   },
   "source": [
    "## Creating Model Pipelines\n",
    "\n",
    "Up to now, we learned how to prepare our datasets, train, tune, and evaluate powerful models. However, we wrote lots of code and functions to perform all the required tasks. Scikit-learn pipelines are a simple way to keep our data preprocessing and modeling code organized. Specifically, a pipeline bundles preprocessing and modeling steps so we can use the whole bundle as if it were a single step.\n",
    "\n",
    "Using pipelines provides multiple benefits:\n",
    "* Cleaner Code\n",
    "* Fewer Bugs\n",
    "* Easier to Productionize\n",
    "* More Options for Model Validation"
   ]
  },
  {
   "cell_type": "markdown",
   "metadata": {
    "id": "E3SWKyHpydz0",
    "slideshow": {
     "slide_type": "slide"
    }
   },
   "source": [
    "We will build a pipeline using all numerical variables as well as the low cardinatlity categorical variables"
   ]
  },
  {
   "cell_type": "code",
   "execution_count": 49,
   "metadata": {
    "colab": {
     "base_uri": "https://localhost:8080/",
     "height": 313
    },
    "id": "Rsdx2qxWydz0",
    "outputId": "c7fd435a-56e1-4b9c-a14c-5046f0e789d5"
   },
   "outputs": [
    {
     "data": {
      "text/html": [
       "<div>\n",
       "<style scoped>\n",
       "    .dataframe tbody tr th:only-of-type {\n",
       "        vertical-align: middle;\n",
       "    }\n",
       "\n",
       "    .dataframe tbody tr th {\n",
       "        vertical-align: top;\n",
       "    }\n",
       "\n",
       "    .dataframe thead th {\n",
       "        text-align: right;\n",
       "    }\n",
       "</style>\n",
       "<table border=\"1\" class=\"dataframe\">\n",
       "  <thead>\n",
       "    <tr style=\"text-align: right;\">\n",
       "      <th></th>\n",
       "      <th>Type</th>\n",
       "      <th>Method</th>\n",
       "      <th>Regionname</th>\n",
       "      <th>Unnamed: 0</th>\n",
       "      <th>Rooms</th>\n",
       "      <th>Distance</th>\n",
       "      <th>Postcode</th>\n",
       "      <th>Bedroom2</th>\n",
       "      <th>Bathroom</th>\n",
       "      <th>Car</th>\n",
       "      <th>Landsize</th>\n",
       "      <th>BuildingArea</th>\n",
       "      <th>YearBuilt</th>\n",
       "      <th>Lattitude</th>\n",
       "      <th>Longtitude</th>\n",
       "      <th>Propertycount</th>\n",
       "    </tr>\n",
       "  </thead>\n",
       "  <tbody>\n",
       "    <tr>\n",
       "      <th>12167</th>\n",
       "      <td>u</td>\n",
       "      <td>S</td>\n",
       "      <td>Southern Metropolitan</td>\n",
       "      <td>12167</td>\n",
       "      <td>1</td>\n",
       "      <td>5.0</td>\n",
       "      <td>3182.0</td>\n",
       "      <td>1.0</td>\n",
       "      <td>1.0</td>\n",
       "      <td>1.0</td>\n",
       "      <td>0.0</td>\n",
       "      <td>NaN</td>\n",
       "      <td>1940.0</td>\n",
       "      <td>-37.85984</td>\n",
       "      <td>144.9867</td>\n",
       "      <td>13240.0</td>\n",
       "    </tr>\n",
       "    <tr>\n",
       "      <th>6524</th>\n",
       "      <td>h</td>\n",
       "      <td>SA</td>\n",
       "      <td>Western Metropolitan</td>\n",
       "      <td>6524</td>\n",
       "      <td>2</td>\n",
       "      <td>8.0</td>\n",
       "      <td>3016.0</td>\n",
       "      <td>2.0</td>\n",
       "      <td>2.0</td>\n",
       "      <td>1.0</td>\n",
       "      <td>193.0</td>\n",
       "      <td>NaN</td>\n",
       "      <td>NaN</td>\n",
       "      <td>-37.85800</td>\n",
       "      <td>144.9005</td>\n",
       "      <td>6380.0</td>\n",
       "    </tr>\n",
       "    <tr>\n",
       "      <th>8413</th>\n",
       "      <td>h</td>\n",
       "      <td>S</td>\n",
       "      <td>Western Metropolitan</td>\n",
       "      <td>8413</td>\n",
       "      <td>3</td>\n",
       "      <td>12.6</td>\n",
       "      <td>3020.0</td>\n",
       "      <td>3.0</td>\n",
       "      <td>1.0</td>\n",
       "      <td>1.0</td>\n",
       "      <td>555.0</td>\n",
       "      <td>NaN</td>\n",
       "      <td>NaN</td>\n",
       "      <td>-37.79880</td>\n",
       "      <td>144.8220</td>\n",
       "      <td>3755.0</td>\n",
       "    </tr>\n",
       "    <tr>\n",
       "      <th>2919</th>\n",
       "      <td>u</td>\n",
       "      <td>SP</td>\n",
       "      <td>Northern Metropolitan</td>\n",
       "      <td>2919</td>\n",
       "      <td>3</td>\n",
       "      <td>13.0</td>\n",
       "      <td>3046.0</td>\n",
       "      <td>3.0</td>\n",
       "      <td>1.0</td>\n",
       "      <td>1.0</td>\n",
       "      <td>265.0</td>\n",
       "      <td>NaN</td>\n",
       "      <td>1995.0</td>\n",
       "      <td>-37.70830</td>\n",
       "      <td>144.9158</td>\n",
       "      <td>8870.0</td>\n",
       "    </tr>\n",
       "    <tr>\n",
       "      <th>6043</th>\n",
       "      <td>h</td>\n",
       "      <td>S</td>\n",
       "      <td>Western Metropolitan</td>\n",
       "      <td>6043</td>\n",
       "      <td>3</td>\n",
       "      <td>13.3</td>\n",
       "      <td>3020.0</td>\n",
       "      <td>3.0</td>\n",
       "      <td>1.0</td>\n",
       "      <td>2.0</td>\n",
       "      <td>673.0</td>\n",
       "      <td>673.0</td>\n",
       "      <td>1970.0</td>\n",
       "      <td>-37.76230</td>\n",
       "      <td>144.8272</td>\n",
       "      <td>4217.0</td>\n",
       "    </tr>\n",
       "  </tbody>\n",
       "</table>\n",
       "</div>"
      ],
      "text/plain": [
       "      Type Method             Regionname  Unnamed: 0  Rooms  Distance  \\\n",
       "12167    u      S  Southern Metropolitan       12167      1       5.0   \n",
       "6524     h     SA   Western Metropolitan        6524      2       8.0   \n",
       "8413     h      S   Western Metropolitan        8413      3      12.6   \n",
       "2919     u     SP  Northern Metropolitan        2919      3      13.0   \n",
       "6043     h      S   Western Metropolitan        6043      3      13.3   \n",
       "\n",
       "       Postcode  Bedroom2  Bathroom  Car  Landsize  BuildingArea  YearBuilt  \\\n",
       "12167    3182.0       1.0       1.0  1.0       0.0           NaN     1940.0   \n",
       "6524     3016.0       2.0       2.0  1.0     193.0           NaN        NaN   \n",
       "8413     3020.0       3.0       1.0  1.0     555.0           NaN        NaN   \n",
       "2919     3046.0       3.0       1.0  1.0     265.0           NaN     1995.0   \n",
       "6043     3020.0       3.0       1.0  2.0     673.0         673.0     1970.0   \n",
       "\n",
       "       Lattitude  Longtitude  Propertycount  \n",
       "12167  -37.85984    144.9867        13240.0  \n",
       "6524   -37.85800    144.9005         6380.0  \n",
       "8413   -37.79880    144.8220         3755.0  \n",
       "2919   -37.70830    144.9158         8870.0  \n",
       "6043   -37.76230    144.8272         4217.0  "
      ]
     },
     "execution_count": 49,
     "metadata": {},
     "output_type": "execute_result"
    }
   ],
   "source": [
    "# Load dataset\n",
    "data = pd.read_csv(melbourne_file_path)\n",
    "\n",
    "# Separate target from predictors\n",
    "y = data['Price']\n",
    "X = data[cols_to_keep]\n",
    "\n",
    "# Train-test split\n",
    "X_train, X_valid, y_train, y_valid = train_test_split(X, y, train_size=0.8, test_size=0.2,random_state=0)\n",
    "X_train.head()"
   ]
  },
  {
   "cell_type": "markdown",
   "metadata": {
    "id": "dp0jZKltydz0",
    "slideshow": {
     "slide_type": "slide"
    }
   },
   "source": [
    "Writing a pipeline in Scikit-learn can be broken down into 3 steps:\n",
    "1. Define preprocessing steps\n",
    "2. Define the model\n",
    "3. Create and evaluate the pipeline"
   ]
  },
  {
   "cell_type": "markdown",
   "metadata": {
    "id": "843YlGhsydz0",
    "slideshow": {
     "slide_type": "slide"
    }
   },
   "source": [
    "### Define Preprocessing steps\n",
    "\n",
    "We use the ``ColumnTransformer`` class to bundle together different preprocessing steps. To this end, we will impute missing values in the numerical columns and impute missing values and use one-hot encoding in the categorical columns."
   ]
  },
  {
   "cell_type": "code",
   "execution_count": 50,
   "metadata": {
    "id": "PmaBE-7fydz0"
   },
   "outputs": [],
   "source": [
    "from sklearn.compose import ColumnTransformer\n",
    "from sklearn.pipeline import Pipeline"
   ]
  },
  {
   "cell_type": "code",
   "execution_count": 51,
   "metadata": {
    "id": "80H4DOdXydz1",
    "slideshow": {
     "slide_type": "fragment"
    }
   },
   "outputs": [],
   "source": [
    "# Preprocessing numerical columns\n",
    "numerical_transformer = SimpleImputer(strategy='mean')\n",
    "\n",
    "# Preprocessing categorical columns\n",
    "categorical_transformer = Pipeline(steps=[\n",
    "    ('imputer', SimpleImputer(strategy='most_frequent')),\n",
    "    ('onehot', OneHotEncoder(handle_unknown='ignore'))\n",
    "])\n",
    "\n",
    "# Bundle both preprocessors\n",
    "preprocessor = ColumnTransformer(transformers=[\n",
    "    ('num', numerical_transformer, numerical_cols),\n",
    "    ('cat', categorical_transformer, low_cardinality_cols)\n",
    "])"
   ]
  },
  {
   "cell_type": "markdown",
   "metadata": {
    "id": "Dn3FndA5ydz1",
    "slideshow": {
     "slide_type": "slide"
    }
   },
   "source": [
    "### Define the Model\n",
    "Next, we define a random forest model."
   ]
  },
  {
   "cell_type": "code",
   "execution_count": 52,
   "metadata": {
    "id": "wfNMudLbydz1"
   },
   "outputs": [],
   "source": [
    "model = RandomForestRegressor(n_estimators=100, random_state=1)"
   ]
  },
  {
   "cell_type": "markdown",
   "metadata": {
    "id": "SNCy8Utdydz1",
    "slideshow": {
     "slide_type": "slide"
    }
   },
   "source": [
    "### Create and Evaluate the Pipeline\n",
    "\n",
    "Finally, we use the ``Pipeline`` class to define a pipeline that bundles the preprocessing and modeling steps."
   ]
  },
  {
   "cell_type": "code",
   "execution_count": 53,
   "metadata": {
    "colab": {
     "base_uri": "https://localhost:8080/"
    },
    "id": "LQPwGodBydz1",
    "outputId": "a1534fdb-fa7d-4f63-bdbe-2537e9ea2f64"
   },
   "outputs": [
    {
     "name": "stdout",
     "output_type": "stream",
     "text": [
      "MAE using the complete pipeline: 160307.03832842415\n"
     ]
    }
   ],
   "source": [
    "# Bundle preprocessing and modeling code in a pipeline\n",
    "complete_pipeline = Pipeline(steps=[\n",
    "    ('preprocessor', preprocessor),\n",
    "    ('model', model)\n",
    "])\n",
    "\n",
    "# Preprocess the raw training data and fit the model\n",
    "complete_pipeline.fit(X_train, y_train)\n",
    "\n",
    "# Preprocess the raw validation data and make predictions\n",
    "preds = complete_pipeline.predict(X_valid)\n",
    "\n",
    "# Evaluate the model\n",
    "score = mean_absolute_error(y_valid, preds)\n",
    "print(\"MAE using the complete pipeline: {}\".format(score))"
   ]
  },
  {
   "cell_type": "markdown",
   "metadata": {
    "id": "H6mSGM8Jydz1",
    "slideshow": {
     "slide_type": "slide"
    }
   },
   "source": [
    " There are a few important things to notice:\n",
    "\n",
    "* With the pipeline, we preprocess the training data and fit the model in a __single line of code__. (In contrast, without a pipeline, we have to do imputation, one-hot encoding, and model training in separate steps. This becomes especially messy if we have to deal with both numerical and categorical variables!)\n",
    "* With the pipeline, we supply the __unprocessed features in X_valid to the predict()__ command, and the pipeline __automatically preprocesses__ the features before generating predictions. (However, without a pipeline, we have to remember to preprocess the validation data before making predictions.)"
   ]
  },
  {
   "cell_type": "markdown",
   "metadata": {
    "slideshow": {
     "slide_type": "slide"
    }
   },
   "source": [
    "# Exercise 5\n",
    "\n",
    "Extend the pipeline by including the normalization step for the numerical features."
   ]
  },
  {
   "cell_type": "code",
   "execution_count": 54,
   "metadata": {},
   "outputs": [],
   "source": [
    "# code here"
   ]
  },
  {
   "cell_type": "markdown",
   "metadata": {
    "slideshow": {
     "slide_type": "slide"
    }
   },
   "source": [
    "# Mentimeter"
   ]
  },
  {
   "cell_type": "markdown",
   "metadata": {
    "slideshow": {
     "slide_type": "slide"
    }
   },
   "source": [
    "# Descriptive Models\n",
    "\n",
    "Descriptive models in machine learning are designed to understand and summarize patterns or structures within a dataset. Unlike predictive models, which focus on forecasting future outcomes or labels, descriptive models prioritize providing insights and identifying hidden relationships in the data. These models are especially valuable in exploratory data analysis (EDA), where the primary objective is to gain a deeper understanding of the data's characteristics before applying predictive methods."
   ]
  },
  {
   "cell_type": "markdown",
   "metadata": {},
   "source": [
    "## K-means Clustering\n",
    "\n",
    "K-Means clustering is the most popular unsupervised learning algorithm. It is used when we have unlabelled data which is data without defined categories or groups. The algorithm follows an easy or simple way to classify a given data set through a certain number of clusters, fixed apriori. K-Means algorithm works iteratively to assign each data point to one of K groups based on the features that are provided. Data points are clustered based on feature similarity.\n",
    "\n",
    "For a deeper understanding of how KNN works, please watch [this video](https://www.youtube.com/watch?v=4b5d3muPQmA)."
   ]
  },
  {
   "cell_type": "markdown",
   "metadata": {},
   "source": [
    "<img src=\"https://raw.githubusercontent.com/vhaus63/ids_data/main/kmeans.png\" style=\"width:80%\" />"
   ]
  },
  {
   "cell_type": "code",
   "execution_count": 55,
   "metadata": {},
   "outputs": [
    {
     "data": {
      "text/html": [
       "<div>\n",
       "<style scoped>\n",
       "    .dataframe tbody tr th:only-of-type {\n",
       "        vertical-align: middle;\n",
       "    }\n",
       "\n",
       "    .dataframe tbody tr th {\n",
       "        vertical-align: top;\n",
       "    }\n",
       "\n",
       "    .dataframe thead th {\n",
       "        text-align: right;\n",
       "    }\n",
       "</style>\n",
       "<table border=\"1\" class=\"dataframe\">\n",
       "  <thead>\n",
       "    <tr style=\"text-align: right;\">\n",
       "      <th></th>\n",
       "      <th>Unnamed: 0</th>\n",
       "      <th>CustomerID</th>\n",
       "      <th>Gender</th>\n",
       "      <th>Age</th>\n",
       "      <th>Annual Income (k$)</th>\n",
       "      <th>Spending Score (1-100)</th>\n",
       "    </tr>\n",
       "  </thead>\n",
       "  <tbody>\n",
       "    <tr>\n",
       "      <th>0</th>\n",
       "      <td>0</td>\n",
       "      <td>1</td>\n",
       "      <td>Male</td>\n",
       "      <td>19</td>\n",
       "      <td>15</td>\n",
       "      <td>39</td>\n",
       "    </tr>\n",
       "    <tr>\n",
       "      <th>1</th>\n",
       "      <td>1</td>\n",
       "      <td>2</td>\n",
       "      <td>Male</td>\n",
       "      <td>21</td>\n",
       "      <td>15</td>\n",
       "      <td>81</td>\n",
       "    </tr>\n",
       "    <tr>\n",
       "      <th>2</th>\n",
       "      <td>2</td>\n",
       "      <td>3</td>\n",
       "      <td>Female</td>\n",
       "      <td>20</td>\n",
       "      <td>16</td>\n",
       "      <td>6</td>\n",
       "    </tr>\n",
       "    <tr>\n",
       "      <th>3</th>\n",
       "      <td>3</td>\n",
       "      <td>4</td>\n",
       "      <td>Female</td>\n",
       "      <td>23</td>\n",
       "      <td>16</td>\n",
       "      <td>77</td>\n",
       "    </tr>\n",
       "    <tr>\n",
       "      <th>4</th>\n",
       "      <td>4</td>\n",
       "      <td>5</td>\n",
       "      <td>Female</td>\n",
       "      <td>31</td>\n",
       "      <td>17</td>\n",
       "      <td>40</td>\n",
       "    </tr>\n",
       "  </tbody>\n",
       "</table>\n",
       "</div>"
      ],
      "text/plain": [
       "   Unnamed: 0  CustomerID  Gender  Age  Annual Income (k$)  \\\n",
       "0           0           1    Male   19                  15   \n",
       "1           1           2    Male   21                  15   \n",
       "2           2           3  Female   20                  16   \n",
       "3           3           4  Female   23                  16   \n",
       "4           4           5  Female   31                  17   \n",
       "\n",
       "   Spending Score (1-100)  \n",
       "0                      39  \n",
       "1                      81  \n",
       "2                       6  \n",
       "3                      77  \n",
       "4                      40  "
      ]
     },
     "execution_count": 55,
     "metadata": {},
     "output_type": "execute_result"
    }
   ],
   "source": [
    "df = pd.read_csv('https://raw.githubusercontent.com/vhaus63/ids_data/main/Mall_Customers.csv')\n",
    "df.head()"
   ]
  },
  {
   "cell_type": "code",
   "execution_count": 56,
   "metadata": {},
   "outputs": [],
   "source": [
    "X = df[['Annual Income (k$)', 'Spending Score (1-100)']]"
   ]
  },
  {
   "cell_type": "code",
   "execution_count": 57,
   "metadata": {},
   "outputs": [
    {
     "data": {
      "text/html": [
       "\n",
       "            <div id=\"tOut0t\"></div>\n",
       "            <script type=\"text/javascript\" data-lets-plot-script=\"library\">\n",
       "                if(!window.letsPlotCallQueue) {\n",
       "                    window.letsPlotCallQueue = [];\n",
       "                }; \n",
       "                window.letsPlotCall = function(f) {\n",
       "                    window.letsPlotCallQueue.push(f);\n",
       "                };\n",
       "                (function() {\n",
       "                    var script = document.createElement(\"script\");\n",
       "                    script.type = \"text/javascript\";\n",
       "                    script.src = \"https://cdn.jsdelivr.net/gh/JetBrains/lets-plot@v4.5.1/js-package/distr/lets-plot.min.js\";\n",
       "                    script.onload = function() {\n",
       "                        window.letsPlotCall = function(f) {f();};\n",
       "                        window.letsPlotCallQueue.forEach(function(f) {f();});\n",
       "                        window.letsPlotCallQueue = [];\n",
       "                        \n",
       "                    };\n",
       "                    script.onerror = function(event) {\n",
       "                        window.letsPlotCall = function(f) {};    // noop\n",
       "                        window.letsPlotCallQueue = [];\n",
       "                        var div = document.createElement(\"div\");\n",
       "                        div.style.color = 'darkred';\n",
       "                        div.textContent = 'Error loading Lets-Plot JS';\n",
       "                        document.getElementById(\"tOut0t\").appendChild(div);\n",
       "                    };\n",
       "                    var e = document.getElementById(\"tOut0t\");\n",
       "                    e.appendChild(script);\n",
       "                })()\n",
       "            </script>\n",
       "            "
      ]
     },
     "metadata": {},
     "output_type": "display_data"
    },
    {
     "data": {
      "text/html": [
       "   <div id=\"hPqCtu\"></div>\n",
       "   <script type=\"text/javascript\" data-lets-plot-script=\"plot\">\n",
       "   \n",
       "   (function() {\n",
       "   // ----------\n",
       "   \n",
       "   var containerDiv = document.getElementById(\"hPqCtu\");\n",
       "   var observer = new ResizeObserver(function(entries) {\n",
       "       for (let entry of entries) {\n",
       "           var width = containerDiv.clientWidth\n",
       "           if (entry.contentBoxSize && width > 0) {\n",
       "           \n",
       "               // Render plot\n",
       "               if (observer) {\n",
       "                   observer.disconnect();\n",
       "                   observer = null;\n",
       "               }\n",
       "\n",
       "               var plotSpec={\n",
       "\"data\":{\n",
       "\"Annual Income (k$)\":[15.0,15.0,16.0,16.0,17.0,17.0,18.0,18.0,19.0,19.0,19.0,19.0,20.0,20.0,20.0,20.0,21.0,21.0,23.0,23.0,24.0,24.0,25.0,25.0,28.0,28.0,28.0,28.0,29.0,29.0,30.0,30.0,33.0,33.0,33.0,33.0,34.0,34.0,37.0,37.0,38.0,38.0,39.0,39.0,39.0,39.0,40.0,40.0,40.0,40.0,42.0,42.0,43.0,43.0,43.0,43.0,44.0,44.0,46.0,46.0,46.0,46.0,47.0,47.0,48.0,48.0,48.0,48.0,48.0,48.0,49.0,49.0,50.0,50.0,54.0,54.0,54.0,54.0,54.0,54.0,54.0,54.0,54.0,54.0,54.0,54.0,57.0,57.0,58.0,58.0,59.0,59.0,60.0,60.0,60.0,60.0,60.0,60.0,61.0,61.0,62.0,62.0,62.0,62.0,62.0,62.0,63.0,63.0,63.0,63.0,63.0,63.0,64.0,64.0,65.0,65.0,65.0,65.0,67.0,67.0,67.0,67.0,69.0,69.0,70.0,70.0,71.0,71.0,71.0,71.0,71.0,71.0,72.0,72.0,73.0,73.0,73.0,73.0,74.0,74.0,75.0,75.0,76.0,76.0,77.0,77.0,77.0,77.0,78.0,78.0,78.0,78.0,78.0,78.0,78.0,78.0,78.0,78.0,78.0,78.0,79.0,79.0,81.0,81.0,85.0,85.0,86.0,86.0,87.0,87.0,87.0,87.0,87.0,87.0,88.0,88.0,88.0,88.0,93.0,93.0,97.0,97.0,98.0,98.0,99.0,99.0,101.0,101.0,103.0,103.0,103.0,103.0,113.0,113.0,120.0,120.0,126.0,126.0,137.0,137.0],\n",
       "\"Spending Score (1-100)\":[39.0,81.0,6.0,77.0,40.0,76.0,6.0,94.0,3.0,72.0,14.0,99.0,15.0,77.0,13.0,79.0,35.0,66.0,29.0,98.0,35.0,73.0,5.0,73.0,14.0,82.0,32.0,61.0,31.0,87.0,4.0,73.0,4.0,92.0,14.0,81.0,17.0,73.0,26.0,75.0,35.0,92.0,36.0,61.0,28.0,65.0,55.0,47.0,42.0,42.0,52.0,60.0,54.0,60.0,45.0,41.0,50.0,46.0,51.0,46.0,56.0,55.0,52.0,59.0,51.0,59.0,50.0,48.0,59.0,47.0,55.0,42.0,49.0,56.0,47.0,54.0,53.0,48.0,52.0,42.0,51.0,55.0,41.0,44.0,57.0,46.0,58.0,55.0,60.0,46.0,55.0,41.0,49.0,40.0,42.0,52.0,47.0,50.0,42.0,49.0,41.0,48.0,59.0,55.0,56.0,42.0,50.0,46.0,43.0,48.0,52.0,54.0,42.0,46.0,48.0,50.0,43.0,59.0,43.0,57.0,56.0,40.0,58.0,91.0,29.0,77.0,35.0,95.0,11.0,75.0,9.0,75.0,34.0,71.0,5.0,88.0,7.0,73.0,10.0,72.0,5.0,93.0,40.0,87.0,12.0,97.0,36.0,74.0,22.0,90.0,17.0,88.0,20.0,76.0,16.0,89.0,1.0,78.0,1.0,73.0,35.0,83.0,5.0,93.0,26.0,75.0,20.0,95.0,27.0,63.0,13.0,75.0,10.0,92.0,13.0,86.0,15.0,69.0,14.0,90.0,32.0,86.0,15.0,88.0,39.0,97.0,24.0,68.0,17.0,85.0,23.0,69.0,8.0,91.0,16.0,79.0,28.0,74.0,18.0,83.0]\n",
       "},\n",
       "\"mapping\":{\n",
       "\"x\":\"Annual Income (k$)\",\n",
       "\"y\":\"Spending Score (1-100)\"\n",
       "},\n",
       "\"data_meta\":{\n",
       "\"series_annotations\":[{\n",
       "\"type\":\"int\",\n",
       "\"column\":\"Annual Income (k$)\"\n",
       "},{\n",
       "\"type\":\"int\",\n",
       "\"column\":\"Spending Score (1-100)\"\n",
       "}]\n",
       "},\n",
       "\"ggsize\":{\n",
       "\"width\":700.0,\n",
       "\"height\":400.0\n",
       "},\n",
       "\"ggtitle\":{\n",
       "\"text\":\"Scatter Plot of Annual Income vs. Spending Score\"\n",
       "},\n",
       "\"guides\":{\n",
       "\"x\":{\n",
       "\"title\":\"Annual Income (k$)\"\n",
       "},\n",
       "\"y\":{\n",
       "\"title\":\"Spending Score (1-100)\"\n",
       "}\n",
       "},\n",
       "\"theme\":{\n",
       "\"name\":\"minimal\"\n",
       "},\n",
       "\"kind\":\"plot\",\n",
       "\"scales\":[],\n",
       "\"layers\":[{\n",
       "\"geom\":\"point\",\n",
       "\"mapping\":{\n",
       "},\n",
       "\"data_meta\":{\n",
       "},\n",
       "\"data\":{\n",
       "}\n",
       "}],\n",
       "\"metainfo_list\":[],\n",
       "\"spec_id\":\"1\"\n",
       "};\n",
       "               window.letsPlotCall(function() {\n",
       "       \n",
       "               var toolbar = null;\n",
       "               var plotContainer = containerDiv;               \n",
       "               \n",
       "                   var options = {\n",
       "                       sizing: {\n",
       "                           width_mode: \"min\",\n",
       "                           height_mode: \"scaled\",\n",
       "                           width: width\n",
       "                       }\n",
       "                   };\n",
       "                   var fig = LetsPlot.buildPlotFromProcessedSpecs(plotSpec, -1, -1, plotContainer, options);\n",
       "                   if (toolbar) {\n",
       "                     toolbar.bind(fig);\n",
       "                   }\n",
       "               });\n",
       "               \n",
       "               break;\n",
       "           }\n",
       "       }\n",
       "   });\n",
       "   \n",
       "   observer.observe(containerDiv);\n",
       "   \n",
       "   // ----------\n",
       "   })();\n",
       "   \n",
       "   </script>"
      ],
      "text/plain": [
       "<lets_plot.plot.core.PlotSpec at 0x2975d719bd0>"
      ]
     },
     "execution_count": 57,
     "metadata": {},
     "output_type": "execute_result"
    }
   ],
   "source": [
    "from lets_plot import *\n",
    "LetsPlot.setup_html()\n",
    "\n",
    "plt = (\n",
    "    ggplot(X, aes(x='Annual Income (k$)', y='Spending Score (1-100)'))\n",
    "    + geom_point()\n",
    "    + ggsize(700, 400)\n",
    "    + labs(\n",
    "        x='Annual Income (k$)',\n",
    "        y='Spending Score (1-100)',\n",
    "        title='Scatter Plot of Annual Income vs. Spending Score'\n",
    "    )\n",
    "    + theme_minimal()\n",
    ")\n",
    "plt"
   ]
  },
  {
   "cell_type": "markdown",
   "metadata": {},
   "source": [
    "Now we can fit the model. We choose 5 clusters for the beginning, based on our visual inspection of the dataset and its distribution."
   ]
  },
  {
   "cell_type": "code",
   "execution_count": 58,
   "metadata": {},
   "outputs": [
    {
     "data": {
      "text/plain": [
       "array([[55.2962963 , 49.51851852],\n",
       "       [86.53846154, 82.12820513],\n",
       "       [88.2       , 17.11428571],\n",
       "       [26.30434783, 20.91304348],\n",
       "       [25.72727273, 79.36363636]])"
      ]
     },
     "execution_count": 58,
     "metadata": {},
     "output_type": "execute_result"
    }
   ],
   "source": [
    "from sklearn.cluster import KMeans\n",
    "\n",
    "kmeans = KMeans(n_clusters=5, random_state=0, n_init=\"auto\")\n",
    "kmeans.fit(X)\n",
    "kmeans.cluster_centers_"
   ]
  },
  {
   "cell_type": "code",
   "execution_count": 59,
   "metadata": {},
   "outputs": [
    {
     "data": {
      "text/html": [
       "   <div id=\"oAaybX\"></div>\n",
       "   <script type=\"text/javascript\" data-lets-plot-script=\"plot\">\n",
       "   \n",
       "   (function() {\n",
       "   // ----------\n",
       "   \n",
       "   var containerDiv = document.getElementById(\"oAaybX\");\n",
       "   var observer = new ResizeObserver(function(entries) {\n",
       "       for (let entry of entries) {\n",
       "           var width = containerDiv.clientWidth\n",
       "           if (entry.contentBoxSize && width > 0) {\n",
       "           \n",
       "               // Render plot\n",
       "               if (observer) {\n",
       "                   observer.disconnect();\n",
       "                   observer = null;\n",
       "               }\n",
       "\n",
       "               var plotSpec={\n",
       "\"data\":{\n",
       "\"Annual Income (k$)\":[15.0,15.0,16.0,16.0,17.0,17.0,18.0,18.0,19.0,19.0,19.0,19.0,20.0,20.0,20.0,20.0,21.0,21.0,23.0,23.0,24.0,24.0,25.0,25.0,28.0,28.0,28.0,28.0,29.0,29.0,30.0,30.0,33.0,33.0,33.0,33.0,34.0,34.0,37.0,37.0,38.0,38.0,39.0,39.0,39.0,39.0,40.0,40.0,40.0,40.0,42.0,42.0,43.0,43.0,43.0,43.0,44.0,44.0,46.0,46.0,46.0,46.0,47.0,47.0,48.0,48.0,48.0,48.0,48.0,48.0,49.0,49.0,50.0,50.0,54.0,54.0,54.0,54.0,54.0,54.0,54.0,54.0,54.0,54.0,54.0,54.0,57.0,57.0,58.0,58.0,59.0,59.0,60.0,60.0,60.0,60.0,60.0,60.0,61.0,61.0,62.0,62.0,62.0,62.0,62.0,62.0,63.0,63.0,63.0,63.0,63.0,63.0,64.0,64.0,65.0,65.0,65.0,65.0,67.0,67.0,67.0,67.0,69.0,69.0,70.0,70.0,71.0,71.0,71.0,71.0,71.0,71.0,72.0,72.0,73.0,73.0,73.0,73.0,74.0,74.0,75.0,75.0,76.0,76.0,77.0,77.0,77.0,77.0,78.0,78.0,78.0,78.0,78.0,78.0,78.0,78.0,78.0,78.0,78.0,78.0,79.0,79.0,81.0,81.0,85.0,85.0,86.0,86.0,87.0,87.0,87.0,87.0,87.0,87.0,88.0,88.0,88.0,88.0,93.0,93.0,97.0,97.0,98.0,98.0,99.0,99.0,101.0,101.0,103.0,103.0,103.0,103.0,113.0,113.0,120.0,120.0,126.0,126.0,137.0,137.0],\n",
       "\"Spending Score (1-100)\":[39.0,81.0,6.0,77.0,40.0,76.0,6.0,94.0,3.0,72.0,14.0,99.0,15.0,77.0,13.0,79.0,35.0,66.0,29.0,98.0,35.0,73.0,5.0,73.0,14.0,82.0,32.0,61.0,31.0,87.0,4.0,73.0,4.0,92.0,14.0,81.0,17.0,73.0,26.0,75.0,35.0,92.0,36.0,61.0,28.0,65.0,55.0,47.0,42.0,42.0,52.0,60.0,54.0,60.0,45.0,41.0,50.0,46.0,51.0,46.0,56.0,55.0,52.0,59.0,51.0,59.0,50.0,48.0,59.0,47.0,55.0,42.0,49.0,56.0,47.0,54.0,53.0,48.0,52.0,42.0,51.0,55.0,41.0,44.0,57.0,46.0,58.0,55.0,60.0,46.0,55.0,41.0,49.0,40.0,42.0,52.0,47.0,50.0,42.0,49.0,41.0,48.0,59.0,55.0,56.0,42.0,50.0,46.0,43.0,48.0,52.0,54.0,42.0,46.0,48.0,50.0,43.0,59.0,43.0,57.0,56.0,40.0,58.0,91.0,29.0,77.0,35.0,95.0,11.0,75.0,9.0,75.0,34.0,71.0,5.0,88.0,7.0,73.0,10.0,72.0,5.0,93.0,40.0,87.0,12.0,97.0,36.0,74.0,22.0,90.0,17.0,88.0,20.0,76.0,16.0,89.0,1.0,78.0,1.0,73.0,35.0,83.0,5.0,93.0,26.0,75.0,20.0,95.0,27.0,63.0,13.0,75.0,10.0,92.0,13.0,86.0,15.0,69.0,14.0,90.0,32.0,86.0,15.0,88.0,39.0,97.0,24.0,68.0,17.0,85.0,23.0,69.0,8.0,91.0,16.0,79.0,28.0,74.0,18.0,83.0],\n",
       "\"Cluster\":[3.0,4.0,3.0,4.0,3.0,4.0,3.0,4.0,3.0,4.0,3.0,4.0,3.0,4.0,3.0,4.0,3.0,4.0,3.0,4.0,3.0,4.0,3.0,4.0,3.0,4.0,3.0,4.0,3.0,4.0,3.0,4.0,3.0,4.0,3.0,4.0,3.0,4.0,3.0,4.0,3.0,4.0,3.0,0.0,3.0,4.0,0.0,0.0,0.0,0.0,0.0,0.0,0.0,0.0,0.0,0.0,0.0,0.0,0.0,0.0,0.0,0.0,0.0,0.0,0.0,0.0,0.0,0.0,0.0,0.0,0.0,0.0,0.0,0.0,0.0,0.0,0.0,0.0,0.0,0.0,0.0,0.0,0.0,0.0,0.0,0.0,0.0,0.0,0.0,0.0,0.0,0.0,0.0,0.0,0.0,0.0,0.0,0.0,0.0,0.0,0.0,0.0,0.0,0.0,0.0,0.0,0.0,0.0,0.0,0.0,0.0,0.0,0.0,0.0,0.0,0.0,0.0,0.0,0.0,0.0,0.0,0.0,0.0,1.0,2.0,1.0,0.0,1.0,2.0,1.0,2.0,1.0,0.0,1.0,2.0,1.0,2.0,1.0,2.0,1.0,2.0,1.0,0.0,1.0,2.0,1.0,2.0,1.0,2.0,1.0,2.0,1.0,2.0,1.0,2.0,1.0,2.0,1.0,2.0,1.0,2.0,1.0,2.0,1.0,2.0,1.0,2.0,1.0,2.0,1.0,2.0,1.0,2.0,1.0,2.0,1.0,2.0,1.0,2.0,1.0,2.0,1.0,2.0,1.0,2.0,1.0,2.0,1.0,2.0,1.0,2.0,1.0,2.0,1.0,2.0,1.0,2.0,1.0,2.0,1.0]\n",
       "},\n",
       "\"mapping\":{\n",
       "},\n",
       "\"data_meta\":{\n",
       "\"series_annotations\":[{\n",
       "\"type\":\"int\",\n",
       "\"column\":\"Annual Income (k$)\"\n",
       "},{\n",
       "\"type\":\"int\",\n",
       "\"column\":\"Spending Score (1-100)\"\n",
       "},{\n",
       "\"type\":\"int\",\n",
       "\"column\":\"Cluster\"\n",
       "}]\n",
       "},\n",
       "\"guides\":{\n",
       "\"x\":{\n",
       "\"title\":\"Annual Income (k$)\"\n",
       "},\n",
       "\"y\":{\n",
       "\"title\":\"Spending Score (1-100)\"\n",
       "},\n",
       "\"color\":{\n",
       "\"title\":\"Cluster\"\n",
       "}\n",
       "},\n",
       "\"kind\":\"plot\",\n",
       "\"scales\":[{\n",
       "\"name\":\"Cluster\",\n",
       "\"aesthetic\":\"color\",\n",
       "\"discrete\":true\n",
       "}],\n",
       "\"layers\":[{\n",
       "\"geom\":\"point\",\n",
       "\"mapping\":{\n",
       "\"x\":\"Annual Income (k$)\",\n",
       "\"y\":\"Spending Score (1-100)\",\n",
       "\"color\":\"Cluster\"\n",
       "},\n",
       "\"data_meta\":{\n",
       "},\n",
       "\"data\":{\n",
       "}\n",
       "}],\n",
       "\"metainfo_list\":[],\n",
       "\"spec_id\":\"2\"\n",
       "};\n",
       "               window.letsPlotCall(function() {\n",
       "       \n",
       "               var toolbar = null;\n",
       "               var plotContainer = containerDiv;               \n",
       "               \n",
       "                   var options = {\n",
       "                       sizing: {\n",
       "                           width_mode: \"min\",\n",
       "                           height_mode: \"scaled\",\n",
       "                           width: width\n",
       "                       }\n",
       "                   };\n",
       "                   var fig = LetsPlot.buildPlotFromProcessedSpecs(plotSpec, -1, -1, plotContainer, options);\n",
       "                   if (toolbar) {\n",
       "                     toolbar.bind(fig);\n",
       "                   }\n",
       "               });\n",
       "               \n",
       "               break;\n",
       "           }\n",
       "       }\n",
       "   });\n",
       "   \n",
       "   observer.observe(containerDiv);\n",
       "   \n",
       "   // ----------\n",
       "   })();\n",
       "   \n",
       "   </script>"
      ],
      "text/plain": [
       "<lets_plot.plot.core.PlotSpec at 0x2975f746c10>"
      ]
     },
     "execution_count": 59,
     "metadata": {},
     "output_type": "execute_result"
    }
   ],
   "source": [
    "clusters_df = pd.concat([X, pd.Series(kmeans.labels_, name='Cluster')], axis=1)\n",
    "\n",
    "# Scatter plot for clusters\n",
    "p = ggplot(clusters_df) + \\\n",
    "    geom_point(aes(x='Annual Income (k$)', y='Spending Score (1-100)', color='Cluster')) + \\\n",
    "    scale_color_discrete(name='Cluster') + \\\n",
    "    labs(x='Annual Income (k$)', y='Spending Score (1-100)', color='Cluster')\n",
    "\n",
    "p\n"
   ]
  },
  {
   "cell_type": "markdown",
   "metadata": {},
   "source": [
    "WCSS, also known as inertia, measures the sum of squared distances between each data point and the centroid of its assigned cluster. The centroid is the mean position of all the points in the cluster.\n",
    "It provides a measure of the costs of the k means model and can help to identify the right choice of k."
   ]
  },
  {
   "cell_type": "code",
   "execution_count": 60,
   "metadata": {},
   "outputs": [
    {
     "data": {
      "text/plain": [
       "44448.45544793371"
      ]
     },
     "execution_count": 60,
     "metadata": {},
     "output_type": "execute_result"
    }
   ],
   "source": [
    "kmeans.inertia_"
   ]
  },
  {
   "cell_type": "markdown",
   "metadata": {},
   "source": [
    "### Parameters to tune the model\n",
    "1. k - the amount of clusters:"
   ]
  },
  {
   "cell_type": "code",
   "execution_count": 81,
   "metadata": {},
   "outputs": [],
   "source": [
    "def elbow_method(X, max_k = 10):\n",
    "    costs = []\n",
    "    for k in range(2, max_k):\n",
    "        model = KMeans(n_clusters=k, random_state=0, n_init=\"auto\")\n",
    "        model.fit(X)\n",
    "        costs.append(model.inertia_)\n",
    "\n",
    "    costs_df = pd.DataFrame({\n",
    "        'K': range(2, max_k),  # Cluster counts (k)\n",
    "        'Cost': costs  # The corresponding cost (inertia)\n",
    "    })\n",
    "    \n",
    "    # Plotting the elbow curve\n",
    "    p = (ggplot(costs_df, aes(x='K', y='Cost'))\n",
    "        + geom_line()\n",
    "        + geom_point()\n",
    "        + labs(x='Number of Clusters (k)', y='Cost (Inertia)'))\n",
    "    return p"
   ]
  },
  {
   "cell_type": "code",
   "execution_count": 82,
   "metadata": {},
   "outputs": [
    {
     "data": {
      "text/html": [
       "   <div id=\"hma5sy\"></div>\n",
       "   <script type=\"text/javascript\" data-lets-plot-script=\"plot\">\n",
       "   \n",
       "   (function() {\n",
       "   // ----------\n",
       "   \n",
       "   var containerDiv = document.getElementById(\"hma5sy\");\n",
       "   var observer = new ResizeObserver(function(entries) {\n",
       "       for (let entry of entries) {\n",
       "           var width = containerDiv.clientWidth\n",
       "           if (entry.contentBoxSize && width > 0) {\n",
       "           \n",
       "               // Render plot\n",
       "               if (observer) {\n",
       "                   observer.disconnect();\n",
       "                   observer = null;\n",
       "               }\n",
       "\n",
       "               var plotSpec={\n",
       "\"data\":{\n",
       "\"K\":[2.0,3.0,4.0,5.0,6.0,7.0,8.0,9.0],\n",
       "\"Cost\":[185917.14253928518,106348.37306211119,73679.78903948837,44448.45544793371,38858.9599751439,31969.426550235483,29858.483597603947,22209.851608025543]\n",
       "},\n",
       "\"mapping\":{\n",
       "\"x\":\"K\",\n",
       "\"y\":\"Cost\"\n",
       "},\n",
       "\"data_meta\":{\n",
       "\"series_annotations\":[{\n",
       "\"type\":\"int\",\n",
       "\"column\":\"K\"\n",
       "},{\n",
       "\"type\":\"float\",\n",
       "\"column\":\"Cost\"\n",
       "}]\n",
       "},\n",
       "\"guides\":{\n",
       "\"x\":{\n",
       "\"title\":\"Number of Clusters (k)\"\n",
       "},\n",
       "\"y\":{\n",
       "\"title\":\"Cost (Inertia)\"\n",
       "}\n",
       "},\n",
       "\"kind\":\"plot\",\n",
       "\"scales\":[],\n",
       "\"layers\":[{\n",
       "\"geom\":\"line\",\n",
       "\"mapping\":{\n",
       "},\n",
       "\"data_meta\":{\n",
       "},\n",
       "\"data\":{\n",
       "}\n",
       "},{\n",
       "\"geom\":\"point\",\n",
       "\"mapping\":{\n",
       "},\n",
       "\"data_meta\":{\n",
       "},\n",
       "\"data\":{\n",
       "}\n",
       "}],\n",
       "\"metainfo_list\":[],\n",
       "\"spec_id\":\"35\"\n",
       "};\n",
       "               window.letsPlotCall(function() {\n",
       "       \n",
       "               var toolbar = null;\n",
       "               var plotContainer = containerDiv;               \n",
       "               \n",
       "                   var options = {\n",
       "                       sizing: {\n",
       "                           width_mode: \"min\",\n",
       "                           height_mode: \"scaled\",\n",
       "                           width: width\n",
       "                       }\n",
       "                   };\n",
       "                   var fig = LetsPlot.buildPlotFromProcessedSpecs(plotSpec, -1, -1, plotContainer, options);\n",
       "                   if (toolbar) {\n",
       "                     toolbar.bind(fig);\n",
       "                   }\n",
       "               });\n",
       "               \n",
       "               break;\n",
       "           }\n",
       "       }\n",
       "   });\n",
       "   \n",
       "   observer.observe(containerDiv);\n",
       "   \n",
       "   // ----------\n",
       "   })();\n",
       "   \n",
       "   </script>"
      ],
      "text/plain": [
       "<lets_plot.plot.core.PlotSpec at 0x297621042d0>"
      ]
     },
     "execution_count": 82,
     "metadata": {},
     "output_type": "execute_result"
    }
   ],
   "source": [
    "elbow_method(X)"
   ]
  },
  {
   "cell_type": "markdown",
   "metadata": {},
   "source": [
    "The elbow method should be utilized with care since it is both subjective and unreliable. In many practical applications, the choice of an \"elbow\" is highly ambiguous as the plot does not contain a sharp elbow. Because the two axes (the number of clusters and the remaining variance) have no semantic relationship, the plot is sensitive to the parameter range."
   ]
  },
  {
   "cell_type": "markdown",
   "metadata": {},
   "source": [
    "2. The distance measure\n",
    "\n",
    "Sklearns' `kMeans` does not natively support the use of other distance metrices than the euclidean distance. To demonstrate the effect of changing this measure, we will use the `PyClustering` module."
   ]
  },
  {
   "cell_type": "code",
   "execution_count": 63,
   "metadata": {},
   "outputs": [],
   "source": [
    "from pyclustering.cluster.kmeans import kmeans\n",
    "from pyclustering.cluster.center_initializer import random_center_initializer\n",
    "from pyclustering.utils import distance_metric, type_metric"
   ]
  },
  {
   "cell_type": "code",
   "execution_count": 80,
   "metadata": {},
   "outputs": [
    {
     "name": "stdout",
     "output_type": "stream",
     "text": [
      "Clustering with Squared Euclidean Distance:\n",
      "  Cluster Centers: [[10.0, 3.0], [2.0, 0.6666666666666666], [1.0, 4.0], [4.0, 3.0], [10.0, 0.0]]\n",
      "  Clusters: [[6, 7], [0, 2, 5], [1], [3, 4], [8]]\n",
      "\n"
     ]
    },
    {
     "data": {
      "text/html": [
       "   <div id=\"KyaBnM\"></div>\n",
       "   <script type=\"text/javascript\" data-lets-plot-script=\"plot\">\n",
       "   \n",
       "   (function() {\n",
       "   // ----------\n",
       "   \n",
       "   var containerDiv = document.getElementById(\"KyaBnM\");\n",
       "   var observer = new ResizeObserver(function(entries) {\n",
       "       for (let entry of entries) {\n",
       "           var width = containerDiv.clientWidth\n",
       "           if (entry.contentBoxSize && width > 0) {\n",
       "           \n",
       "               // Render plot\n",
       "               if (observer) {\n",
       "                   observer.disconnect();\n",
       "                   observer = null;\n",
       "               }\n",
       "\n",
       "               var plotSpec={\n",
       "\"data\":{\n",
       "\"x\":[10.0,10.0,1.0,1.0,4.0,1.0,4.0,4.0,10.0],\n",
       "\"y\":[2.0,4.0,2.0,0.0,0.0,4.0,2.0,4.0,0.0],\n",
       "\"label\":[0.0,0.0,1.0,1.0,1.0,2.0,3.0,3.0,4.0]\n",
       "},\n",
       "\"mapping\":{\n",
       "\"x\":\"x\",\n",
       "\"y\":\"y\",\n",
       "\"color\":\"label\"\n",
       "},\n",
       "\"data_meta\":{\n",
       "\"series_annotations\":[{\n",
       "\"type\":\"int\",\n",
       "\"column\":\"x\"\n",
       "},{\n",
       "\"type\":\"int\",\n",
       "\"column\":\"y\"\n",
       "},{\n",
       "\"type\":\"int\",\n",
       "\"column\":\"label\"\n",
       "}]\n",
       "},\n",
       "\"ggtitle\":{\n",
       "\"text\":\"Clusters using Squared Euclidean Distance\"\n",
       "},\n",
       "\"theme\":{\n",
       "\"name\":\"minimal\"\n",
       "},\n",
       "\"kind\":\"plot\",\n",
       "\"scales\":[{\n",
       "\"name\":\"Cluster\",\n",
       "\"aesthetic\":\"color\",\n",
       "\"discrete\":true\n",
       "}],\n",
       "\"layers\":[{\n",
       "\"geom\":\"point\",\n",
       "\"mapping\":{\n",
       "},\n",
       "\"data_meta\":{\n",
       "},\n",
       "\"size\":4.0,\n",
       "\"data\":{\n",
       "}\n",
       "}],\n",
       "\"metainfo_list\":[],\n",
       "\"spec_id\":\"32\"\n",
       "};\n",
       "               window.letsPlotCall(function() {\n",
       "       \n",
       "               var toolbar = null;\n",
       "               var plotContainer = containerDiv;               \n",
       "               \n",
       "                   var options = {\n",
       "                       sizing: {\n",
       "                           width_mode: \"min\",\n",
       "                           height_mode: \"scaled\",\n",
       "                           width: width\n",
       "                       }\n",
       "                   };\n",
       "                   var fig = LetsPlot.buildPlotFromProcessedSpecs(plotSpec, -1, -1, plotContainer, options);\n",
       "                   if (toolbar) {\n",
       "                     toolbar.bind(fig);\n",
       "                   }\n",
       "               });\n",
       "               \n",
       "               break;\n",
       "           }\n",
       "       }\n",
       "   });\n",
       "   \n",
       "   observer.observe(containerDiv);\n",
       "   \n",
       "   // ----------\n",
       "   })();\n",
       "   \n",
       "   </script>"
      ],
      "text/plain": [
       "<lets_plot.plot.core.PlotSpec at 0x29762105d90>"
      ]
     },
     "metadata": {},
     "output_type": "display_data"
    },
    {
     "name": "stdout",
     "output_type": "stream",
     "text": [
      "Clustering with Chi Square Distance:\n",
      "  Cluster Centers: [[10.0, 3.0], [1.0, 1.0], [1.0, 4.0], [4.0, 3.0], [7.0, 0.0]]\n",
      "  Clusters: [[6, 7], [0, 2], [1], [3, 4], [5, 8]]\n",
      "\n"
     ]
    },
    {
     "data": {
      "text/html": [
       "   <div id=\"z1iwic\"></div>\n",
       "   <script type=\"text/javascript\" data-lets-plot-script=\"plot\">\n",
       "   \n",
       "   (function() {\n",
       "   // ----------\n",
       "   \n",
       "   var containerDiv = document.getElementById(\"z1iwic\");\n",
       "   var observer = new ResizeObserver(function(entries) {\n",
       "       for (let entry of entries) {\n",
       "           var width = containerDiv.clientWidth\n",
       "           if (entry.contentBoxSize && width > 0) {\n",
       "           \n",
       "               // Render plot\n",
       "               if (observer) {\n",
       "                   observer.disconnect();\n",
       "                   observer = null;\n",
       "               }\n",
       "\n",
       "               var plotSpec={\n",
       "\"data\":{\n",
       "\"x\":[10.0,10.0,1.0,1.0,1.0,4.0,4.0,4.0,10.0],\n",
       "\"y\":[2.0,4.0,2.0,0.0,4.0,2.0,4.0,0.0,0.0],\n",
       "\"label\":[0.0,0.0,1.0,1.0,2.0,3.0,3.0,4.0,4.0]\n",
       "},\n",
       "\"mapping\":{\n",
       "\"x\":\"x\",\n",
       "\"y\":\"y\",\n",
       "\"color\":\"label\"\n",
       "},\n",
       "\"data_meta\":{\n",
       "\"series_annotations\":[{\n",
       "\"type\":\"int\",\n",
       "\"column\":\"x\"\n",
       "},{\n",
       "\"type\":\"int\",\n",
       "\"column\":\"y\"\n",
       "},{\n",
       "\"type\":\"int\",\n",
       "\"column\":\"label\"\n",
       "}]\n",
       "},\n",
       "\"ggtitle\":{\n",
       "\"text\":\"Clusters using Chi Square Distance\"\n",
       "},\n",
       "\"theme\":{\n",
       "\"name\":\"minimal\"\n",
       "},\n",
       "\"kind\":\"plot\",\n",
       "\"scales\":[{\n",
       "\"name\":\"Cluster\",\n",
       "\"aesthetic\":\"color\",\n",
       "\"discrete\":true\n",
       "}],\n",
       "\"layers\":[{\n",
       "\"geom\":\"point\",\n",
       "\"mapping\":{\n",
       "},\n",
       "\"data_meta\":{\n",
       "},\n",
       "\"size\":4.0,\n",
       "\"data\":{\n",
       "}\n",
       "}],\n",
       "\"metainfo_list\":[],\n",
       "\"spec_id\":\"33\"\n",
       "};\n",
       "               window.letsPlotCall(function() {\n",
       "       \n",
       "               var toolbar = null;\n",
       "               var plotContainer = containerDiv;               \n",
       "               \n",
       "                   var options = {\n",
       "                       sizing: {\n",
       "                           width_mode: \"min\",\n",
       "                           height_mode: \"scaled\",\n",
       "                           width: width\n",
       "                       }\n",
       "                   };\n",
       "                   var fig = LetsPlot.buildPlotFromProcessedSpecs(plotSpec, -1, -1, plotContainer, options);\n",
       "                   if (toolbar) {\n",
       "                     toolbar.bind(fig);\n",
       "                   }\n",
       "               });\n",
       "               \n",
       "               break;\n",
       "           }\n",
       "       }\n",
       "   });\n",
       "   \n",
       "   observer.observe(containerDiv);\n",
       "   \n",
       "   // ----------\n",
       "   })();\n",
       "   \n",
       "   </script>"
      ],
      "text/plain": [
       "<lets_plot.plot.core.PlotSpec at 0x29761f5d590>"
      ]
     },
     "metadata": {},
     "output_type": "display_data"
    },
    {
     "name": "stdout",
     "output_type": "stream",
     "text": [
      "Clustering with Manhattan Distance:\n",
      "  Cluster Centers: [[10.0, 3.0], [1.0, 1.0], [1.0, 4.0], [4.0, 2.0], [10.0, 0.0]]\n",
      "  Clusters: [[6, 7], [0, 2], [1], [3, 4, 5], [8]]\n",
      "\n"
     ]
    },
    {
     "data": {
      "text/html": [
       "   <div id=\"h88SBL\"></div>\n",
       "   <script type=\"text/javascript\" data-lets-plot-script=\"plot\">\n",
       "   \n",
       "   (function() {\n",
       "   // ----------\n",
       "   \n",
       "   var containerDiv = document.getElementById(\"h88SBL\");\n",
       "   var observer = new ResizeObserver(function(entries) {\n",
       "       for (let entry of entries) {\n",
       "           var width = containerDiv.clientWidth\n",
       "           if (entry.contentBoxSize && width > 0) {\n",
       "           \n",
       "               // Render plot\n",
       "               if (observer) {\n",
       "                   observer.disconnect();\n",
       "                   observer = null;\n",
       "               }\n",
       "\n",
       "               var plotSpec={\n",
       "\"data\":{\n",
       "\"x\":[10.0,10.0,1.0,1.0,1.0,4.0,4.0,4.0,10.0],\n",
       "\"y\":[2.0,4.0,2.0,0.0,4.0,2.0,4.0,0.0,0.0],\n",
       "\"label\":[0.0,0.0,1.0,1.0,2.0,3.0,3.0,3.0,4.0]\n",
       "},\n",
       "\"mapping\":{\n",
       "\"x\":\"x\",\n",
       "\"y\":\"y\",\n",
       "\"color\":\"label\"\n",
       "},\n",
       "\"data_meta\":{\n",
       "\"series_annotations\":[{\n",
       "\"type\":\"int\",\n",
       "\"column\":\"x\"\n",
       "},{\n",
       "\"type\":\"int\",\n",
       "\"column\":\"y\"\n",
       "},{\n",
       "\"type\":\"int\",\n",
       "\"column\":\"label\"\n",
       "}]\n",
       "},\n",
       "\"ggtitle\":{\n",
       "\"text\":\"Clusters using Manhattan Distance\"\n",
       "},\n",
       "\"theme\":{\n",
       "\"name\":\"minimal\"\n",
       "},\n",
       "\"kind\":\"plot\",\n",
       "\"scales\":[{\n",
       "\"name\":\"Cluster\",\n",
       "\"aesthetic\":\"color\",\n",
       "\"discrete\":true\n",
       "}],\n",
       "\"layers\":[{\n",
       "\"geom\":\"point\",\n",
       "\"mapping\":{\n",
       "},\n",
       "\"data_meta\":{\n",
       "},\n",
       "\"size\":4.0,\n",
       "\"data\":{\n",
       "}\n",
       "}],\n",
       "\"metainfo_list\":[],\n",
       "\"spec_id\":\"34\"\n",
       "};\n",
       "               window.letsPlotCall(function() {\n",
       "       \n",
       "               var toolbar = null;\n",
       "               var plotContainer = containerDiv;               \n",
       "               \n",
       "                   var options = {\n",
       "                       sizing: {\n",
       "                           width_mode: \"min\",\n",
       "                           height_mode: \"scaled\",\n",
       "                           width: width\n",
       "                       }\n",
       "                   };\n",
       "                   var fig = LetsPlot.buildPlotFromProcessedSpecs(plotSpec, -1, -1, plotContainer, options);\n",
       "                   if (toolbar) {\n",
       "                     toolbar.bind(fig);\n",
       "                   }\n",
       "               });\n",
       "               \n",
       "               break;\n",
       "           }\n",
       "       }\n",
       "   });\n",
       "   \n",
       "   observer.observe(containerDiv);\n",
       "   \n",
       "   // ----------\n",
       "   })();\n",
       "   \n",
       "   </script>"
      ],
      "text/plain": [
       "<lets_plot.plot.core.PlotSpec at 0x29762170e90>"
      ]
     },
     "metadata": {},
     "output_type": "display_data"
    }
   ],
   "source": [
    "X_list = [[1, 2], [1, 4], [1, 0], [4, 2], [4, 4], [4, 0], [10, 2], [10, 4], [10, 0]]\n",
    "\n",
    "metrics = [\n",
    "    ('Squared Euclidean', distance_metric(type_metric.EUCLIDEAN_SQUARE)),\n",
    "    ('Chi Square', distance_metric(type_metric.CHI_SQUARE)),\n",
    "    ('Manhattan', distance_metric(type_metric.MANHATTAN))\n",
    "]\n",
    "\n",
    "for metric_name, metric in metrics:\n",
    "    print(f\"Clustering with {metric_name} Distance:\")\n",
    "\n",
    "    initial_centers = random_center_initializer(X_list, 5, random_state=0).initialize()\n",
    "\n",
    "    kmeans_instance = kmeans(X_list, initial_centers=initial_centers, metric=metric)\n",
    "    kmeans_instance.process()\n",
    "    \n",
    "    centers = kmeans_instance.get_centers()\n",
    "    clusters = kmeans_instance.get_clusters()\n",
    "    \n",
    "    print(f\"  Cluster Centers: {centers}\")\n",
    "    print(f\"  Clusters: {clusters}\\n\")\n",
    "\n",
    "    cluster_data = []\n",
    "    for cluster_idx, cluster in enumerate(clusters):\n",
    "        for point_idx in cluster:\n",
    "            x, y = X_list[point_idx]\n",
    "            cluster_data.append({'x': x, 'y': y, 'label': cluster_idx})\n",
    "    center_data = [{'x': center[0], 'y': center[1], 'label': f'C{idx}'} for idx, center in enumerate(centers)]\n",
    "    \n",
    "    # Convert to dataframes for plotting\n",
    "    cluster_df = pd.DataFrame(cluster_data)\n",
    "    center_df = pd.DataFrame(center_data)\n",
    "    \n",
    "    # Plot clusters and centers\n",
    "    plot = (ggplot(cluster_df, aes('x', 'y', color='label'))\n",
    "            + geom_point(size=4)\n",
    "            + scale_color_discrete(name='Cluster')\n",
    "            + ggtitle(f'Clusters using {metric_name} Distance')\n",
    "            + theme_minimal()\n",
    "           )\n",
    "    display(plot)"
   ]
  },
  {
   "cell_type": "markdown",
   "metadata": {},
   "source": [
    "Choosing the right distance metric is an important step in using clustering algorithms like KMeans. The choice depends on the type of data you're working with (continuous, categorical, or binary), its inherent structure and relationships within your data and the specific requirements of your problem."
   ]
  },
  {
   "cell_type": "markdown",
   "metadata": {},
   "source": [
    "## Descriptive Regression model\n",
    "Regression models estimate the relationship between an outcome (\\(y\\)) and input variables (\\(x\\)), represented as the conditional distribution \\(p(y \\mid x)\\). While these models are often used for prediction, they also play a crucial **descriptive role** by summarizing and explaining patterns in data.\n",
    "1. **Individual-Level Insights**: Regression provides predictions for \\(y\\) based on an individual's specific characteristics (\\(x\\)).\n",
    "2. **Population-Level Insights**: Regression can be combined with external data about the distribution of \\(x\\) to make broader inferences. This approach, known as **poststratification**, estimates outcomes for subgroups in a population and aggregates them to describe overall trends.\n",
    "\n",
    "**Example: Voting Behavior**\n",
    "- **Objective**: Study voting likelihood based on demographics such as age, income, and education.\n",
    "- **Insights**: The model describes how the likelihood of voting changes with these variables.\n",
    "- **Application**: By combining the model with demographic data for a region, it can estimate overall voter turnout by aggregating predictions for different subgroups.\n",
    "\n",
    "\n",
    "### Metrics for Evaluating Regression Models\n",
    "\n",
    "While predictive linear regression focuses on forecasting outcomes by finding a model that minimizes prediction errors (often evaluated using metrics like Mean Squared Error (MSE)), for descriptive models there exist various other evaluation metrics that measure the goodness-of-fit and interpretability of the regression model:"
   ]
  },
  {
   "cell_type": "markdown",
   "metadata": {},
   "source": [
    "#### 1. R-squared (R²): To Assess Model Fit\n",
    "R² represents the proportion of the variance in the dependent variable that is explained by the independent variables:\n",
    "\n",
    "$R^2 = 1 - \\frac{SS_{\\text{residual}}}{SS_{\\text{total}}}$, where:\n",
    "\n",
    "  - $SS_{\\text{residual}}$ is the sum of squared residuals.\n",
    "  - $SS_{\\text{total}}$ is the total sum of squares (variation in the dependent variable).\n",
    "  \n",
    "**Interpretation**: \n",
    "\n",
    "Higher R² values indicate that the model explains a large portion of the variance.\n",
    "\n",
    "**Limitations**:\n",
    "\n",
    "R² alone doesn't indicate model quality—it's possible to have a high R² but a poor model if the assumptions of regression aren't met.\n",
    "\n",
    "#### 2. Adjusted R-squared: To Account for Model Complexity\n",
    "The Adjusted R² adjusts R² for the number of predictors in the model, preventing overestimation of explanatory power as more variables are added.\n",
    "\n",
    "**Formula**:\n",
    "\n",
    "$\\text{Adjusted } R^2 = 1 - \\left(1 - R^2\\right)\\frac{n - 1}{n - p - 1}$, where:\n",
    "\n",
    "  - $n$ is the number of data points.\n",
    "  - $p$ is the number of predictors.\n",
    "\n",
    "**Interpretation**:\n",
    "\n",
    "A higher adjusted R² indicates that the predictors are explaining more of the variance in the dependent variable, adjusted for the number of predictors.\n",
    "\n",
    "#### 3. F-statistic: To Check the Overall Significance of the Model\n",
    "The F-statistic tests the null hypothesis that all regression coefficients are equal to zero, indicating no relationship between the independent variables and the dependent variable:\n",
    "\n",
    "$F = \\frac{(\\text{Explained Variance}) / p}{(\\text{Residual Variance}) / (n - p - 1)}$, where:\n",
    "\n",
    "  - $p$ is the number of predictors.\n",
    "  - $n$ is the number of observations.\n",
    "\n",
    "**Interpretation**: \n",
    "\n",
    "A _significant F-statistic_ (p-value < 0.05) indicates that at least one of the independent variables has a statistically significant relationship with the dependent variable.\n",
    "\n",
    "#### 4. Coefficients & p-values: To Understand the Magnitude and Significance of Individual Predictors\n",
    "**Coefficients**: Represent the change in the dependent variable for a one-unit change in the predictor variable, assuming all other variables are held constant: A large coefficient indicates a strong influence of the predictor on the dependent variable.\n",
    "\n",
    "**p-values**: Test the null hypothesis that the coefficient is equal to zero (no effect). A p-value less than 0.05 suggests that the predictor is statistically significant.\n",
    "  \n",
    "#### 5. Residual Analysis: To Ensure the Assumptions of Regression Are Met\n",
    "**Residuals** are the differences between observed and predicted values. Analyzing them helps ensure that the assumptions of regression are satisfied.\n",
    "  - **Linearity**: Check if the relationship between predictors and the dependent variable is linear.\n",
    "  - **Homoscedasticity**: Residuals should have constant variance across all levels of the independent variables (no funneling effect).\n",
    "  - **Independence**: Residuals should not be correlated with each other (i.e., no autocorrelation).\n",
    "- **Tools**:\n",
    "  - **Residual plots**: For checking linearity and homoscedasticity.\n",
    "  - **Q-Q plots**: To assess the normality of residuals.\n",
    "\n",
    "#### 6. AIC (Akaike Information Criterion) and BIC (Bayesian Information Criterion): For Model Comparison\n",
    "**AIC**: Measures the trade-off between the goodness of fit and the complexity of the model (penalizing for more predictors).\n",
    "\n",
    "$\\text{AIC} = 2k - 2 \\ln(L)$, where:\n",
    "\n",
    "  - $k$ is the number of parameters (predictors).\n",
    "  - $L$ is the likelihood of the model.\n",
    "\n",
    "**Interpretation**:\n",
    "\n",
    "Lower AIC values indicate better models. AIC helps to compare models with different numbers of predictors.\n",
    "  \n",
    "**BIC**: Similar to AIC, but applies a stronger penalty for adding predictors, particularly when the sample size is large.\n",
    "\n",
    "$\\text{BIC} = \\ln(n)k - 2 \\ln(L)$, where:\n",
    "    - $n$ is the number of data points.\n",
    "    - $k$ is the number of predictors.\n",
    "    - $L$ is the likelihood of the model.\n",
    "\n",
    "**Interpretation**:\n",
    "\n",
    "Like AIC, a lower BIC is better, but BIC favors simpler models compared to AIC, especially in large datasets.  These criteria help assess how well the model explains the data while accounting for the number of predictors, avoiding unnecessary complexity."
   ]
  },
  {
   "cell_type": "markdown",
   "metadata": {},
   "source": [
    "#### Summary:\n",
    "- **R² and Adjusted R²**: Used to assess how well the model fits the data and how much variance is explained.\n",
    "- **F-statistic**: Tests if at least one of the predictors is significant.\n",
    "- **Coefficients & p-values**: Helps interpret the magnitude and statistical significance of individual predictors.\n",
    "- **Residual Analysis**: Ensures the assumptions of regression (linearity, homoscedasticity, independence) are met.\n",
    "- **AIC/BIC**: Used for model comparison, penalizing for overfitting.\n",
    "\n",
    "These metrics provide a thorough understanding of how well a regression model fits the data, explains relationships, and ensures the validity of the model's assumptions.\n"
   ]
  },
  {
   "cell_type": "code",
   "execution_count": null,
   "metadata": {},
   "outputs": [],
   "source": [
    "# code example here\n",
    "\n",
    "# include exercise on some metrices"
   ]
  },
  {
   "cell_type": "markdown",
   "metadata": {},
   "source": [
    "## PCA: \n",
    "\n",
    "Apply PCA on a high-dimensional dataset and show how it simplifies data visualization.\n",
    "\n",
    "## Association Rule Mining: \n",
    "\n",
    "Use a small transactional dataset to find simple association rules (e.g., with the mlxtend library)."
   ]
  },
  {
   "cell_type": "markdown",
   "metadata": {},
   "source": [
    "<img src=\"https://raw.githubusercontent.com/vhaus63/ids_data/main/ao_modeling.png\" style=\"width:80%\" />"
   ]
  },
  {
   "cell_type": "markdown",
   "metadata": {
    "id": "5drq6GDbydz1",
    "slideshow": {
     "slide_type": "slide"
    }
   },
   "source": [
    "## Wrapping up\n",
    "\n",
    "In this lecture we learned how to build powerful machine learning models leveraging numerical as well as categorical variables. Additionally, we learned about model pipelines which are helpful for creating reproducible and understandable code.\n",
    "\n",
    "To keep improving, view the [scikit-learn documentation](https://scikit-learn.org/stable/) and keep working on your own projects!"
   ]
  }
 ],
 "metadata": {
  "celltoolbar": "Slideshow",
  "kernelspec": {
   "display_name": "Python 3 (ipykernel)",
   "language": "python",
   "name": "python3"
  },
  "language_info": {
   "codemirror_mode": {
    "name": "ipython",
    "version": 3
   },
   "file_extension": ".py",
   "mimetype": "text/x-python",
   "name": "python",
   "nbconvert_exporter": "python",
   "pygments_lexer": "ipython3",
   "version": "3.11.0"
  },
  "rise": {
   "custom_css": "./rise.css",
   "enable_chalkboard": false,
   "overlay": "<div class='background'></div><div class='header'>Introduction to Data Science (IDS)</div><div class='logo'><img src='images/d3logo.png'></div><div class='bar'></div>",
   "scroll": true,
   "slideNumber": true,
   "start_slideshow_at": "selected"
  },
  "varInspector": {
   "cols": {
    "lenName": 16,
    "lenType": 16,
    "lenVar": 40
   },
   "kernels_config": {
    "python": {
     "delete_cmd_postfix": "",
     "delete_cmd_prefix": "del ",
     "library": "var_list.py",
     "varRefreshCmd": "print(var_dic_list())"
    },
    "r": {
     "delete_cmd_postfix": ") ",
     "delete_cmd_prefix": "rm(",
     "library": "var_list.r",
     "varRefreshCmd": "cat(var_dic_list()) "
    }
   },
   "types_to_exclude": [
    "module",
    "function",
    "builtin_function_or_method",
    "instance",
    "_Feature"
   ],
   "window_display": false
  }
 },
 "nbformat": 4,
 "nbformat_minor": 1
}
